{
 "cells": [
  {
   "cell_type": "markdown",
   "metadata": {},
   "source": [
    "# Using turicreate for easy ML on SEEG dataset\n",
    "\n",
    "For example, one thing that makes it easy is that turicreate automagically creates dummy variables for categorical features."
   ]
  },
  {
   "cell_type": "code",
   "execution_count": 194,
   "metadata": {},
   "outputs": [],
   "source": [
    "import turicreate as tc\n",
    "import numpy as np\n",
    "import matplotlib.pyplot as plt\n",
    "%matplotlib inline"
   ]
  },
  {
   "cell_type": "markdown",
   "metadata": {},
   "source": [
    "## Reading cleaned data"
   ]
  },
  {
   "cell_type": "code",
   "execution_count": 84,
   "metadata": {},
   "outputs": [
    {
     "data": {
      "text/html": [
       "<pre>Finished parsing file /Users/pieter/Dropbox/Data Science/Machine_Learning_iOS_Dev/turicreate-pk/electrodes_clean.csv</pre>"
      ],
      "text/plain": [
       "Finished parsing file /Users/pieter/Dropbox/Data Science/Machine_Learning_iOS_Dev/turicreate-pk/electrodes_clean.csv"
      ]
     },
     "metadata": {},
     "output_type": "display_data"
    },
    {
     "data": {
      "text/html": [
       "<pre>Parsing completed. Parsed 100 lines in 0.035029 secs.</pre>"
      ],
      "text/plain": [
       "Parsing completed. Parsed 100 lines in 0.035029 secs."
      ]
     },
     "metadata": {},
     "output_type": "display_data"
    },
    {
     "name": "stdout",
     "output_type": "stream",
     "text": [
      "------------------------------------------------------\n",
      "Inferred types from first 100 line(s) of file as \n",
      "column_type_hints=[str,float,str,float,float,float,float,float,float,float,float,float,float,float,float,float,float,str]\n",
      "If parsing fails due to incorrect types, you can correct\n",
      "the inferred type list above and pass it to read_csv in\n",
      "the column_type_hints argument\n",
      "------------------------------------------------------\n"
     ]
    },
    {
     "data": {
      "text/html": [
       "<pre>Finished parsing file /Users/pieter/Dropbox/Data Science/Machine_Learning_iOS_Dev/turicreate-pk/electrodes_clean.csv</pre>"
      ],
      "text/plain": [
       "Finished parsing file /Users/pieter/Dropbox/Data Science/Machine_Learning_iOS_Dev/turicreate-pk/electrodes_clean.csv"
      ]
     },
     "metadata": {},
     "output_type": "display_data"
    },
    {
     "data": {
      "text/html": [
       "<pre>Parsing completed. Parsed 860 lines in 0.011321 secs.</pre>"
      ],
      "text/plain": [
       "Parsing completed. Parsed 860 lines in 0.011321 secs."
      ]
     },
     "metadata": {},
     "output_type": "display_data"
    },
    {
     "data": {
      "text/html": [
       "<pre>Materializing SFrame...</pre>"
      ],
      "text/plain": [
       "Materializing SFrame..."
      ]
     },
     "metadata": {},
     "output_type": "display_data"
    },
    {
     "data": {
      "text/html": [
       "<pre>Done.</pre>"
      ],
      "text/plain": [
       "Done."
      ]
     },
     "metadata": {},
     "output_type": "display_data"
    }
   ],
   "source": [
    "sf = tc.SFrame.read_csv('electrodes_clean.csv')\n",
    "sf.explore() # in GUI\n",
    "\n",
    "# optional save to SFrame\n",
    "# sf = tc.SFrame('electrodes_clean.sframe')"
   ]
  },
  {
   "cell_type": "markdown",
   "metadata": {},
   "source": [
    "## Preparing data\n",
    "\n",
    "We cannot have both TPLE and TPLE category in same set or results will be biased. So create two data sets: one for regression (removing TPLE category as feature) and one for classification (removing TPLE as feature).\n",
    "\n",
    "Regarding the final (automatically selected) model:\n",
    "- `<model>.summary()` summarizes the model parameters\n",
    "- `<model>.features` shows which features have been included (= all selected for model building)"
   ]
  },
  {
   "cell_type": "code",
   "execution_count": 111,
   "metadata": {},
   "outputs": [],
   "source": [
    "sf_reg   = sf.remove_column('TPLE category')\n",
    "sf_class = sf.remove_column('TPLE')"
   ]
  },
  {
   "cell_type": "markdown",
   "metadata": {},
   "source": [
    "## Regression approach"
   ]
  },
  {
   "cell_type": "code",
   "execution_count": 112,
   "metadata": {},
   "outputs": [
    {
     "name": "stdout",
     "output_type": "stream",
     "text": [
      "PROGRESS: Creating a validation set from 5 percent of training data. This may take a while.\n",
      "          You can set ``validation_set=None`` to disable validation tracking.\n",
      "\n"
     ]
    },
    {
     "data": {
      "text/html": [
       "<pre>Boosted trees regression:</pre>"
      ],
      "text/plain": [
       "Boosted trees regression:"
      ]
     },
     "metadata": {},
     "output_type": "display_data"
    },
    {
     "data": {
      "text/html": [
       "<pre>--------------------------------------------------------</pre>"
      ],
      "text/plain": [
       "--------------------------------------------------------"
      ]
     },
     "metadata": {},
     "output_type": "display_data"
    },
    {
     "data": {
      "text/html": [
       "<pre>Number of examples          : 653</pre>"
      ],
      "text/plain": [
       "Number of examples          : 653"
      ]
     },
     "metadata": {},
     "output_type": "display_data"
    },
    {
     "data": {
      "text/html": [
       "<pre>Number of features          : 16</pre>"
      ],
      "text/plain": [
       "Number of features          : 16"
      ]
     },
     "metadata": {},
     "output_type": "display_data"
    },
    {
     "data": {
      "text/html": [
       "<pre>Number of unpacked features : 16</pre>"
      ],
      "text/plain": [
       "Number of unpacked features : 16"
      ]
     },
     "metadata": {},
     "output_type": "display_data"
    },
    {
     "data": {
      "text/html": [
       "<pre>+-----------+--------------+--------------------+----------------------+---------------+-----------------+</pre>"
      ],
      "text/plain": [
       "+-----------+--------------+--------------------+----------------------+---------------+-----------------+"
      ]
     },
     "metadata": {},
     "output_type": "display_data"
    },
    {
     "data": {
      "text/html": [
       "<pre>| Iteration | Elapsed Time | Training-max_error | Validation-max_error | Training-rmse | Validation-rmse |</pre>"
      ],
      "text/plain": [
       "| Iteration | Elapsed Time | Training-max_error | Validation-max_error | Training-rmse | Validation-rmse |"
      ]
     },
     "metadata": {},
     "output_type": "display_data"
    },
    {
     "data": {
      "text/html": [
       "<pre>+-----------+--------------+--------------------+----------------------+---------------+-----------------+</pre>"
      ],
      "text/plain": [
       "+-----------+--------------+--------------------+----------------------+---------------+-----------------+"
      ]
     },
     "metadata": {},
     "output_type": "display_data"
    },
    {
     "data": {
      "text/html": [
       "<pre>| 1         | 0.010024     | 16.889999          | 8.588558             | 2.877870      | 3.128701        |</pre>"
      ],
      "text/plain": [
       "| 1         | 0.010024     | 16.889999          | 8.588558             | 2.877870      | 3.128701        |"
      ]
     },
     "metadata": {},
     "output_type": "display_data"
    },
    {
     "data": {
      "text/html": [
       "<pre>| 2         | 0.017893     | 14.356499          | 8.330094             | 2.335031      | 2.634117        |</pre>"
      ],
      "text/plain": [
       "| 2         | 0.017893     | 14.356499          | 8.330094             | 2.335031      | 2.634117        |"
      ]
     },
     "metadata": {},
     "output_type": "display_data"
    },
    {
     "data": {
      "text/html": [
       "<pre>| 3         | 0.024582     | 12.214850          | 8.085856             | 1.954499      | 2.338607        |</pre>"
      ],
      "text/plain": [
       "| 3         | 0.024582     | 12.214850          | 8.085856             | 1.954499      | 2.338607        |"
      ]
     },
     "metadata": {},
     "output_type": "display_data"
    },
    {
     "data": {
      "text/html": [
       "<pre>| 4         | 0.032202     | 10.323213          | 7.867498             | 1.653496      | 2.110311        |</pre>"
      ],
      "text/plain": [
       "| 4         | 0.032202     | 10.323213          | 7.867498             | 1.653496      | 2.110311        |"
      ]
     },
     "metadata": {},
     "output_type": "display_data"
    },
    {
     "data": {
      "text/html": [
       "<pre>| 5         | 0.039163     | 8.832760           | 7.744569             | 1.459051      | 2.070699        |</pre>"
      ],
      "text/plain": [
       "| 5         | 0.039163     | 8.832760           | 7.744569             | 1.459051      | 2.070699        |"
      ]
     },
     "metadata": {},
     "output_type": "display_data"
    },
    {
     "data": {
      "text/html": [
       "<pre>| 6         | 0.046199     | 7.507846           | 7.660192             | 1.331713      | 2.019974        |</pre>"
      ],
      "text/plain": [
       "| 6         | 0.046199     | 7.507846           | 7.660192             | 1.331713      | 2.019974        |"
      ]
     },
     "metadata": {},
     "output_type": "display_data"
    },
    {
     "data": {
      "text/html": [
       "<pre>+-----------+--------------+--------------------+----------------------+---------------+-----------------+</pre>"
      ],
      "text/plain": [
       "+-----------+--------------+--------------------+----------------------+---------------+-----------------+"
      ]
     },
     "metadata": {},
     "output_type": "display_data"
    }
   ],
   "source": [
    "sf_reg_train, sf_reg_test = sf_reg.random_split(0.8)\n",
    "reg_model = tc.regression.create(sf_reg_train, target = 'TPLE')"
   ]
  },
  {
   "cell_type": "code",
   "execution_count": 113,
   "metadata": {},
   "outputs": [
    {
     "data": {
      "text/plain": [
       "{'max_error': 14.209460735321045, 'rmse': 2.453981787261874}"
      ]
     },
     "execution_count": 113,
     "metadata": {},
     "output_type": "execute_result"
    }
   ],
   "source": [
    "reg_model.evaluate(sf_reg_test)"
   ]
  },
  {
   "cell_type": "code",
   "execution_count": 115,
   "metadata": {},
   "outputs": [
    {
     "name": "stdout",
     "output_type": "stream",
     "text": [
      "Class                          : BoostedTreesRegression\n",
      "\n",
      "Schema\n",
      "------\n",
      "Number of examples             : 653\n",
      "Number of feature columns      : 16\n",
      "Number of unpacked features    : 16\n",
      "\n",
      "Settings\n",
      "--------\n",
      "Number of trees                : 10\n",
      "Max tree depth                 : 6\n",
      "Training time (sec)            : 0.072\n",
      "Training rmse                  : 1.0384\n",
      "Validation rmse                : 1.9882\n",
      "Training max_error             : 5.0893\n",
      "Validation max_error           : 7.5279\n",
      "\n"
     ]
    }
   ],
   "source": [
    "reg_model.summary()"
   ]
  },
  {
   "cell_type": "markdown",
   "metadata": {},
   "source": [
    "## Classification approach"
   ]
  },
  {
   "cell_type": "markdown",
   "metadata": {},
   "source": [
    "### Multi-class solution\n",
    "\n",
    "Using TPLE category"
   ]
  },
  {
   "cell_type": "code",
   "execution_count": 122,
   "metadata": {},
   "outputs": [],
   "source": [
    "sf_class_train, sf_class_test = sf_class.random_split(0.8)"
   ]
  },
  {
   "cell_type": "code",
   "execution_count": 123,
   "metadata": {},
   "outputs": [
    {
     "name": "stdout",
     "output_type": "stream",
     "text": [
      "PROGRESS: Creating a validation set from 5 percent of training data. This may take a while.\n",
      "          You can set ``validation_set=None`` to disable validation tracking.\n",
      "\n",
      "PROGRESS: The following methods are available for this type of problem.\n",
      "PROGRESS: BoostedTreesClassifier, RandomForestClassifier, DecisionTreeClassifier, LogisticClassifier\n",
      "PROGRESS: The returned model will be chosen according to validation accuracy.\n"
     ]
    },
    {
     "data": {
      "text/html": [
       "<pre>Boosted trees classifier:</pre>"
      ],
      "text/plain": [
       "Boosted trees classifier:"
      ]
     },
     "metadata": {},
     "output_type": "display_data"
    },
    {
     "data": {
      "text/html": [
       "<pre>--------------------------------------------------------</pre>"
      ],
      "text/plain": [
       "--------------------------------------------------------"
      ]
     },
     "metadata": {},
     "output_type": "display_data"
    },
    {
     "data": {
      "text/html": [
       "<pre>Number of examples          : 642</pre>"
      ],
      "text/plain": [
       "Number of examples          : 642"
      ]
     },
     "metadata": {},
     "output_type": "display_data"
    },
    {
     "data": {
      "text/html": [
       "<pre>Number of classes           : 5</pre>"
      ],
      "text/plain": [
       "Number of classes           : 5"
      ]
     },
     "metadata": {},
     "output_type": "display_data"
    },
    {
     "data": {
      "text/html": [
       "<pre>Number of feature columns   : 16</pre>"
      ],
      "text/plain": [
       "Number of feature columns   : 16"
      ]
     },
     "metadata": {},
     "output_type": "display_data"
    },
    {
     "data": {
      "text/html": [
       "<pre>Number of unpacked features : 16</pre>"
      ],
      "text/plain": [
       "Number of unpacked features : 16"
      ]
     },
     "metadata": {},
     "output_type": "display_data"
    },
    {
     "data": {
      "text/html": [
       "<pre>+-----------+--------------+-------------------+---------------------+-------------------+---------------------+</pre>"
      ],
      "text/plain": [
       "+-----------+--------------+-------------------+---------------------+-------------------+---------------------+"
      ]
     },
     "metadata": {},
     "output_type": "display_data"
    },
    {
     "data": {
      "text/html": [
       "<pre>| Iteration | Elapsed Time | Training-accuracy | Validation-accuracy | Training-log_loss | Validation-log_loss |</pre>"
      ],
      "text/plain": [
       "| Iteration | Elapsed Time | Training-accuracy | Validation-accuracy | Training-log_loss | Validation-log_loss |"
      ]
     },
     "metadata": {},
     "output_type": "display_data"
    },
    {
     "data": {
      "text/html": [
       "<pre>+-----------+--------------+-------------------+---------------------+-------------------+---------------------+</pre>"
      ],
      "text/plain": [
       "+-----------+--------------+-------------------+---------------------+-------------------+---------------------+"
      ]
     },
     "metadata": {},
     "output_type": "display_data"
    },
    {
     "data": {
      "text/html": [
       "<pre>| 1         | 0.029589     | 0.747664          | 0.500000            | 1.299938          | 1.439662            |</pre>"
      ],
      "text/plain": [
       "| 1         | 0.029589     | 0.747664          | 0.500000            | 1.299938          | 1.439662            |"
      ]
     },
     "metadata": {},
     "output_type": "display_data"
    },
    {
     "data": {
      "text/html": [
       "<pre>| 2         | 0.053220     | 0.802181          | 0.500000            | 1.074125          | 1.346899            |</pre>"
      ],
      "text/plain": [
       "| 2         | 0.053220     | 0.802181          | 0.500000            | 1.074125          | 1.346899            |"
      ]
     },
     "metadata": {},
     "output_type": "display_data"
    },
    {
     "data": {
      "text/html": [
       "<pre>| 3         | 0.075981     | 0.811526          | 0.478261            | 0.937439          | 1.275376            |</pre>"
      ],
      "text/plain": [
       "| 3         | 0.075981     | 0.811526          | 0.478261            | 0.937439          | 1.275376            |"
      ]
     },
     "metadata": {},
     "output_type": "display_data"
    },
    {
     "data": {
      "text/html": [
       "<pre>| 4         | 0.098935     | 0.828660          | 0.500000            | 0.827948          | 1.247268            |</pre>"
      ],
      "text/plain": [
       "| 4         | 0.098935     | 0.828660          | 0.500000            | 0.827948          | 1.247268            |"
      ]
     },
     "metadata": {},
     "output_type": "display_data"
    },
    {
     "data": {
      "text/html": [
       "<pre>| 5         | 0.121740     | 0.848910          | 0.478261            | 0.738936          | 1.242491            |</pre>"
      ],
      "text/plain": [
       "| 5         | 0.121740     | 0.848910          | 0.478261            | 0.738936          | 1.242491            |"
      ]
     },
     "metadata": {},
     "output_type": "display_data"
    },
    {
     "data": {
      "text/html": [
       "<pre>| 6         | 0.146128     | 0.864486          | 0.456522            | 0.655975          | 1.229840            |</pre>"
      ],
      "text/plain": [
       "| 6         | 0.146128     | 0.864486          | 0.456522            | 0.655975          | 1.229840            |"
      ]
     },
     "metadata": {},
     "output_type": "display_data"
    },
    {
     "data": {
      "text/html": [
       "<pre>+-----------+--------------+-------------------+---------------------+-------------------+---------------------+</pre>"
      ],
      "text/plain": [
       "+-----------+--------------+-------------------+---------------------+-------------------+---------------------+"
      ]
     },
     "metadata": {},
     "output_type": "display_data"
    },
    {
     "data": {
      "text/html": [
       "<pre>Random forest classifier:</pre>"
      ],
      "text/plain": [
       "Random forest classifier:"
      ]
     },
     "metadata": {},
     "output_type": "display_data"
    },
    {
     "data": {
      "text/html": [
       "<pre>--------------------------------------------------------</pre>"
      ],
      "text/plain": [
       "--------------------------------------------------------"
      ]
     },
     "metadata": {},
     "output_type": "display_data"
    },
    {
     "data": {
      "text/html": [
       "<pre>Number of examples          : 642</pre>"
      ],
      "text/plain": [
       "Number of examples          : 642"
      ]
     },
     "metadata": {},
     "output_type": "display_data"
    },
    {
     "data": {
      "text/html": [
       "<pre>Number of classes           : 5</pre>"
      ],
      "text/plain": [
       "Number of classes           : 5"
      ]
     },
     "metadata": {},
     "output_type": "display_data"
    },
    {
     "data": {
      "text/html": [
       "<pre>Number of feature columns   : 16</pre>"
      ],
      "text/plain": [
       "Number of feature columns   : 16"
      ]
     },
     "metadata": {},
     "output_type": "display_data"
    },
    {
     "data": {
      "text/html": [
       "<pre>Number of unpacked features : 16</pre>"
      ],
      "text/plain": [
       "Number of unpacked features : 16"
      ]
     },
     "metadata": {},
     "output_type": "display_data"
    },
    {
     "data": {
      "text/html": [
       "<pre>+-----------+--------------+-------------------+---------------------+-------------------+---------------------+</pre>"
      ],
      "text/plain": [
       "+-----------+--------------+-------------------+---------------------+-------------------+---------------------+"
      ]
     },
     "metadata": {},
     "output_type": "display_data"
    },
    {
     "data": {
      "text/html": [
       "<pre>| Iteration | Elapsed Time | Training-accuracy | Validation-accuracy | Training-log_loss | Validation-log_loss |</pre>"
      ],
      "text/plain": [
       "| Iteration | Elapsed Time | Training-accuracy | Validation-accuracy | Training-log_loss | Validation-log_loss |"
      ]
     },
     "metadata": {},
     "output_type": "display_data"
    },
    {
     "data": {
      "text/html": [
       "<pre>+-----------+--------------+-------------------+---------------------+-------------------+---------------------+</pre>"
      ],
      "text/plain": [
       "+-----------+--------------+-------------------+---------------------+-------------------+---------------------+"
      ]
     },
     "metadata": {},
     "output_type": "display_data"
    },
    {
     "data": {
      "text/html": [
       "<pre>| 1         | 0.027882     | 0.721184          | 0.391304            | 0.907961          | 1.342106            |</pre>"
      ],
      "text/plain": [
       "| 1         | 0.027882     | 0.721184          | 0.391304            | 0.907961          | 1.342106            |"
      ]
     },
     "metadata": {},
     "output_type": "display_data"
    },
    {
     "data": {
      "text/html": [
       "<pre>| 2         | 0.049574     | 0.730530          | 0.478261            | 0.876542          | 1.338163            |</pre>"
      ],
      "text/plain": [
       "| 2         | 0.049574     | 0.730530          | 0.478261            | 0.876542          | 1.338163            |"
      ]
     },
     "metadata": {},
     "output_type": "display_data"
    },
    {
     "data": {
      "text/html": [
       "<pre>| 3         | 0.072152     | 0.741433          | 0.434783            | 0.846838          | 1.336017            |</pre>"
      ],
      "text/plain": [
       "| 3         | 0.072152     | 0.741433          | 0.434783            | 0.846838          | 1.336017            |"
      ]
     },
     "metadata": {},
     "output_type": "display_data"
    },
    {
     "data": {
      "text/html": [
       "<pre>| 4         | 0.093758     | 0.742991          | 0.434783            | 0.844381          | 1.303801            |</pre>"
      ],
      "text/plain": [
       "| 4         | 0.093758     | 0.742991          | 0.434783            | 0.844381          | 1.303801            |"
      ]
     },
     "metadata": {},
     "output_type": "display_data"
    },
    {
     "data": {
      "text/html": [
       "<pre>| 5         | 0.117028     | 0.747664          | 0.413043            | 0.836875          | 1.301310            |</pre>"
      ],
      "text/plain": [
       "| 5         | 0.117028     | 0.747664          | 0.413043            | 0.836875          | 1.301310            |"
      ]
     },
     "metadata": {},
     "output_type": "display_data"
    },
    {
     "data": {
      "text/html": [
       "<pre>| 6         | 0.139089     | 0.744548          | 0.413043            | 0.844208          | 1.287283            |</pre>"
      ],
      "text/plain": [
       "| 6         | 0.139089     | 0.744548          | 0.413043            | 0.844208          | 1.287283            |"
      ]
     },
     "metadata": {},
     "output_type": "display_data"
    },
    {
     "data": {
      "text/html": [
       "<pre>+-----------+--------------+-------------------+---------------------+-------------------+---------------------+</pre>"
      ],
      "text/plain": [
       "+-----------+--------------+-------------------+---------------------+-------------------+---------------------+"
      ]
     },
     "metadata": {},
     "output_type": "display_data"
    },
    {
     "data": {
      "text/html": [
       "<pre>Decision tree classifier:</pre>"
      ],
      "text/plain": [
       "Decision tree classifier:"
      ]
     },
     "metadata": {},
     "output_type": "display_data"
    },
    {
     "data": {
      "text/html": [
       "<pre>--------------------------------------------------------</pre>"
      ],
      "text/plain": [
       "--------------------------------------------------------"
      ]
     },
     "metadata": {},
     "output_type": "display_data"
    },
    {
     "data": {
      "text/html": [
       "<pre>Number of examples          : 642</pre>"
      ],
      "text/plain": [
       "Number of examples          : 642"
      ]
     },
     "metadata": {},
     "output_type": "display_data"
    },
    {
     "data": {
      "text/html": [
       "<pre>Number of classes           : 5</pre>"
      ],
      "text/plain": [
       "Number of classes           : 5"
      ]
     },
     "metadata": {},
     "output_type": "display_data"
    },
    {
     "data": {
      "text/html": [
       "<pre>Number of feature columns   : 16</pre>"
      ],
      "text/plain": [
       "Number of feature columns   : 16"
      ]
     },
     "metadata": {},
     "output_type": "display_data"
    },
    {
     "data": {
      "text/html": [
       "<pre>Number of unpacked features : 16</pre>"
      ],
      "text/plain": [
       "Number of unpacked features : 16"
      ]
     },
     "metadata": {},
     "output_type": "display_data"
    },
    {
     "data": {
      "text/html": [
       "<pre>+-----------+--------------+-------------------+---------------------+-------------------+---------------------+</pre>"
      ],
      "text/plain": [
       "+-----------+--------------+-------------------+---------------------+-------------------+---------------------+"
      ]
     },
     "metadata": {},
     "output_type": "display_data"
    },
    {
     "data": {
      "text/html": [
       "<pre>| Iteration | Elapsed Time | Training-accuracy | Validation-accuracy | Training-log_loss | Validation-log_loss |</pre>"
      ],
      "text/plain": [
       "| Iteration | Elapsed Time | Training-accuracy | Validation-accuracy | Training-log_loss | Validation-log_loss |"
      ]
     },
     "metadata": {},
     "output_type": "display_data"
    },
    {
     "data": {
      "text/html": [
       "<pre>+-----------+--------------+-------------------+---------------------+-------------------+---------------------+</pre>"
      ],
      "text/plain": [
       "+-----------+--------------+-------------------+---------------------+-------------------+---------------------+"
      ]
     },
     "metadata": {},
     "output_type": "display_data"
    },
    {
     "data": {
      "text/html": [
       "<pre>| 1         | 0.029922     | 0.747664          | 0.500000            | 0.840261          | 1.323202            |</pre>"
      ],
      "text/plain": [
       "| 1         | 0.029922     | 0.747664          | 0.500000            | 0.840261          | 1.323202            |"
      ]
     },
     "metadata": {},
     "output_type": "display_data"
    },
    {
     "data": {
      "text/html": [
       "<pre>+-----------+--------------+-------------------+---------------------+-------------------+---------------------+</pre>"
      ],
      "text/plain": [
       "+-----------+--------------+-------------------+---------------------+-------------------+---------------------+"
      ]
     },
     "metadata": {},
     "output_type": "display_data"
    },
    {
     "data": {
      "text/html": [
       "<pre>Logistic regression:</pre>"
      ],
      "text/plain": [
       "Logistic regression:"
      ]
     },
     "metadata": {},
     "output_type": "display_data"
    },
    {
     "data": {
      "text/html": [
       "<pre>--------------------------------------------------------</pre>"
      ],
      "text/plain": [
       "--------------------------------------------------------"
      ]
     },
     "metadata": {},
     "output_type": "display_data"
    },
    {
     "data": {
      "text/html": [
       "<pre>Number of examples          : 642</pre>"
      ],
      "text/plain": [
       "Number of examples          : 642"
      ]
     },
     "metadata": {},
     "output_type": "display_data"
    },
    {
     "data": {
      "text/html": [
       "<pre>Number of classes           : 5</pre>"
      ],
      "text/plain": [
       "Number of classes           : 5"
      ]
     },
     "metadata": {},
     "output_type": "display_data"
    },
    {
     "data": {
      "text/html": [
       "<pre>Number of feature columns   : 16</pre>"
      ],
      "text/plain": [
       "Number of feature columns   : 16"
      ]
     },
     "metadata": {},
     "output_type": "display_data"
    },
    {
     "data": {
      "text/html": [
       "<pre>Number of unpacked features : 16</pre>"
      ],
      "text/plain": [
       "Number of unpacked features : 16"
      ]
     },
     "metadata": {},
     "output_type": "display_data"
    },
    {
     "data": {
      "text/html": [
       "<pre>Number of coefficients      : 68</pre>"
      ],
      "text/plain": [
       "Number of coefficients      : 68"
      ]
     },
     "metadata": {},
     "output_type": "display_data"
    },
    {
     "data": {
      "text/html": [
       "<pre>Starting Newton Method</pre>"
      ],
      "text/plain": [
       "Starting Newton Method"
      ]
     },
     "metadata": {},
     "output_type": "display_data"
    },
    {
     "data": {
      "text/html": [
       "<pre>--------------------------------------------------------</pre>"
      ],
      "text/plain": [
       "--------------------------------------------------------"
      ]
     },
     "metadata": {},
     "output_type": "display_data"
    },
    {
     "data": {
      "text/html": [
       "<pre>+-----------+----------+--------------+-------------------+---------------------+</pre>"
      ],
      "text/plain": [
       "+-----------+----------+--------------+-------------------+---------------------+"
      ]
     },
     "metadata": {},
     "output_type": "display_data"
    },
    {
     "data": {
      "text/html": [
       "<pre>| Iteration | Passes   | Elapsed Time | Training-accuracy | Validation-accuracy |</pre>"
      ],
      "text/plain": [
       "| Iteration | Passes   | Elapsed Time | Training-accuracy | Validation-accuracy |"
      ]
     },
     "metadata": {},
     "output_type": "display_data"
    },
    {
     "data": {
      "text/html": [
       "<pre>+-----------+----------+--------------+-------------------+---------------------+</pre>"
      ],
      "text/plain": [
       "+-----------+----------+--------------+-------------------+---------------------+"
      ]
     },
     "metadata": {},
     "output_type": "display_data"
    },
    {
     "data": {
      "text/html": [
       "<pre>| 1         | 2        | 0.006840     | 0.582555          | 0.586957            |</pre>"
      ],
      "text/plain": [
       "| 1         | 2        | 0.006840     | 0.582555          | 0.586957            |"
      ]
     },
     "metadata": {},
     "output_type": "display_data"
    },
    {
     "data": {
      "text/html": [
       "<pre>| 2         | 3        | 0.013646     | 0.580997          | 0.630435            |</pre>"
      ],
      "text/plain": [
       "| 2         | 3        | 0.013646     | 0.580997          | 0.630435            |"
      ]
     },
     "metadata": {},
     "output_type": "display_data"
    },
    {
     "data": {
      "text/html": [
       "<pre>| 3         | 4        | 0.019890     | 0.585670          | 0.652174            |</pre>"
      ],
      "text/plain": [
       "| 3         | 4        | 0.019890     | 0.585670          | 0.652174            |"
      ]
     },
     "metadata": {},
     "output_type": "display_data"
    },
    {
     "data": {
      "text/html": [
       "<pre>| 4         | 5        | 0.026063     | 0.587227          | 0.652174            |</pre>"
      ],
      "text/plain": [
       "| 4         | 5        | 0.026063     | 0.587227          | 0.652174            |"
      ]
     },
     "metadata": {},
     "output_type": "display_data"
    },
    {
     "data": {
      "text/html": [
       "<pre>| 5         | 6        | 0.032472     | 0.587227          | 0.652174            |</pre>"
      ],
      "text/plain": [
       "| 5         | 6        | 0.032472     | 0.587227          | 0.652174            |"
      ]
     },
     "metadata": {},
     "output_type": "display_data"
    },
    {
     "data": {
      "text/html": [
       "<pre>| 6         | 7        | 0.038648     | 0.587227          | 0.652174            |</pre>"
      ],
      "text/plain": [
       "| 6         | 7        | 0.038648     | 0.587227          | 0.652174            |"
      ]
     },
     "metadata": {},
     "output_type": "display_data"
    },
    {
     "data": {
      "text/html": [
       "<pre>+-----------+----------+--------------+-------------------+---------------------+</pre>"
      ],
      "text/plain": [
       "+-----------+----------+--------------+-------------------+---------------------+"
      ]
     },
     "metadata": {},
     "output_type": "display_data"
    },
    {
     "name": "stdout",
     "output_type": "stream",
     "text": [
      "PROGRESS: Model selection based on validation accuracy:\n",
      "PROGRESS: ---------------------------------------------\n",
      "PROGRESS: BoostedTreesClassifier          : 0.45652174949645996\n",
      "PROGRESS: RandomForestClassifier          : 0.45652174949645996\n",
      "PROGRESS: DecisionTreeClassifier          : 0.5\n",
      "PROGRESS: LogisticClassifier              : 0.652174\n",
      "PROGRESS: ---------------------------------------------\n",
      "PROGRESS: Selecting LogisticClassifier based on validation set performance.\n"
     ]
    },
    {
     "data": {
      "text/html": [
       "<pre>SUCCESS: Optimal solution found.</pre>"
      ],
      "text/plain": [
       "SUCCESS: Optimal solution found."
      ]
     },
     "metadata": {},
     "output_type": "display_data"
    },
    {
     "data": {
      "text/html": [
       "<pre></pre>"
      ],
      "text/plain": []
     },
     "metadata": {},
     "output_type": "display_data"
    }
   ],
   "source": [
    "class_model = tc.classifier.create(sf_class_train, target = 'TPLE category')"
   ]
  },
  {
   "cell_type": "code",
   "execution_count": 175,
   "metadata": {},
   "outputs": [
    {
     "data": {
      "text/plain": [
       "{'accuracy': 0.5872093023255814,\n",
       " 'auc': 0.6144711849310336,\n",
       " 'confusion_matrix': Columns:\n",
       " \ttarget_label\tstr\n",
       " \tpredicted_label\tstr\n",
       " \tcount\tint\n",
       " \n",
       " Rows: 13\n",
       " \n",
       " Data:\n",
       " +--------------+-----------------+-------+\n",
       " | target_label | predicted_label | count |\n",
       " +--------------+-----------------+-------+\n",
       " |    5 - 10    |       > 10      |   2   |\n",
       " |    0 - 1     |      1 - 2      |   1   |\n",
       " |     > 10     |      1 - 2      |   1   |\n",
       " |    5 - 10    |      5 - 10     |   3   |\n",
       " |    2 - 5     |      2 - 5      |   96  |\n",
       " |    1 - 2     |      2 - 5      |   31  |\n",
       " |    5 - 10    |      2 - 5      |   17  |\n",
       " |    0 - 1     |      2 - 5      |   10  |\n",
       " |    1 - 2     |      1 - 2      |   2   |\n",
       " |     > 10     |      5 - 10     |   2   |\n",
       " +--------------+-----------------+-------+\n",
       " [13 rows x 3 columns]\n",
       " Note: Only the head of the SFrame is printed.\n",
       " You can use print_rows(num_rows=m, num_columns=n) to print more rows and columns.,\n",
       " 'f1_score': 0.2118482843362263,\n",
       " 'log_loss': 1.241136997120201,\n",
       " 'precision': 0.35904159132007235,\n",
       " 'recall': 0.2333333333333333,\n",
       " 'roc_curve': Columns:\n",
       " \tthreshold\tfloat\n",
       " \tfpr\tfloat\n",
       " \ttpr\tfloat\n",
       " \tp\tint\n",
       " \tn\tint\n",
       " \tclass\tint\n",
       " \n",
       " Rows: 500005\n",
       " \n",
       " Data:\n",
       " +-----------+-----+-----+----+-----+-------+\n",
       " | threshold | fpr | tpr | p  |  n  | class |\n",
       " +-----------+-----+-----+----+-----+-------+\n",
       " |    0.0    | 1.0 | 1.0 | 11 | 161 |   0   |\n",
       " |   1e-05   | 1.0 | 1.0 | 11 | 161 |   0   |\n",
       " |   2e-05   | 1.0 | 1.0 | 11 | 161 |   0   |\n",
       " |   3e-05   | 1.0 | 1.0 | 11 | 161 |   0   |\n",
       " |   4e-05   | 1.0 | 1.0 | 11 | 161 |   0   |\n",
       " |   5e-05   | 1.0 | 1.0 | 11 | 161 |   0   |\n",
       " |   6e-05   | 1.0 | 1.0 | 11 | 161 |   0   |\n",
       " |   7e-05   | 1.0 | 1.0 | 11 | 161 |   0   |\n",
       " |   8e-05   | 1.0 | 1.0 | 11 | 161 |   0   |\n",
       " |   9e-05   | 1.0 | 1.0 | 11 | 161 |   0   |\n",
       " +-----------+-----+-----+----+-----+-------+\n",
       " [500005 rows x 6 columns]\n",
       " Note: Only the head of the SFrame is printed.\n",
       " You can use print_rows(num_rows=m, num_columns=n) to print more rows and columns.}"
      ]
     },
     "execution_count": 175,
     "metadata": {},
     "output_type": "execute_result"
    }
   ],
   "source": [
    "metrics = class_model.evaluate(sf_class_test)\n",
    "metrics\n",
    "# metrics['confusion_matrix']"
   ]
  },
  {
   "cell_type": "code",
   "execution_count": 126,
   "metadata": {},
   "outputs": [
    {
     "name": "stdout",
     "output_type": "stream",
     "text": [
      "Class                          : LogisticClassifier\n",
      "\n",
      "Schema\n",
      "------\n",
      "Number of coefficients         : 68\n",
      "Number of examples             : 642\n",
      "Number of classes              : 5\n",
      "Number of feature columns      : 16\n",
      "Number of unpacked features    : 16\n",
      "\n",
      "Hyperparameters\n",
      "---------------\n",
      "L1 penalty                     : 0\n",
      "L2 penalty                     : 0.01\n",
      "\n",
      "Training Summary\n",
      "----------------\n",
      "Solver                         : newton\n",
      "Solver iterations              : 6\n",
      "Solver status                  : SUCCESS: Optimal solution found.\n",
      "Training time (sec)            : 0.042\n",
      "\n",
      "Settings\n",
      "--------\n",
      "Log-likelihood                 : 656.061\n",
      "\n",
      "Highest Positive Coefficients\n",
      "-----------------------------\n",
      "ElectrodeType[Orthogonal]      : 2.4113\n",
      "ElectrodeType[Orthogonal]      : 2.0806\n",
      "(intercept)                    : 1.6926\n",
      "ElectrodeType[Orthogonal]      : 1.1783\n",
      "ElectrodeType[Orthogonal]      : 1.1245\n",
      "\n",
      "Lowest Negative Coefficients\n",
      "----------------------------\n",
      "(intercept)                    : -5.2147\n",
      "(intercept)                    : -4.5131\n",
      "Contacts                       : -0.2277\n",
      "PlanningZ                      : -0.11\n",
      "SkullAngle                     : -0.0736\n",
      "\n"
     ]
    }
   ],
   "source": [
    "class_model.summary()"
   ]
  },
  {
   "cell_type": "markdown",
   "metadata": {},
   "source": [
    "### Binary solution\n",
    "\n",
    "Creating new column \"Deviated\" (yes/no) based on -arbitrary- cut off value."
   ]
  },
  {
   "cell_type": "code",
   "execution_count": 192,
   "metadata": {},
   "outputs": [],
   "source": [
    "# create new dataset - easier when experimenting with different cutoff values\n",
    "# remove column 'TPLE category' - otherwise we severely bias results\n",
    "sf_dev = sf_class.remove_column('TPLE category') \n",
    "\n",
    "def evaluate_classification_for_cutoff(value):\n",
    "    '''Creates dataframe with predefined cutoff value. \n",
    "    \n",
    "    Useful to play with different cutoffs. Value represents the deviation in mm.\n",
    "    Returns metrics of model'''\n",
    "    sf_dev['Deviated'] = sf['TPLE'].apply(lambda tple: 'yes' if tple > value else 'no')\n",
    "    sf_dev_train, sf_dev_test = sf_dev.random_split(0.8)\n",
    "    model = tc.classifier.create(sf_dev_train, target = 'Deviated', verbose = False)\n",
    "    metrics = model.evaluate(sf_dev_test)\n",
    "    return metrics\n",
    "    \n",
    "cutoff_values = [1.5, 2.0, 2.5, 3.0, 3.5, 4.0]\n",
    "results = {}\n",
    "\n",
    "for cv in cutoff_values:\n",
    "    metr = evaluate_classification_for_cutoff(cv)\n",
    "    results.update({cv: metr})"
   ]
  },
  {
   "cell_type": "code",
   "execution_count": 221,
   "metadata": {},
   "outputs": [
    {
     "name": "stdout",
     "output_type": "stream",
     "text": [
      "Cutoff 1.5 - Accuracy: 0.80  |  AUC: 0.50\n",
      "Cutoff 2.0 - Accuracy: 0.68  |  AUC: 0.71\n",
      "Cutoff 2.5 - Accuracy: 0.60  |  AUC: 0.60\n",
      "Cutoff 3.0 - Accuracy: 0.65  |  AUC: 0.68\n",
      "Cutoff 3.5 - Accuracy: 0.63  |  AUC: 0.64\n",
      "Cutoff 4.0 - Accuracy: 0.80  |  AUC: 0.70\n"
     ]
    },
    {
     "data": {
      "image/png": "[encoded data removed]",
      "text/plain": [
       "<Figure size 432x288 with 1 Axes>"
      ]
     },
     "metadata": {},
     "output_type": "display_data"
    }
   ],
   "source": [
    "plt.figure()\n",
    "for cutoff, metric in results.items():\n",
    "    acc = metric['accuracy']; auc = metric['auc']\n",
    "    print(f\"Cutoff {cutoff} - Accuracy: {acc:.2f}  |  AUC: {auc:.2f}\")\n",
    "    plt.plot(cutoff, acc, 'bo', label = 'Accuracy') # Accuracy in BLUE\n",
    "    plt.plot(cutoff, auc, 'ro', label = 'AUC') # AUC in RED"
   ]
  },
  {
   "cell_type": "code",
   "execution_count": null,
   "metadata": {},
   "outputs": [],
   "source": []
  }
 ],
 "metadata": {
  "kernelspec": {
   "display_name": "Python 3",
   "language": "python",
   "name": "python3"
  },
  "language_info": {
   "codemirror_mode": {
    "name": "ipython",
    "version": 3
   },
   "file_extension": ".py",
   "mimetype": "text/x-python",
   "name": "python",
   "nbconvert_exporter": "python",
   "pygments_lexer": "ipython3",
   "version": "3.6.6"
  }
 },
 "nbformat": 4,
 "nbformat_minor": 2
}
