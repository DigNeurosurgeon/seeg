{
 "cells": [
  {
   "cell_type": "markdown",
   "metadata": {},
   "source": [
    "# Comparing machine learning approaches to predict SEEG accuracy\n",
    "\n",
    "Stereoencephalography (SEEG) is a technique used in drug-resistant epilepsy patients that may be a candidate for surgical resection of the epileptogenic zone. Multiple electrodes are placed using a so-called \"frame based\" stereotactic approach, in our case using the [Leksell frame](https://www.elekta.com/neurosurgery/leksell-stereotactic-system/). In our previous paper \"[Methodology, outcome, safety and in vivo accuracy in traditional frame-based stereoelectroencephalography](https://www.ncbi.nlm.nih.gov/pubmed/28676892)\" by Van der Loo et al (2017) we reported on SEEG electrode implantation accuracy in a cohort of 71 patients who were operated between September 2008 and April 2016. This resulted in a dataset of 902 electrodes. \n",
    "\n",
    "The goal of the current project is to use a public version of this dataset (without any personal identifiers) to predict implantation accuracy by using and comparing different machine learning approaches. \n",
    "\n",
    "Pieter Kubben, MD, PhD<br/>\n",
    "neurosurgeon<br/>\n",
    "Maastricht University Medical Center<br/>\n",
    "The Netherlands\n",
    "\n",
    "For any questions you can reach me by [email](mailto:p.kubben@mumc.nl) or on [Twitter](http://twitter.com/DigNeurosurgeon)."
   ]
  },
  {
   "cell_type": "markdown",
   "metadata": {},
   "source": [
    "## Data description\n",
    "\n",
    "The public dataset contains these variables:\n",
    "\n",
    "- PatientPosition\n",
    "- Contacts\n",
    "- ElectrodeType\n",
    "- PlanningX\n",
    "- PlanningY\n",
    "- PlanningZ\n",
    "- PlanningRing\n",
    "- PlanningArc\n",
    "- DuraTipDistancePlanned\n",
    "- EntryX\n",
    "- EntryY\n",
    "- EntryZ\n",
    "- TipX\n",
    "- TipY\n",
    "- TipZ\n",
    "- SkinSkullDistance\n",
    "- SkullThickness\n",
    "- SkullAngle\n",
    "- ScrewLength\n",
    "\n",
    "> check [FAIR data](https://www.nature.com/articles/sdata201618) and [FAIR guiding principles](https://www.nature.com/articles/sdata201618#bx2)"
   ]
  },
  {
   "cell_type": "code",
   "execution_count": 110,
   "metadata": {
    "collapsed": true
   },
   "outputs": [],
   "source": [
    "# import libraries\n",
    "import numpy as np\n",
    "import pandas as pd\n",
    "import matplotlib.pyplot as plt\n",
    "import seaborn as sns; sns.set()\n",
    "%matplotlib inline\n",
    "# import warnings; warnings.simplefilter('ignore')\n",
    "\n",
    "# global setting whether to save figures or not\n",
    "save_figures = False"
   ]
  },
  {
   "cell_type": "code",
   "execution_count": 122,
   "metadata": {},
   "outputs": [
    {
     "name": "stdout",
     "output_type": "stream",
     "text": [
      "Nr of rows with missing values: 823\n"
     ]
    }
   ],
   "source": [
    "# load data\n",
    "electrodes = pd.read_csv('electrodes_public.csv')\n",
    "\n",
    "# find missing values\n",
    "nan_rows = sum([True for idx,row in electrodes.iterrows() if any(row.isnull())])\n",
    "print('Nr of rows with missing values:', nan_rows)"
   ]
  },
  {
   "cell_type": "code",
   "execution_count": 118,
   "metadata": {},
   "outputs": [
    {
     "data": {
      "text/html": [
       "<div>\n",
       "<style>\n",
       "    .dataframe thead tr:only-child th {\n",
       "        text-align: right;\n",
       "    }\n",
       "\n",
       "    .dataframe thead th {\n",
       "        text-align: left;\n",
       "    }\n",
       "\n",
       "    .dataframe tbody tr th {\n",
       "        vertical-align: top;\n",
       "    }\n",
       "</style>\n",
       "<table border=\"1\" class=\"dataframe\">\n",
       "  <thead>\n",
       "    <tr style=\"text-align: right;\">\n",
       "      <th></th>\n",
       "      <th>PatientPosition</th>\n",
       "      <th>Contacts</th>\n",
       "      <th>ElectrodeType</th>\n",
       "      <th>PlanningX</th>\n",
       "      <th>PlanningY</th>\n",
       "      <th>PlanningZ</th>\n",
       "      <th>PlanningRing</th>\n",
       "      <th>PlanningArc</th>\n",
       "      <th>DuraTipDistancePlanned</th>\n",
       "      <th>TipX</th>\n",
       "      <th>TipY</th>\n",
       "      <th>TipZ</th>\n",
       "      <th>SkinSkullDistance</th>\n",
       "      <th>SkullThickness</th>\n",
       "      <th>SkullAngle</th>\n",
       "      <th>ScrewLength</th>\n",
       "      <th>TPLE</th>\n",
       "    </tr>\n",
       "  </thead>\n",
       "  <tbody>\n",
       "    <tr>\n",
       "      <th>0</th>\n",
       "      <td>Supine</td>\n",
       "      <td>18.0</td>\n",
       "      <td>Oblique</td>\n",
       "      <td>125.8</td>\n",
       "      <td>106.5</td>\n",
       "      <td>135.5</td>\n",
       "      <td>154.6</td>\n",
       "      <td>90.2</td>\n",
       "      <td>86.6</td>\n",
       "      <td>126.4</td>\n",
       "      <td>106.8</td>\n",
       "      <td>135.2</td>\n",
       "      <td>7.0</td>\n",
       "      <td>9.7</td>\n",
       "      <td>70.3</td>\n",
       "      <td>25.0</td>\n",
       "      <td>0.7</td>\n",
       "    </tr>\n",
       "    <tr>\n",
       "      <th>1</th>\n",
       "      <td>Supine</td>\n",
       "      <td>18.0</td>\n",
       "      <td>Oblique</td>\n",
       "      <td>130.6</td>\n",
       "      <td>131.0</td>\n",
       "      <td>136.4</td>\n",
       "      <td>155.4</td>\n",
       "      <td>96.6</td>\n",
       "      <td>105.9</td>\n",
       "      <td>134.7</td>\n",
       "      <td>132.9</td>\n",
       "      <td>136.0</td>\n",
       "      <td>9.4</td>\n",
       "      <td>7.4</td>\n",
       "      <td>63.8</td>\n",
       "      <td>30.0</td>\n",
       "      <td>4.5</td>\n",
       "    </tr>\n",
       "    <tr>\n",
       "      <th>2</th>\n",
       "      <td>Supine</td>\n",
       "      <td>10.0</td>\n",
       "      <td>Oblique</td>\n",
       "      <td>139.1</td>\n",
       "      <td>104.9</td>\n",
       "      <td>124.0</td>\n",
       "      <td>131.1</td>\n",
       "      <td>146.0</td>\n",
       "      <td>35.2</td>\n",
       "      <td>139.1</td>\n",
       "      <td>108.3</td>\n",
       "      <td>124.4</td>\n",
       "      <td>9.8</td>\n",
       "      <td>5.5</td>\n",
       "      <td>66.4</td>\n",
       "      <td>30.0</td>\n",
       "      <td>3.4</td>\n",
       "    </tr>\n",
       "    <tr>\n",
       "      <th>3</th>\n",
       "      <td>Supine</td>\n",
       "      <td>10.0</td>\n",
       "      <td>Oblique</td>\n",
       "      <td>137.7</td>\n",
       "      <td>112.2</td>\n",
       "      <td>115.0</td>\n",
       "      <td>96.2</td>\n",
       "      <td>137.1</td>\n",
       "      <td>35.9</td>\n",
       "      <td>136.4</td>\n",
       "      <td>115.2</td>\n",
       "      <td>115.0</td>\n",
       "      <td>8.4</td>\n",
       "      <td>6.5</td>\n",
       "      <td>66.3</td>\n",
       "      <td>25.0</td>\n",
       "      <td>3.3</td>\n",
       "    </tr>\n",
       "    <tr>\n",
       "      <th>4</th>\n",
       "      <td>Supine</td>\n",
       "      <td>12.0</td>\n",
       "      <td>Oblique</td>\n",
       "      <td>126.0</td>\n",
       "      <td>76.0</td>\n",
       "      <td>124.1</td>\n",
       "      <td>159.1</td>\n",
       "      <td>156.3</td>\n",
       "      <td>39.5</td>\n",
       "      <td>124.6</td>\n",
       "      <td>75.8</td>\n",
       "      <td>126.8</td>\n",
       "      <td>7.4</td>\n",
       "      <td>4.6</td>\n",
       "      <td>84.7</td>\n",
       "      <td>25.0</td>\n",
       "      <td>3.0</td>\n",
       "    </tr>\n",
       "  </tbody>\n",
       "</table>\n",
       "</div>"
      ],
      "text/plain": [
       "  PatientPosition  Contacts ElectrodeType  PlanningX  PlanningY  PlanningZ  \\\n",
       "0          Supine      18.0       Oblique      125.8      106.5      135.5   \n",
       "1          Supine      18.0       Oblique      130.6      131.0      136.4   \n",
       "2          Supine      10.0       Oblique      139.1      104.9      124.0   \n",
       "3          Supine      10.0       Oblique      137.7      112.2      115.0   \n",
       "4          Supine      12.0       Oblique      126.0       76.0      124.1   \n",
       "\n",
       "   PlanningRing  PlanningArc  DuraTipDistancePlanned   TipX   TipY   TipZ  \\\n",
       "0         154.6         90.2                    86.6  126.4  106.8  135.2   \n",
       "1         155.4         96.6                   105.9  134.7  132.9  136.0   \n",
       "2         131.1        146.0                    35.2  139.1  108.3  124.4   \n",
       "3          96.2        137.1                    35.9  136.4  115.2  115.0   \n",
       "4         159.1        156.3                    39.5  124.6   75.8  126.8   \n",
       "\n",
       "   SkinSkullDistance  SkullThickness  SkullAngle  ScrewLength  TPLE  \n",
       "0                7.0             9.7        70.3         25.0   0.7  \n",
       "1                9.4             7.4        63.8         30.0   4.5  \n",
       "2                9.8             5.5        66.4         30.0   3.4  \n",
       "3                8.4             6.5        66.3         25.0   3.3  \n",
       "4                7.4             4.6        84.7         25.0   3.0  "
      ]
     },
     "execution_count": 118,
     "metadata": {},
     "output_type": "execute_result"
    }
   ],
   "source": [
    "# calculate TPLE and remove entry data from dataframe\n",
    "electrodes['TPLE'] = np.sqrt(np.square(electrodes['TipX'] - electrodes['PlanningX']) + \n",
    "                              np.square(electrodes['TipY'] - electrodes['PlanningY']) + \n",
    "                              np.square(electrodes['TipZ'] - electrodes['PlanningZ'])\n",
    "                             ).round(1)\n",
    "electrodes.drop(['EntryX', 'EntryY', 'EntryZ'], axis = 1, inplace = True)\n",
    "electrodes.head()"
   ]
  },
  {
   "cell_type": "code",
   "execution_count": 119,
   "metadata": {},
   "outputs": [
    {
     "name": "stdout",
     "output_type": "stream",
     "text": [
      "Outliers in Z axis (> 10mm):\n",
      "\n",
      " 446    14.8\n",
      "462    14.5\n",
      "463    11.2\n",
      "508    45.8\n",
      "612    14.2\n",
      "632    20.0\n",
      "Name: TPLE, dtype: float64\n",
      "\n",
      "New dataframe shape: (860, 17)\n"
     ]
    }
   ],
   "source": [
    "# check for outliers in Z axis\n",
    "large_depth_error = electrodes[np.abs(electrodes['PlanningZ'] - electrodes['TipZ']) > 10]\n",
    "print('Outliers in Z axis (> 10mm):\\n\\n', large_depth_error['TPLE'])\n",
    "\n",
    "# remove outliers\n",
    "electrodes.drop(large_depth_error.index, inplace = True)\n",
    "print('\\nNew dataframe shape:', electrodes.shape) # removed 6 rows"
   ]
  },
  {
   "cell_type": "code",
   "execution_count": 121,
   "metadata": {},
   "outputs": [
    {
     "data": {
      "text/plain": [
       "PatientPosition           category\n",
       "Contacts                  category\n",
       "ElectrodeType             category\n",
       "PlanningX                  float64\n",
       "PlanningY                  float64\n",
       "PlanningZ                  float64\n",
       "PlanningRing               float64\n",
       "PlanningArc                float64\n",
       "DuraTipDistancePlanned     float64\n",
       "TipX                       float64\n",
       "TipY                       float64\n",
       "TipZ                       float64\n",
       "SkinSkullDistance          float64\n",
       "SkullThickness             float64\n",
       "SkullAngle                 float64\n",
       "ScrewLength               category\n",
       "TPLE                       float64\n",
       "dtype: object"
      ]
     },
     "execution_count": 121,
     "metadata": {},
     "output_type": "execute_result"
    }
   ],
   "source": [
    "# convert categorical columns to \"category\" dtype\n",
    "catcols = ['PatientPosition', 'Contacts', 'ElectrodeType', 'ScrewLength']\n",
    "for cat in catcols:\n",
    "    electrodes[cat] = electrodes[cat].astype('category')\n",
    "\n",
    "# confirm correct types for all columns now\n",
    "electrodes.dtypes"
   ]
  },
  {
   "cell_type": "code",
   "execution_count": 8,
   "metadata": {},
   "outputs": [
    {
     "data": {
      "text/plain": [
       "count    860.0\n",
       "mean       3.4\n",
       "std        2.3\n",
       "min        0.2\n",
       "25%        2.0\n",
       "50%        2.9\n",
       "75%        4.1\n",
       "max       19.8\n",
       "Name: TPLE, dtype: float64"
      ]
     },
     "execution_count": 8,
     "metadata": {},
     "output_type": "execute_result"
    }
   ],
   "source": [
    "# get summary data on TPLE\n",
    "tple = electrodes['TPLE']\n",
    "tple.describe().round(1)"
   ]
  },
  {
   "cell_type": "markdown",
   "metadata": {},
   "source": [
    "We now have data in the right format, but need to convert the *continuous* outcome variables EPLE and TPLE to `categories` using `pd.cut()`."
   ]
  },
  {
   "cell_type": "code",
   "execution_count": 9,
   "metadata": {},
   "outputs": [
    {
     "data": {
      "text/html": [
       "<div>\n",
       "<style>\n",
       "    .dataframe thead tr:only-child th {\n",
       "        text-align: right;\n",
       "    }\n",
       "\n",
       "    .dataframe thead th {\n",
       "        text-align: left;\n",
       "    }\n",
       "\n",
       "    .dataframe tbody tr th {\n",
       "        vertical-align: top;\n",
       "    }\n",
       "</style>\n",
       "<table border=\"1\" class=\"dataframe\">\n",
       "  <thead>\n",
       "    <tr style=\"text-align: right;\">\n",
       "      <th></th>\n",
       "      <th>0</th>\n",
       "      <th>1</th>\n",
       "      <th>2</th>\n",
       "      <th>3</th>\n",
       "      <th>4</th>\n",
       "      <th>5</th>\n",
       "      <th>6</th>\n",
       "      <th>7</th>\n",
       "      <th>8</th>\n",
       "      <th>9</th>\n",
       "      <th>10</th>\n",
       "      <th>11</th>\n",
       "      <th>12</th>\n",
       "      <th>13</th>\n",
       "      <th>14</th>\n",
       "    </tr>\n",
       "  </thead>\n",
       "  <tbody>\n",
       "    <tr>\n",
       "      <th>TPLE</th>\n",
       "      <td>0.7</td>\n",
       "      <td>4.5</td>\n",
       "      <td>3.4</td>\n",
       "      <td>3.3</td>\n",
       "      <td>3</td>\n",
       "      <td>1.8</td>\n",
       "      <td>2.3</td>\n",
       "      <td>4.2</td>\n",
       "      <td>4.8</td>\n",
       "      <td>3.4</td>\n",
       "      <td>3.9</td>\n",
       "      <td>3.6</td>\n",
       "      <td>7.4</td>\n",
       "      <td>4.2</td>\n",
       "      <td>4.4</td>\n",
       "    </tr>\n",
       "    <tr>\n",
       "      <th>TPLE category</th>\n",
       "      <td>0 - 1</td>\n",
       "      <td>2 - 5</td>\n",
       "      <td>2 - 5</td>\n",
       "      <td>2 - 5</td>\n",
       "      <td>2 - 5</td>\n",
       "      <td>1 - 2</td>\n",
       "      <td>2 - 5</td>\n",
       "      <td>2 - 5</td>\n",
       "      <td>2 - 5</td>\n",
       "      <td>2 - 5</td>\n",
       "      <td>2 - 5</td>\n",
       "      <td>2 - 5</td>\n",
       "      <td>5 - 10</td>\n",
       "      <td>2 - 5</td>\n",
       "      <td>2 - 5</td>\n",
       "    </tr>\n",
       "  </tbody>\n",
       "</table>\n",
       "</div>"
      ],
      "text/plain": [
       "                  0      1      2      3      4      5      6      7      8   \\\n",
       "TPLE             0.7    4.5    3.4    3.3      3    1.8    2.3    4.2    4.8   \n",
       "TPLE category  0 - 1  2 - 5  2 - 5  2 - 5  2 - 5  1 - 2  2 - 5  2 - 5  2 - 5   \n",
       "\n",
       "                  9      10     11      12     13     14  \n",
       "TPLE             3.4    3.9    3.6     7.4    4.2    4.4  \n",
       "TPLE category  2 - 5  2 - 5  2 - 5  5 - 10  2 - 5  2 - 5  "
      ]
     },
     "execution_count": 9,
     "metadata": {},
     "output_type": "execute_result"
    }
   ],
   "source": [
    "# create different possible cuts to create categories\n",
    "electrodes_3cat = pd.cut(tple, bins = [0, 2, 5, 50], labels = ['0 - 2', '2 - 5', '> 5'])\n",
    "electrodes_4cat = pd.cut(tple, bins = [0, 2, 4, 6, 50], labels = ['0 - 2', '2 - 4', '4 - 6', '> 6'])\n",
    "electrodes_4quart = pd.cut(tple, bins = [0, 2, 3, 4, 50], labels = ['0 - 2', '2 - 3', '3 - 4', '> 4'])\n",
    "electrodes_5cat = pd.cut(tple, bins = [0, 1, 2, 5, 10, 50], labels = ['0 - 1', '1 - 2', '2 - 5', '5 - 10', '> 10'])\n",
    "electrodes_6cat = pd.cut(tple, bins = [0, 1, 2, 5, 10, 20, 50], labels = ['0 - 1', '1 - 2', '2 - 5', '5 - 10', '10 - 20', '> 20'])\n",
    "electrodes_7cat = pd.cut(tple, bins = [0, 1, 2, 4, 6, 8, 10, 50], labels = ['0 - 1', '1 - 2', '2 - 4', '4 - 6', '6 - 8', '8 - 10', '> 10'])\n",
    "\n",
    "# apply cut to create TPLE category column\n",
    "electrodes['TPLE category'] = electrodes_5cat\n",
    "nr_of_y_categories = 5 # needed for keras MLP\n",
    "\n",
    "# check correct conversion with first 15 rows\n",
    "electrodes[['TPLE', 'TPLE category']].head(15).transpose()"
   ]
  },
  {
   "cell_type": "code",
   "execution_count": 10,
   "metadata": {},
   "outputs": [
    {
     "data": {
      "text/html": [
       "<div>\n",
       "<style>\n",
       "    .dataframe thead tr:only-child th {\n",
       "        text-align: right;\n",
       "    }\n",
       "\n",
       "    .dataframe thead th {\n",
       "        text-align: left;\n",
       "    }\n",
       "\n",
       "    .dataframe tbody tr th {\n",
       "        vertical-align: top;\n",
       "    }\n",
       "</style>\n",
       "<table border=\"1\" class=\"dataframe\">\n",
       "  <thead>\n",
       "    <tr style=\"text-align: right;\">\n",
       "      <th>TPLE category</th>\n",
       "      <th>0 - 1</th>\n",
       "      <th>1 - 2</th>\n",
       "      <th>2 - 5</th>\n",
       "      <th>5 - 10</th>\n",
       "      <th>&gt; 10</th>\n",
       "    </tr>\n",
       "  </thead>\n",
       "  <tbody>\n",
       "    <tr>\n",
       "      <th>TPLE</th>\n",
       "      <td>50</td>\n",
       "      <td>184</td>\n",
       "      <td>492</td>\n",
       "      <td>112</td>\n",
       "      <td>22</td>\n",
       "    </tr>\n",
       "  </tbody>\n",
       "</table>\n",
       "</div>"
      ],
      "text/plain": [
       "TPLE category  0 - 1  1 - 2  2 - 5  5 - 10  > 10\n",
       "TPLE              50    184    492     112    22"
      ]
     },
     "execution_count": 10,
     "metadata": {},
     "output_type": "execute_result"
    }
   ],
   "source": [
    "# count nr of items in each category\n",
    "electrodes[['TPLE', 'TPLE category']].groupby('TPLE category').count().transpose()"
   ]
  },
  {
   "cell_type": "markdown",
   "metadata": {},
   "source": [
    "## Visualization\n",
    "Let's first get an impression of variable distributions."
   ]
  },
  {
   "cell_type": "code",
   "execution_count": 11,
   "metadata": {},
   "outputs": [
    {
     "data": {
      "image/png": "[encoded data removed]",
      "text/plain": [
       "<matplotlib.figure.Figure at 0x11633f198>"
      ]
     },
     "metadata": {},
     "output_type": "display_data"
    }
   ],
   "source": [
    "# create density plot\n",
    "tple.plot(kind = 'density', figsize = (15,5), title = 'TPLE density plot');\n",
    "plt.xlim(0,10);\n",
    "if save_figures:\n",
    "    plt.savefig('tple_density_plot.png', dpi = 300)"
   ]
  },
  {
   "cell_type": "code",
   "execution_count": 12,
   "metadata": {
    "collapsed": true
   },
   "outputs": [],
   "source": [
    "params = {'subplots': True, 'layout': (3,3), 'sharex': False, 'figsize': (12, 12)}\n",
    "elec_visual = electrodes.drop(['TPLE'], axis = 1)\n",
    "# elec_visual.plot(kind='density', **params);\n",
    "# elec_visual.plot(kind='box', sharey = False, **params);"
   ]
  },
  {
   "cell_type": "markdown",
   "metadata": {},
   "source": [
    "Now, how do they correlate with each other?"
   ]
  },
  {
   "cell_type": "code",
   "execution_count": 13,
   "metadata": {
    "collapsed": true
   },
   "outputs": [],
   "source": [
    "# sns.pairplot(elec_visual[['DuraTipDistancePlanned', 'SkinSkullDistance', 'SkullThickness', 'SkullAngle', 'PatientPosition', 'ScrewLength', 'TPLE category']], hue = 'TPLE category');"
   ]
  },
  {
   "cell_type": "code",
   "execution_count": 36,
   "metadata": {},
   "outputs": [
    {
     "data": {
      "image/png": "[encoded data removed]",
      "text/plain": [
       "<matplotlib.figure.Figure at 0x11cfaa5f8>"
      ]
     },
     "metadata": {},
     "output_type": "display_data"
    }
   ],
   "source": [
    "plt.figure(figsize = (15,12))\n",
    "electrodes_dummies = pd.get_dummies(electrodes.drop(['TPLE category'], axis = 1))\n",
    "\n",
    "# correlations for continuous variables only\n",
    "sns.heatmap(electrodes.corr(), square = True, annot = True, linewidths = .5, cmap = 'RdBu_r');\n",
    "\n",
    "# correlations including categorical variables\n",
    "# sns.heatmap(electrodes_dummies.corr(), square = True, annot = False, cmap = 'RdBu_r');\n",
    "\n",
    "# plt.tight_layout()\n",
    "# plt.savefig('electrodes_corr_RdBu_r.png', dpi = 300)"
   ]
  },
  {
   "cell_type": "markdown",
   "metadata": {
    "collapsed": true
   },
   "source": [
    "## TPLE classification\n",
    "Now we have our categories so let's classify..."
   ]
  },
  {
   "cell_type": "code",
   "execution_count": 84,
   "metadata": {
    "collapsed": true
   },
   "outputs": [],
   "source": [
    "from sklearn.preprocessing import LabelEncoder, PolynomialFeatures, Imputer\n",
    "from sklearn.feature_selection import SelectKBest, chi2, VarianceThreshold\n",
    "elec_features = electrodes.drop(['TPLE', 'TPLE category'], axis = 1)\n",
    "\n",
    "for cat in catcols:\n",
    "    elec_features[cat] = LabelEncoder().fit_transform(elec_features[cat])\n",
    "\n",
    "X = elec_features # to start with\n",
    "X = Imputer(strategy = 'most_frequent').fit_transform(X)\n",
    "# X = VarianceThreshold(threshold=(.8 * (1 - .8))).fit_transform(X)\n",
    "# X = PolynomialFeatures(2, interaction_only = True).fit_transform(X)\n",
    "# X = SelectKBest(chi2, k = 5).fit_transform(X, y)\n",
    "le = LabelEncoder()\n",
    "y = le.fit_transform(electrodes['TPLE category'])"
   ]
  },
  {
   "cell_type": "code",
   "execution_count": 16,
   "metadata": {},
   "outputs": [
    {
     "data": {
      "image/png": "[encoded data removed]",
      "text/plain": [
       "<matplotlib.figure.Figure at 0x11633f0b8>"
      ]
     },
     "metadata": {},
     "output_type": "display_data"
    }
   ],
   "source": [
    "# dimensionality reduction using PCA\n",
    "from sklearn.decomposition import PCA\n",
    "pca = PCA(n_components = X.shape[1])\n",
    "X_pca = pca.fit_transform(X)\n",
    "\n",
    "# plot PCA variance ratio\n",
    "plt.figure(figsize = (10,6));\n",
    "plt.plot(pca.explained_variance_ratio_.cumsum());\n",
    "plt.title('Explained variance ratio by PCA components');\n",
    "plt.xlabel('PCA component');\n",
    "plt.ylabel('Cumulative variance ratio');"
   ]
  },
  {
   "cell_type": "code",
   "execution_count": 17,
   "metadata": {
    "collapsed": true
   },
   "outputs": [],
   "source": [
    "# use principal components... reduces accuracy... so no, thanks\n",
    "# X = PCA(3).fit_transform(X) # PCA n = 3 explains 95% of variance"
   ]
  },
  {
   "cell_type": "code",
   "execution_count": 85,
   "metadata": {
    "collapsed": true
   },
   "outputs": [],
   "source": [
    "# split data\n",
    "from sklearn.model_selection import train_test_split\n",
    "X_train, X_test, y_train, y_test = train_test_split(X, y, test_size = 0.3)\n",
    "\n",
    "# check to see if shapes are consistent\n",
    "def print_Xy_shapes():\n",
    "    print(X_train.shape)\n",
    "    print(X_test.shape)\n",
    "    print(y_train.shape)\n",
    "    print(y_test.shape)\n",
    "    \n",
    "# print_Xy_shapes()"
   ]
  },
  {
   "cell_type": "code",
   "execution_count": 19,
   "metadata": {},
   "outputs": [
    {
     "name": "stderr",
     "output_type": "stream",
     "text": [
      "//anaconda/lib/python3.6/site-packages/sklearn/cross_validation.py:44: DeprecationWarning: This module was deprecated in version 0.18 in favor of the model_selection module into which all the refactored classes and functions are moved. Also note that the interface of the new CV iterators are different from that of this module. This module will be removed in 0.20.\n",
      "  \"This module will be removed in 0.20.\", DeprecationWarning)\n"
     ]
    }
   ],
   "source": [
    "# import modules\n",
    "from sklearn.feature_selection import RFE\n",
    "from sklearn.linear_model import LogisticRegression\n",
    "from sklearn.tree import DecisionTreeClassifier\n",
    "from sklearn.neighbors import KNeighborsClassifier\n",
    "from sklearn.discriminant_analysis import LinearDiscriminantAnalysis\n",
    "from sklearn.naive_bayes import GaussianNB\n",
    "from sklearn.svm import SVC, LinearSVC\n",
    "from sklearn.ensemble import RandomForestClassifier, AdaBoostClassifier\n",
    "from xgboost import XGBClassifier\n",
    "\n",
    "# prepare models\n",
    "models = {'LOG': LogisticRegression(),\n",
    "          'LDA': LinearDiscriminantAnalysis(),\n",
    "          'KNN': KNeighborsClassifier(),\n",
    "          'CART': DecisionTreeClassifier(),\n",
    "          'NB': GaussianNB(),\n",
    "          'SVM': SVC(),\n",
    "          'LSVM1': LinearSVC(penalty='l1', dual = False),\n",
    "          'LSVM2': LinearSVC(),\n",
    "          'RF': RandomForestClassifier(),\n",
    "          'ADA': AdaBoostClassifier(),\n",
    "          'XGB': XGBClassifier()\n",
    "         }"
   ]
  },
  {
   "cell_type": "code",
   "execution_count": 20,
   "metadata": {},
   "outputs": [
    {
     "name": "stdout",
     "output_type": "stream",
     "text": [
      "LOG: 0.58 (0.07)\n",
      "LDA: 0.56 (0.06)\n",
      "KNN: 0.47 (0.04)\n",
      "CART: 0.43 (0.06)\n",
      "NB: 0.34 (0.04)\n",
      "SVM: 0.57 (0.06)\n",
      "LSVM1: 0.57 (0.06)\n",
      "LSVM2: 0.41 (0.13)\n",
      "RF: 0.51 (0.06)\n",
      "ADA: 0.44 (0.05)\n",
      "XGB: 0.54 (0.07)\n"
     ]
    }
   ],
   "source": [
    "# evaluate each model in turn\n",
    "from sklearn.model_selection import KFold\n",
    "from sklearn.model_selection import cross_val_score\n",
    "from sklearn.metrics import classification_report\n",
    "names = []; results = []\n",
    "\n",
    "for name, model in models.items():\n",
    "    cv_results = cross_val_score(model, X_train, y_train, cv = KFold(10), scoring = 'accuracy')\n",
    "    names.append(name)\n",
    "    results.append(cv_results)\n",
    "    print('{}: {:.2f} ({:.2f})'.format(name, cv_results.mean(), cv_results.std()))\n",
    "    # print(classification_report(y_test, model.fit(X_train, y_train).predict(X_test), target_names = le.classes_))"
   ]
  },
  {
   "cell_type": "code",
   "execution_count": 21,
   "metadata": {},
   "outputs": [
    {
     "data": {
      "image/png": "[encoded data removed]",
      "text/plain": [
       "<matplotlib.figure.Figure at 0x11a587710>"
      ]
     },
     "metadata": {},
     "output_type": "display_data"
    }
   ],
   "source": [
    "# boxplot algorithm comparison\n",
    "fig = plt.figure(figsize = (12,6))\n",
    "plt.title('Algorithm Comparison')\n",
    "ax = fig.add_subplot(111)\n",
    "ax.set_ylim(0.25, 0.75)\n",
    "plt.boxplot(results)\n",
    "ax.set_xticklabels(names); # set xtick labels after plotting! (otherwise default values override custom labels)"
   ]
  },
  {
   "cell_type": "code",
   "execution_count": 107,
   "metadata": {},
   "outputs": [
    {
     "data": {
      "image/png": "[encoded data removed]",
      "text/plain": [
       "<matplotlib.figure.Figure at 0x11d801da0>"
      ]
     },
     "metadata": {},
     "output_type": "display_data"
    }
   ],
   "source": [
    "from sklearn.metrics import confusion_matrix\n",
    "model = LogisticRegression().fit(X_train, y_train)\n",
    "y_pred = model.predict(X_test)\n",
    "conf_mat_labels = sorted(list(electrodes['TPLE category'].unique()))\n",
    "conf_mat = confusion_matrix(y_test, y_pred)\n",
    "# conf_mat = confusion_matrix(y_test, y_pred, labels = conf_mat_labels)\n",
    "\n",
    "plt.figure(figsize = (7, 7));\n",
    "plt.title('Confusion matrix for model predictions')\n",
    "sns.heatmap(conf_mat, annot = True, fmt = '.0f', cbar = False, square = True, cmap = 'Pastel2', linewidth = .5);\n",
    "plt.xlabel('Predicted label');\n",
    "plt.xticks(np.arange(5), conf_mat_labels);\n",
    "plt.ylabel('True label');\n",
    "plt.yticks(np.arange(5), conf_mat_labels);\n",
    "# plt.savefig('sklearn_confusion_matrix.png')"
   ]
  },
  {
   "cell_type": "code",
   "execution_count": 108,
   "metadata": {},
   "outputs": [
    {
     "name": "stdout",
     "output_type": "stream",
     "text": [
      "Evaluation for:\n",
      "\n",
      " LogisticRegression(C=1.0, class_weight=None, dual=False, fit_intercept=True,\n",
      "          intercept_scaling=1, max_iter=100, multi_class='ovr', n_jobs=1,\n",
      "          penalty='l2', random_state=None, solver='liblinear', tol=0.0001,\n",
      "          verbose=0, warm_start=False)\n",
      "\n",
      "\n",
      "Accuracy score: 0.57\n",
      "\n",
      "\n",
      "Classification report: \n",
      "\n",
      "              precision    recall  f1-score   support\n",
      "\n",
      "      0 - 1       0.00      0.00      0.00        16\n",
      "      1 - 2       0.09      0.02      0.03        59\n",
      "      2 - 5       0.59      0.94      0.72       147\n",
      "     5 - 10       0.70      0.25      0.37        28\n",
      "       > 10       0.00      0.00      0.00         8\n",
      "\n",
      "avg / total       0.43      0.57      0.46       258\n",
      "\n"
     ]
    }
   ],
   "source": [
    "from sklearn.metrics import accuracy_score, classification_report\n",
    "print('Evaluation for:\\n\\n', model)\n",
    "print('\\n\\nAccuracy score:', accuracy_score(y_test, y_pred).round(2))\n",
    "print('\\n\\nClassification report: \\n\\n', classification_report(y_test, y_pred, target_names = conf_mat_labels))"
   ]
  },
  {
   "cell_type": "code",
   "execution_count": null,
   "metadata": {
    "collapsed": true
   },
   "outputs": [],
   "source": [
    "from sklearn.model_selection import GridSearchCV\n",
    "# SVC().get_params()\n",
    "# svm_param_grid = [\n",
    "#   {'C': [1, 10, 100, 1000], 'kernel': ['linear']},\n",
    "#   {'C': [1, 10, 100, 1000], 'gamma': [0.001, 0.0001], 'kernel': ['rbf']},\n",
    "#  ]\n",
    "# svm_param_grid = {'kernel': ['linear', 'rbf'], 'C': [1, 10]} # simple and less slow... \n",
    "# svm_grid = GridSearchCV(SVC(), svm_param_grid, cv = 3, scoring = 'accuracy', n_jobs = -1)\n",
    "# %time svm_grid.fit(X_train, y_train)"
   ]
  },
  {
   "cell_type": "code",
   "execution_count": null,
   "metadata": {
    "collapsed": true
   },
   "outputs": [],
   "source": [
    "# print('Best SVM params:', svm_grid.best_params_)\n",
    "# print('Best SVM score:', svm_grid.best_score_.round(2))\n",
    "# print('Best SVM model:\\n', svm_grid.best_estimator_)"
   ]
  },
  {
   "cell_type": "code",
   "execution_count": null,
   "metadata": {
    "collapsed": true
   },
   "outputs": [],
   "source": [
    "# XGB tuning\n",
    "# XGBClassifier().get_params()\n",
    "xgb_param_grid = {'learning_rate': [0.001, 0.01, 0.1, 1.0],\n",
    "                  'max_depth': [3, 5, 7],\n",
    "                  'n_estimators': [100, 150, 200]\n",
    "                 }\n",
    "xgb_grid = GridSearchCV(XGBClassifier(), xgb_param_grid, cv = 3, scoring = 'accuracy', n_jobs = -1)\n",
    "%time xgb_grid.fit(X_train, y_train)"
   ]
  },
  {
   "cell_type": "code",
   "execution_count": null,
   "metadata": {
    "collapsed": true
   },
   "outputs": [],
   "source": [
    "print('Best XGB params:', xgb_grid.best_params_)\n",
    "print('Best XGB score:', xgb_grid.best_score_.round(2))\n",
    "print('Best XGB model:\\n', xgb_grid.best_estimator_)"
   ]
  },
  {
   "cell_type": "code",
   "execution_count": null,
   "metadata": {
    "collapsed": true
   },
   "outputs": [],
   "source": [
    "from xgboost import plot_tree\n",
    "plt.figure(figsize = (15,7));\n",
    "# plot_tree(xgb_grid.best_estimator_)\n",
    "plot_tree(xgb_grid.best_estimator_, rankdir='LR');\n",
    "# plt.savefig('xgbtree.png', dpi = 300)"
   ]
  },
  {
   "cell_type": "markdown",
   "metadata": {},
   "source": [
    "### TPOT\n",
    "Let's try TPOT for this purpose... note: a short test can be run using `TPOTClassifier(generations=5, population_size=50, verbosity=2)`."
   ]
  },
  {
   "cell_type": "code",
   "execution_count": 109,
   "metadata": {
    "scrolled": true
   },
   "outputs": [
    {
     "name": "stderr",
     "output_type": "stream",
     "text": [
      "Optimization Progress:  30%|███       | 90/300 [00:27<09:46,  2.79s/pipeline]"
     ]
    },
    {
     "name": "stdout",
     "output_type": "stream",
     "text": [
      "Generation 1 - Current best internal CV score: 0.5914553859083906\n"
     ]
    },
    {
     "name": "stderr",
     "output_type": "stream",
     "text": [
      "Optimization Progress:  46%|████▌     | 137/300 [00:39<03:31,  1.30s/pipeline]"
     ]
    },
    {
     "name": "stdout",
     "output_type": "stream",
     "text": [
      "Generation 2 - Current best internal CV score: 0.594635102955596\n"
     ]
    },
    {
     "name": "stderr",
     "output_type": "stream",
     "text": [
      "Optimization Progress:  62%|██████▏   | 186/300 [00:51<01:19,  1.43pipeline/s]"
     ]
    },
    {
     "name": "stdout",
     "output_type": "stream",
     "text": [
      "Generation 3 - Current best internal CV score: 0.594635102955596\n"
     ]
    },
    {
     "name": "stderr",
     "output_type": "stream",
     "text": [
      "Optimization Progress:  78%|███████▊  | 233/300 [01:07<00:43,  1.55pipeline/s]"
     ]
    },
    {
     "name": "stdout",
     "output_type": "stream",
     "text": [
      "Generation 4 - Current best internal CV score: 0.5947191483401036\n"
     ]
    },
    {
     "name": "stderr",
     "output_type": "stream",
     "text": [
      "                                                                              \r"
     ]
    },
    {
     "name": "stdout",
     "output_type": "stream",
     "text": [
      "Generation 5 - Current best internal CV score: 0.5947191483401036\n",
      "\n",
      "Best pipeline: GradientBoostingClassifier(input_matrix, GradientBoostingClassifier__learning_rate=0.01, GradientBoostingClassifier__max_depth=6, GradientBoostingClassifier__max_features=0.55, GradientBoostingClassifier__min_samples_leaf=10, GradientBoostingClassifier__min_samples_split=17, GradientBoostingClassifier__n_estimators=100, GradientBoostingClassifier__subsample=0.45)\n",
      "\n",
      "TPOT score:  0.56976744186\n"
     ]
    }
   ],
   "source": [
    "from tpot import TPOTClassifier\n",
    "tpot = TPOTClassifier(generations=10, population_size=50, verbosity=2, n_jobs = -1)\n",
    "tpot.fit(X_train, y_train)\n",
    "print('\\nTPOT score: ', tpot.score(X_test, y_test))\n",
    "tpot.export('tpot_tple_classification.py')"
   ]
  },
  {
   "cell_type": "markdown",
   "metadata": {
    "collapsed": true
   },
   "source": [
    "## Deep learning (keras)\n",
    "\n",
    "Multilayer Perceptron (MLP) for multi-class softmax classification"
   ]
  },
  {
   "cell_type": "code",
   "execution_count": null,
   "metadata": {
    "collapsed": true
   },
   "outputs": [],
   "source": [
    "from keras.models import Sequential\n",
    "from keras.layers import Dense, Activation, Dropout\n",
    "from keras.optimizers import SGD\n",
    "from keras.utils.np_utils import to_categorical\n",
    "# print_Xy_shapes()"
   ]
  },
  {
   "cell_type": "code",
   "execution_count": null,
   "metadata": {
    "collapsed": true
   },
   "outputs": [],
   "source": [
    "model = Sequential()\n",
    "model.add(Dense(64, activation='relu', input_dim=len(elec_features.columns)))\n",
    "model.add(Dropout(0.5))\n",
    "model.add(Dense(64, activation='relu'))\n",
    "model.add(Dropout(0.5))\n",
    "model.add(Dense(nr_of_y_categories, activation='softmax'))\n",
    "\n",
    "sgd = SGD(lr=0.01, decay=1e-6, momentum=0.9, nesterov=True)\n",
    "model.compile(loss='categorical_crossentropy', optimizer=sgd, metrics=['accuracy'])\n",
    "model.fit(X_train, to_categorical(y_train), epochs=100, batch_size=10)\n",
    "\n",
    "scores = model.evaluate(X_test, to_categorical(y_test), batch_size=128)\n",
    "print('\\n\\n{}: {:.2f}'.format(model.metrics_names[1], scores[1]))"
   ]
  },
  {
   "cell_type": "code",
   "execution_count": null,
   "metadata": {
    "collapsed": true
   },
   "outputs": [],
   "source": [
    "from keras.utils import plot_model \n",
    "plot_model(model, show_shapes = True, to_file = 'keras_mlp.png') "
   ]
  },
  {
   "cell_type": "code",
   "execution_count": null,
   "metadata": {
    "collapsed": true
   },
   "outputs": [],
   "source": []
  }
 ],
 "metadata": {
  "kernelspec": {
   "display_name": "Python 3",
   "language": "python",
   "name": "python3"
  },
  "language_info": {
   "codemirror_mode": {
    "name": "ipython",
    "version": 3
   },
   "file_extension": ".py",
   "mimetype": "text/x-python",
   "name": "python",
   "nbconvert_exporter": "python",
   "pygments_lexer": "ipython3",
   "version": "3.6.2"
  }
 },
 "nbformat": 4,
 "nbformat_minor": 2
}
