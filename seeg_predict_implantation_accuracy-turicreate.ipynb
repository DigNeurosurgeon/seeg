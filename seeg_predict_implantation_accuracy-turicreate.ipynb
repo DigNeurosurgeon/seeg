{
 "cells": [
  {
   "cell_type": "markdown",
   "metadata": {},
   "source": [
    "# Comparing machine learning approaches to predict SEEG accuracy\n",
    "\n",
    "[![DOI](https://zenodo.org/badge/99125443.svg)](https://zenodo.org/badge/latestdoi/99125443)\n",
    "\n",
    "Stereoencephalography (SEEG) is a technique used in drug-resistant epilepsy patients that may be a candidate for surgical resection of the epileptogenic zone. Multiple electrodes are placed using a so-called \"frame based\" stereotactic approach, in our case using the [Leksell frame](https://www.elekta.com/neurosurgery/leksell-stereotactic-system/). In our previous paper \"[Methodology, outcome, safety and in vivo accuracy in traditional frame-based stereoelectroencephalography](https://www.ncbi.nlm.nih.gov/pubmed/28676892)\" by Van der Loo et al (2017) we reported on SEEG electrode implantation accuracy in a cohort of 71 patients who were operated between September 2008 and April 2016, in whom a total of 902 electrodes were implanted. Data for in vivo application accuracy analysis were available for 866 electrodes.\n",
    "\n",
    "The goal of the current project is to use a public version of this dataset (without any personal identifiers) to predict electrode implantation accuracy by using and comparing different machine learning approaches. \n",
    "\n",
    "[Pieter Kubben](http://dign.eu), MD, PhD<br/>\n",
    "neurosurgeon @ [Maastricht University Medical Center](https://www.mumc.nl/en), The Netherlands\n",
    "\n",
    "For any questions you can reach me by [email](mailto:p.kubben@mumc.nl) or on [Twitter](http://twitter.com/DigNeurosurgeon)."
   ]
  },
  {
   "cell_type": "markdown",
   "metadata": {},
   "source": [
    "## Data description\n",
    "\n",
    "The public dataset contains these variables:\n",
    "\n",
    "- *PatientPosition*: patient position during surgery (nominal: supine, prone)\n",
    "- *Contacts*: nr of contacts of electrode implanted (ordinal: 5, 8, 10, 12, 15, 18)\n",
    "- *ElectrodeType*: describes trajectory type (nominal: oblique, orthogonal). Oblique refers to implantation using the Leksell arc, and orthogonal using a dedicated L-piece mounted on the frame (mostly implants in temporal lobe) when arc angles become too high (approx > 155&deg;) or too low (approx < 25&deg;)\n",
    "- *PlanningX*: planned Cartesian X coord of target (numeric, in mm)\n",
    "- *PlanningY*: planned Cartesian Y coord of target (numeric, in mm)\n",
    "- *PlanningZ*: planned Cartesian Z coord of target (numeric, in mm)\n",
    "- *PlanningRing*: planned ring coord, the trajectory direction in sagittal plane (numeric, in degrees); defines entry\n",
    "- *PlanningArc*: planned arc coord (trajectory direction in coronal plane (numeric, in degrees); defines entry\n",
    "- *DuraTipDistancePlanned*: distance from dura mater (outer sheet covering the brain surface) to target (numeric, in mm)\n",
    "- *EntryX*: real Cartesian X coord of entry point (numeric, in mm)\n",
    "- *EntryY*: real Cartesian Y coord of entry point (numeric, in mm)\n",
    "- *EntryZ*: real Cartesian Z coord of entry point (numeric, in mm)\n",
    "- *TipX*: real Cartesian X coord of target point (numeric, in mm)\n",
    "- *TipY*: real Cartesian Y coord of target point (numeric, in mm)\n",
    "- *TipZ*: real Cartesian Z coord of target point (numeric, in mm)\n",
    "- *SkinSkullDistance*: distance between skin surfacce and skull surface (numeric, in mm)\n",
    "- *SkullThickness*: skull thickness (numeric, in mm)\n",
    "- *SkullAngle*: insertion angle of electrode relative to skull (numeric, in degrees)\n",
    "- *ScrewLength*: length of bone screw used to guide and fixate electrode (ordinal: 20, 25, 30, 35 mm)\n",
    "\n",
    "The electrodes are the [Microdeep depth electrodes](http://www.diximedical.com/en/microdeep-depth-electrode) by DIXI Medical.\n",
    "\n",
    "To the limited extent possible in this case I tried to make these [FAIR data](https://www.nature.com/articles/sdata201618) and adhere to [FAIR guiding principles](https://www.nature.com/articles/sdata201618#bx2). In practice this meant I introduced the topic, described my data and created a [DOI](https://zenodo.org/badge/latestdoi/99125443).\n",
    "\n",
    "Now let's get started."
   ]
  },
  {
   "cell_type": "code",
   "execution_count": 1,
   "metadata": {},
   "outputs": [
    {
     "name": "stderr",
     "output_type": "stream",
     "text": [
      "/Users/pedrohserrano/anaconda3/envs/py36/lib/python3.6/site-packages/h5py/__init__.py:36: FutureWarning: Conversion of the second argument of issubdtype from `float` to `np.floating` is deprecated. In future, it will be treated as `np.float64 == np.dtype(float).type`.\n",
      "  from ._conv import register_converters as _register_converters\n"
     ]
    }
   ],
   "source": [
    "# import libraries\n",
    "import turicreate as tc\n",
    "import numpy as np\n",
    "import pandas as pd\n",
    "import scipy.stats as stats\n",
    "import matplotlib.pyplot as plt\n",
    "import seaborn as sns; sns.set()\n",
    "plt.style.use('ggplot')\n",
    "%matplotlib inline\n",
    "import warnings; warnings.simplefilter('ignore')\n",
    "#%xmode plain; # shorter error messages\n",
    "pd.options.mode.chained_assignment = None \n",
    "# global setting whether to save figures or not\n",
    "# will save as 300 dpi PNG - all filenames start with \"fig_\"\n",
    "save_figures = False"
   ]
  },
  {
   "cell_type": "code",
   "execution_count": 2,
   "metadata": {},
   "outputs": [],
   "source": [
    "# load data\n",
    "electrodes = pd.read_csv('electrodes_public.csv')"
   ]
  },
  {
   "cell_type": "code",
   "execution_count": 3,
   "metadata": {},
   "outputs": [
    {
     "name": "stdout",
     "output_type": "stream",
     "text": [
      "Nr of rows with missing values: 823\n"
     ]
    }
   ],
   "source": [
    "# find missing values\n",
    "nan_rows = sum([True for idx,row in electrodes.iterrows() if any(row.isnull())])\n",
    "print('Nr of rows with missing values:', nan_rows)"
   ]
  },
  {
   "cell_type": "code",
   "execution_count": 4,
   "metadata": {},
   "outputs": [],
   "source": [
    "def missing_values_table(df): \n",
    "        mis_val = df.isnull().sum()\n",
    "        mis_val_percent = 100 * df.isnull().sum()/len(df)\n",
    "        mis_val_table = pd.concat([mis_val, mis_val_percent], axis=1)\n",
    "        mis_val_table = mis_val_table.rename(columns = {0 : 'Missing Values', 1 : '% of Total Values'})\n",
    "        return mis_val_table"
   ]
  },
  {
   "cell_type": "code",
   "execution_count": 5,
   "metadata": {},
   "outputs": [
    {
     "data": {
      "text/html": [
       "<div>\n",
       "<style scoped>\n",
       "    .dataframe tbody tr th:only-of-type {\n",
       "        vertical-align: middle;\n",
       "    }\n",
       "\n",
       "    .dataframe tbody tr th {\n",
       "        vertical-align: top;\n",
       "    }\n",
       "\n",
       "    .dataframe thead th {\n",
       "        text-align: right;\n",
       "    }\n",
       "</style>\n",
       "<table border=\"1\" class=\"dataframe\">\n",
       "  <thead>\n",
       "    <tr style=\"text-align: right;\">\n",
       "      <th></th>\n",
       "      <th>Missing Values</th>\n",
       "      <th>% of Total Values</th>\n",
       "    </tr>\n",
       "  </thead>\n",
       "  <tbody>\n",
       "    <tr>\n",
       "      <th>PatientPosition</th>\n",
       "      <td>0</td>\n",
       "      <td>0.000000</td>\n",
       "    </tr>\n",
       "    <tr>\n",
       "      <th>Contacts</th>\n",
       "      <td>56</td>\n",
       "      <td>6.466513</td>\n",
       "    </tr>\n",
       "    <tr>\n",
       "      <th>ElectrodeType</th>\n",
       "      <td>0</td>\n",
       "      <td>0.000000</td>\n",
       "    </tr>\n",
       "    <tr>\n",
       "      <th>PlanningX</th>\n",
       "      <td>0</td>\n",
       "      <td>0.000000</td>\n",
       "    </tr>\n",
       "    <tr>\n",
       "      <th>PlanningY</th>\n",
       "      <td>0</td>\n",
       "      <td>0.000000</td>\n",
       "    </tr>\n",
       "    <tr>\n",
       "      <th>PlanningZ</th>\n",
       "      <td>0</td>\n",
       "      <td>0.000000</td>\n",
       "    </tr>\n",
       "    <tr>\n",
       "      <th>PlanningRing</th>\n",
       "      <td>271</td>\n",
       "      <td>31.293303</td>\n",
       "    </tr>\n",
       "    <tr>\n",
       "      <th>PlanningArc</th>\n",
       "      <td>271</td>\n",
       "      <td>31.293303</td>\n",
       "    </tr>\n",
       "    <tr>\n",
       "      <th>DuraTipDistancePlanned</th>\n",
       "      <td>54</td>\n",
       "      <td>6.235566</td>\n",
       "    </tr>\n",
       "    <tr>\n",
       "      <th>EntryX</th>\n",
       "      <td>279</td>\n",
       "      <td>32.217090</td>\n",
       "    </tr>\n",
       "    <tr>\n",
       "      <th>EntryY</th>\n",
       "      <td>119</td>\n",
       "      <td>13.741339</td>\n",
       "    </tr>\n",
       "    <tr>\n",
       "      <th>EntryZ</th>\n",
       "      <td>131</td>\n",
       "      <td>15.127021</td>\n",
       "    </tr>\n",
       "    <tr>\n",
       "      <th>TipX</th>\n",
       "      <td>0</td>\n",
       "      <td>0.000000</td>\n",
       "    </tr>\n",
       "    <tr>\n",
       "      <th>TipY</th>\n",
       "      <td>0</td>\n",
       "      <td>0.000000</td>\n",
       "    </tr>\n",
       "    <tr>\n",
       "      <th>TipZ</th>\n",
       "      <td>0</td>\n",
       "      <td>0.000000</td>\n",
       "    </tr>\n",
       "    <tr>\n",
       "      <th>SkinSkullDistance</th>\n",
       "      <td>0</td>\n",
       "      <td>0.000000</td>\n",
       "    </tr>\n",
       "    <tr>\n",
       "      <th>SkullThickness</th>\n",
       "      <td>0</td>\n",
       "      <td>0.000000</td>\n",
       "    </tr>\n",
       "    <tr>\n",
       "      <th>SkullAngle</th>\n",
       "      <td>0</td>\n",
       "      <td>0.000000</td>\n",
       "    </tr>\n",
       "    <tr>\n",
       "      <th>ScrewLength</th>\n",
       "      <td>540</td>\n",
       "      <td>62.355658</td>\n",
       "    </tr>\n",
       "  </tbody>\n",
       "</table>\n",
       "</div>"
      ],
      "text/plain": [
       "                        Missing Values  % of Total Values\n",
       "PatientPosition                      0           0.000000\n",
       "Contacts                            56           6.466513\n",
       "ElectrodeType                        0           0.000000\n",
       "PlanningX                            0           0.000000\n",
       "PlanningY                            0           0.000000\n",
       "PlanningZ                            0           0.000000\n",
       "PlanningRing                       271          31.293303\n",
       "PlanningArc                        271          31.293303\n",
       "DuraTipDistancePlanned              54           6.235566\n",
       "EntryX                             279          32.217090\n",
       "EntryY                             119          13.741339\n",
       "EntryZ                             131          15.127021\n",
       "TipX                                 0           0.000000\n",
       "TipY                                 0           0.000000\n",
       "TipZ                                 0           0.000000\n",
       "SkinSkullDistance                    0           0.000000\n",
       "SkullThickness                       0           0.000000\n",
       "SkullAngle                           0           0.000000\n",
       "ScrewLength                        540          62.355658"
      ]
     },
     "execution_count": 5,
     "metadata": {},
     "output_type": "execute_result"
    }
   ],
   "source": [
    "missing_values_table(electrodes)"
   ]
  },
  {
   "cell_type": "code",
   "execution_count": 6,
   "metadata": {},
   "outputs": [],
   "source": [
    "#not used features\n",
    "electrodes.drop(['EntryX', 'EntryY', 'EntryZ','ScrewLength','PlanningRing','PlanningArc'], axis = 1, inplace = True)"
   ]
  },
  {
   "cell_type": "code",
   "execution_count": 7,
   "metadata": {},
   "outputs": [],
   "source": [
    "# calculate TPLE and remove entry data from dataframe\n",
    "electrodes['TPLE'] = np.sqrt(np.square(electrodes['TipX'] - electrodes['PlanningX']) + \n",
    "                              np.square(electrodes['TipY'] - electrodes['PlanningY']) + \n",
    "                              np.square(electrodes['TipZ'] - electrodes['PlanningZ'])\n",
    "                             ).round(1)"
   ]
  },
  {
   "cell_type": "code",
   "execution_count": 8,
   "metadata": {},
   "outputs": [],
   "source": [
    "#plt.figure(figsize=[16, 8])\n",
    "#sns.distplot(electrodes['TPLE'], hist=False, rug=True)\n",
    "#sns.distplot(electrodes['TPLE'])"
   ]
  },
  {
   "cell_type": "code",
   "execution_count": 9,
   "metadata": {
    "collapsed": false,
    "deletable": true,
    "editable": true
   },
   "outputs": [
    {
     "data": {
      "text/plain": [
       "<matplotlib.axes._subplots.AxesSubplot at 0x1a1af82cc0>"
      ]
     },
     "execution_count": 9,
     "metadata": {},
     "output_type": "execute_result"
    },
    {
     "data": {
      "image/png": "[encoded data removed]",
      "text/plain": [
       "<Figure size 1152x576 with 1 Axes>"
      ]
     },
     "metadata": {},
     "output_type": "display_data"
    }
   ],
   "source": [
    "plt.figure(figsize=[16, 8])\n",
    "sns.kdeplot(electrodes[electrodes['PatientPosition']=='Supine']['TPLE'], label='Supine')\n",
    "sns.kdeplot(electrodes[electrodes['PatientPosition']=='Prone']['TPLE'], label='Prone',  color='y')"
   ]
  },
  {
   "cell_type": "markdown",
   "metadata": {},
   "source": [
    "It looks like their distributions come from different samples"
   ]
  },
  {
   "cell_type": "code",
   "execution_count": 10,
   "metadata": {},
   "outputs": [
    {
     "name": "stdout",
     "output_type": "stream",
     "text": [
      "TPLE Mean Supine: 3.45 (SD 2.88) \n",
      "TPLE Mean Prone: 3.92 (SD 2.75)\n"
     ]
    }
   ],
   "source": [
    "print('TPLE Mean Supine: {} (SD {}) \\nTPLE Mean Prone: {} (SD {})'.format(\n",
    "    round(electrodes[electrodes['PatientPosition']=='Supine']['TPLE'].mean(),2), round(electrodes[electrodes['PatientPosition']=='Supine']['TPLE'].std(),2), \n",
    "    round(electrodes[electrodes['PatientPosition']=='Prone']['TPLE'].mean(),2), round(electrodes[electrodes['PatientPosition']=='Prone']['TPLE'].std(),2))) "
   ]
  },
  {
   "cell_type": "markdown",
   "metadata": {},
   "source": [
    "Let's prove if indeed are independet samples with a t-test. If we observe a large p-value, then we cannot reject the null hypothesis of identical means. If the p-value is smaller than alpha, then we reject the null hypothesis of equal means."
   ]
  },
  {
   "cell_type": "code",
   "execution_count": 11,
   "metadata": {
    "collapsed": false,
    "deletable": true,
    "editable": true
   },
   "outputs": [
    {
     "name": "stdout",
     "output_type": "stream",
     "text": [
      "p= 0.04187565196970924 The null hypothesis can be rejected\n"
     ]
    }
   ],
   "source": [
    "alpha = 0.05\n",
    "t_stat, p = stats.mstats.ttest_ind(electrodes[electrodes['PatientPosition']=='Supine']['TPLE'],\n",
    "                                   electrodes[electrodes['PatientPosition']=='Prone']['TPLE'])\n",
    "if p < alpha: \n",
    "    print(\"p= {} The null hypothesis can be rejected\".format(p))\n",
    "else:\n",
    "    print(\"p= {} The null hypothesis cannot be rejected\".format(p))"
   ]
  },
  {
   "cell_type": "markdown",
   "metadata": {},
   "source": [
    "So it means the two groups came from diferent populations, and we might trate them different"
   ]
  },
  {
   "cell_type": "markdown",
   "metadata": {},
   "source": [
    "We do the same with electrode type"
   ]
  },
  {
   "cell_type": "code",
   "execution_count": 12,
   "metadata": {},
   "outputs": [
    {
     "name": "stdout",
     "output_type": "stream",
     "text": [
      "TPLE Mean Oblique: 3.44 (SD 2.93) \n",
      "TPLE Mean Orthogonal: 3.81 (SD 2.68)\n"
     ]
    }
   ],
   "source": [
    "print('TPLE Mean Oblique: {} (SD {}) \\nTPLE Mean Orthogonal: {} (SD {})'.format(\n",
    "    round(electrodes[electrodes['ElectrodeType']=='Oblique']['TPLE'].mean(),2), round(electrodes[electrodes['ElectrodeType']=='Oblique']['TPLE'].std(),2), \n",
    "    round(electrodes[electrodes['ElectrodeType']=='Orthogonal']['TPLE'].mean(),2), round(electrodes[electrodes['ElectrodeType']=='Orthogonal']['TPLE'].std(),2))) "
   ]
  },
  {
   "cell_type": "markdown",
   "metadata": {},
   "source": [
    "Computing t-test."
   ]
  },
  {
   "cell_type": "code",
   "execution_count": 13,
   "metadata": {
    "collapsed": false,
    "deletable": true,
    "editable": true
   },
   "outputs": [
    {
     "name": "stdout",
     "output_type": "stream",
     "text": [
      "p= 0.07447724453227494 The null hypothesis cannot be rejected\n"
     ]
    }
   ],
   "source": [
    "alpha = 0.05\n",
    "t_stat, p = stats.mstats.ttest_ind(electrodes[electrodes['ElectrodeType']=='Oblique']['TPLE'],\n",
    "                                   electrodes[electrodes['ElectrodeType']=='Orthogonal']['TPLE'])\n",
    "if p < alpha: \n",
    "    print(\"p= {} The null hypothesis can be rejected\".format(p))\n",
    "else:\n",
    "    print(\"p= {} The null hypothesis cannot be rejected\".format(p))"
   ]
  },
  {
   "cell_type": "code",
   "execution_count": 14,
   "metadata": {},
   "outputs": [],
   "source": [
    "#missing_values_table(electrodes)"
   ]
  },
  {
   "cell_type": "code",
   "execution_count": 15,
   "metadata": {},
   "outputs": [],
   "source": [
    "#taking into account came from different distributions\n",
    "df_supine = electrodes[electrodes['PatientPosition']=='Supine']\n",
    "df_prone = electrodes[electrodes['PatientPosition']=='Prone']"
   ]
  },
  {
   "cell_type": "markdown",
   "metadata": {},
   "source": [
    "### Input missing variables"
   ]
  },
  {
   "cell_type": "markdown",
   "metadata": {},
   "source": [
    "We start with the variable to input DuraTipDistancePlanned, but first take a look to the distribution"
   ]
  },
  {
   "cell_type": "code",
   "execution_count": 16,
   "metadata": {},
   "outputs": [],
   "source": [
    "dura_sup = df_supine['DuraTipDistancePlanned'].dropna()\n",
    "dura_pro = df_prone['DuraTipDistancePlanned'].dropna()"
   ]
  },
  {
   "cell_type": "code",
   "execution_count": 17,
   "metadata": {},
   "outputs": [],
   "source": [
    "# normallity test\n",
    "def normal_test(vector, alpha = 0.05):\n",
    "    k2, p = stats.mstats.normaltest(vector)\n",
    "    if p < alpha: # null hypothesis: x comes from a normal distribution\n",
    "        print(\"p = {} The null hypothesis can be rejected\".format(p))\n",
    "    else: \n",
    "        print(\"p = {} The null hypothesis cannot be rejected\".format(p))"
   ]
  },
  {
   "cell_type": "code",
   "execution_count": 18,
   "metadata": {},
   "outputs": [
    {
     "name": "stdout",
     "output_type": "stream",
     "text": [
      "p = 5.988057054136884e-17 The null hypothesis can be rejected\n",
      "p = 0.0005791646181393273 The null hypothesis can be rejected\n"
     ]
    },
    {
     "data": {
      "image/png": "[encoded data removed]",
      "text/plain": [
       "<Figure size 1152x576 with 1 Axes>"
      ]
     },
     "metadata": {},
     "output_type": "display_data"
    }
   ],
   "source": [
    "#electrodes['DuraTipDistancePlanned'].hist()\n",
    "plt.figure(figsize=[16, 8])\n",
    "sns.distplot(dura_sup)\n",
    "sns.distplot(dura_pro)\n",
    "normal_test(dura_sup)\n",
    "normal_test(dura_pro)"
   ]
  },
  {
   "cell_type": "markdown",
   "metadata": {},
   "source": [
    "They are normal distribuited so we might input variables with the statistics of the variable"
   ]
  },
  {
   "cell_type": "code",
   "execution_count": 19,
   "metadata": {},
   "outputs": [],
   "source": [
    "def input_mean(df, variable):\n",
    "    df_null = df[df[variable].isnull()]\n",
    "    df_not_null = df[df[variable].notnull()]\n",
    "    df_null[variable] = round(df_not_null[variable].mean(),1)\n",
    "    inputed_df = df_null.append(df_not_null).sort_index()\n",
    "    return inputed_df"
   ]
  },
  {
   "cell_type": "code",
   "execution_count": 20,
   "metadata": {},
   "outputs": [],
   "source": [
    "df_supine = input_mean(df_supine, 'DuraTipDistancePlanned')"
   ]
  },
  {
   "cell_type": "code",
   "execution_count": 21,
   "metadata": {},
   "outputs": [],
   "source": [
    "df_prone = input_mean(df_prone, 'DuraTipDistancePlanned')"
   ]
  },
  {
   "cell_type": "markdown",
   "metadata": {},
   "source": [
    "We merge again"
   ]
  },
  {
   "cell_type": "code",
   "execution_count": 22,
   "metadata": {},
   "outputs": [],
   "source": [
    "electrodes = df_supine.append(df_prone).sort_index()"
   ]
  },
  {
   "cell_type": "code",
   "execution_count": 23,
   "metadata": {},
   "outputs": [],
   "source": [
    "#missing_values_table(electrodes)"
   ]
  },
  {
   "cell_type": "markdown",
   "metadata": {},
   "source": [
    "Next variable to input is the number of contacts"
   ]
  },
  {
   "cell_type": "code",
   "execution_count": 24,
   "metadata": {},
   "outputs": [],
   "source": [
    "#electrodes.insert(0, 'Index', electrodes.index)"
   ]
  },
  {
   "cell_type": "code",
   "execution_count": 25,
   "metadata": {},
   "outputs": [],
   "source": [
    "contact_null = electrodes[electrodes['Contacts'].isnull()]\n",
    "contact_not_null = electrodes[electrodes['Contacts'].notnull()]"
   ]
  },
  {
   "cell_type": "code",
   "execution_count": 26,
   "metadata": {},
   "outputs": [],
   "source": [
    "contact_not_null['Contacts'] = contact_not_null['Contacts'].astype(int)"
   ]
  },
  {
   "cell_type": "markdown",
   "metadata": {},
   "source": [
    "We need to convert into sframe"
   ]
  },
  {
   "cell_type": "code",
   "execution_count": 27,
   "metadata": {},
   "outputs": [],
   "source": [
    "sf_contact_not_null = tc.SFrame(data=contact_not_null)"
   ]
  },
  {
   "cell_type": "code",
   "execution_count": 28,
   "metadata": {},
   "outputs": [],
   "source": [
    "# features for contacts classifier\n",
    "features = ['PatientPosition', 'ElectrodeType', 'PlanningX', 'PlanningY', 'PlanningZ', 'DuraTipDistancePlanned', 'SkinSkullDistance', 'SkullThickness', 'SkullAngle']"
   ]
  },
  {
   "cell_type": "code",
   "execution_count": 29,
   "metadata": {},
   "outputs": [
    {
     "name": "stdout",
     "output_type": "stream",
     "text": [
      "PROGRESS: Creating a validation set from 5 percent of training data. This may take a while.\n",
      "          You can set ``validation_set=None`` to disable validation tracking.\n",
      "\n",
      "PROGRESS: The following methods are available for this type of problem.\n",
      "PROGRESS: BoostedTreesClassifier, RandomForestClassifier, DecisionTreeClassifier, LogisticClassifier\n",
      "PROGRESS: The returned model will be chosen according to validation accuracy.\n"
     ]
    },
    {
     "data": {
      "text/html": [
       "<pre>Boosted trees classifier:</pre>"
      ],
      "text/plain": [
       "Boosted trees classifier:"
      ]
     },
     "metadata": {},
     "output_type": "display_data"
    },
    {
     "data": {
      "text/html": [
       "<pre>--------------------------------------------------------</pre>"
      ],
      "text/plain": [
       "--------------------------------------------------------"
      ]
     },
     "metadata": {},
     "output_type": "display_data"
    },
    {
     "data": {
      "text/html": [
       "<pre>Number of examples          : 657</pre>"
      ],
      "text/plain": [
       "Number of examples          : 657"
      ]
     },
     "metadata": {},
     "output_type": "display_data"
    },
    {
     "data": {
      "text/html": [
       "<pre>Number of classes           : 6</pre>"
      ],
      "text/plain": [
       "Number of classes           : 6"
      ]
     },
     "metadata": {},
     "output_type": "display_data"
    },
    {
     "data": {
      "text/html": [
       "<pre>Number of feature columns   : 9</pre>"
      ],
      "text/plain": [
       "Number of feature columns   : 9"
      ]
     },
     "metadata": {},
     "output_type": "display_data"
    },
    {
     "data": {
      "text/html": [
       "<pre>Number of unpacked features : 9</pre>"
      ],
      "text/plain": [
       "Number of unpacked features : 9"
      ]
     },
     "metadata": {},
     "output_type": "display_data"
    },
    {
     "data": {
      "text/html": [
       "<pre>+-----------+--------------+-------------------+---------------------+-------------------+---------------------+</pre>"
      ],
      "text/plain": [
       "+-----------+--------------+-------------------+---------------------+-------------------+---------------------+"
      ]
     },
     "metadata": {},
     "output_type": "display_data"
    },
    {
     "data": {
      "text/html": [
       "<pre>| Iteration | Elapsed Time | Training-accuracy | Validation-accuracy | Training-log_loss | Validation-log_loss |</pre>"
      ],
      "text/plain": [
       "| Iteration | Elapsed Time | Training-accuracy | Validation-accuracy | Training-log_loss | Validation-log_loss |"
      ]
     },
     "metadata": {},
     "output_type": "display_data"
    },
    {
     "data": {
      "text/html": [
       "<pre>+-----------+--------------+-------------------+---------------------+-------------------+---------------------+</pre>"
      ],
      "text/plain": [
       "+-----------+--------------+-------------------+---------------------+-------------------+---------------------+"
      ]
     },
     "metadata": {},
     "output_type": "display_data"
    },
    {
     "data": {
      "text/html": [
       "<pre>| 1         | 0.025693     | 0.824962          | 0.736842            | 1.316644          | 1.341027            |</pre>"
      ],
      "text/plain": [
       "| 1         | 0.025693     | 0.824962          | 0.736842            | 1.316644          | 1.341027            |"
      ]
     },
     "metadata": {},
     "output_type": "display_data"
    },
    {
     "data": {
      "text/html": [
       "<pre>| 2         | 0.045652     | 0.843227          | 0.789474            | 1.061664          | 1.126348            |</pre>"
      ],
      "text/plain": [
       "| 2         | 0.045652     | 0.843227          | 0.789474            | 1.061664          | 1.126348            |"
      ]
     },
     "metadata": {},
     "output_type": "display_data"
    },
    {
     "data": {
      "text/html": [
       "<pre>| 3         | 0.062820     | 0.869102          | 0.789474            | 0.879626          | 0.977299            |</pre>"
      ],
      "text/plain": [
       "| 3         | 0.062820     | 0.869102          | 0.789474            | 0.879626          | 0.977299            |"
      ]
     },
     "metadata": {},
     "output_type": "display_data"
    },
    {
     "data": {
      "text/html": [
       "<pre>| 4         | 0.084488     | 0.887367          | 0.789474            | 0.735525          | 0.887165            |</pre>"
      ],
      "text/plain": [
       "| 4         | 0.084488     | 0.887367          | 0.789474            | 0.735525          | 0.887165            |"
      ]
     },
     "metadata": {},
     "output_type": "display_data"
    },
    {
     "data": {
      "text/html": [
       "<pre>| 5         | 0.101786     | 0.905632          | 0.842105            | 0.624163          | 0.793121            |</pre>"
      ],
      "text/plain": [
       "| 5         | 0.101786     | 0.905632          | 0.842105            | 0.624163          | 0.793121            |"
      ]
     },
     "metadata": {},
     "output_type": "display_data"
    },
    {
     "data": {
      "text/html": [
       "<pre>| 6         | 0.119630     | 0.917808          | 0.789474            | 0.547625          | 0.754650            |</pre>"
      ],
      "text/plain": [
       "| 6         | 0.119630     | 0.917808          | 0.789474            | 0.547625          | 0.754650            |"
      ]
     },
     "metadata": {},
     "output_type": "display_data"
    },
    {
     "data": {
      "text/html": [
       "<pre>+-----------+--------------+-------------------+---------------------+-------------------+---------------------+</pre>"
      ],
      "text/plain": [
       "+-----------+--------------+-------------------+---------------------+-------------------+---------------------+"
      ]
     },
     "metadata": {},
     "output_type": "display_data"
    },
    {
     "data": {
      "text/html": [
       "<pre>Random forest classifier:</pre>"
      ],
      "text/plain": [
       "Random forest classifier:"
      ]
     },
     "metadata": {},
     "output_type": "display_data"
    },
    {
     "data": {
      "text/html": [
       "<pre>--------------------------------------------------------</pre>"
      ],
      "text/plain": [
       "--------------------------------------------------------"
      ]
     },
     "metadata": {},
     "output_type": "display_data"
    },
    {
     "data": {
      "text/html": [
       "<pre>Number of examples          : 657</pre>"
      ],
      "text/plain": [
       "Number of examples          : 657"
      ]
     },
     "metadata": {},
     "output_type": "display_data"
    },
    {
     "data": {
      "text/html": [
       "<pre>Number of classes           : 6</pre>"
      ],
      "text/plain": [
       "Number of classes           : 6"
      ]
     },
     "metadata": {},
     "output_type": "display_data"
    },
    {
     "data": {
      "text/html": [
       "<pre>Number of feature columns   : 9</pre>"
      ],
      "text/plain": [
       "Number of feature columns   : 9"
      ]
     },
     "metadata": {},
     "output_type": "display_data"
    },
    {
     "data": {
      "text/html": [
       "<pre>Number of unpacked features : 9</pre>"
      ],
      "text/plain": [
       "Number of unpacked features : 9"
      ]
     },
     "metadata": {},
     "output_type": "display_data"
    },
    {
     "data": {
      "text/html": [
       "<pre>+-----------+--------------+-------------------+---------------------+-------------------+---------------------+</pre>"
      ],
      "text/plain": [
       "+-----------+--------------+-------------------+---------------------+-------------------+---------------------+"
      ]
     },
     "metadata": {},
     "output_type": "display_data"
    },
    {
     "data": {
      "text/html": [
       "<pre>| Iteration | Elapsed Time | Training-accuracy | Validation-accuracy | Training-log_loss | Validation-log_loss |</pre>"
      ],
      "text/plain": [
       "| Iteration | Elapsed Time | Training-accuracy | Validation-accuracy | Training-log_loss | Validation-log_loss |"
      ]
     },
     "metadata": {},
     "output_type": "display_data"
    },
    {
     "data": {
      "text/html": [
       "<pre>+-----------+--------------+-------------------+---------------------+-------------------+---------------------+</pre>"
      ],
      "text/plain": [
       "+-----------+--------------+-------------------+---------------------+-------------------+---------------------+"
      ]
     },
     "metadata": {},
     "output_type": "display_data"
    },
    {
     "data": {
      "text/html": [
       "<pre>| 1         | 0.020547     | 0.791476          | 0.631579            | 0.823659          | 1.154322            |</pre>"
      ],
      "text/plain": [
       "| 1         | 0.020547     | 0.791476          | 0.631579            | 0.823659          | 1.154322            |"
      ]
     },
     "metadata": {},
     "output_type": "display_data"
    },
    {
     "data": {
      "text/html": [
       "<pre>| 2         | 0.033023     | 0.838661          | 0.789474            | 0.787766          | 0.991846            |</pre>"
      ],
      "text/plain": [
       "| 2         | 0.033023     | 0.838661          | 0.789474            | 0.787766          | 0.991846            |"
      ]
     },
     "metadata": {},
     "output_type": "display_data"
    },
    {
     "data": {
      "text/html": [
       "<pre>| 3         | 0.043080     | 0.815830          | 0.736842            | 0.755546          | 0.914248            |</pre>"
      ],
      "text/plain": [
       "| 3         | 0.043080     | 0.815830          | 0.736842            | 0.755546          | 0.914248            |"
      ]
     },
     "metadata": {},
     "output_type": "display_data"
    },
    {
     "data": {
      "text/html": [
       "<pre>| 4         | 0.052007     | 0.846271          | 0.684211            | 0.758606          | 0.972837            |</pre>"
      ],
      "text/plain": [
       "| 4         | 0.052007     | 0.846271          | 0.684211            | 0.758606          | 0.972837            |"
      ]
     },
     "metadata": {},
     "output_type": "display_data"
    },
    {
     "data": {
      "text/html": [
       "<pre>| 5         | 0.062435     | 0.849315          | 0.684211            | 0.755760          | 0.948900            |</pre>"
      ],
      "text/plain": [
       "| 5         | 0.062435     | 0.849315          | 0.684211            | 0.755760          | 0.948900            |"
      ]
     },
     "metadata": {},
     "output_type": "display_data"
    },
    {
     "data": {
      "text/html": [
       "<pre>| 6         | 0.075902     | 0.861492          | 0.684211            | 0.753485          | 0.957275            |</pre>"
      ],
      "text/plain": [
       "| 6         | 0.075902     | 0.861492          | 0.684211            | 0.753485          | 0.957275            |"
      ]
     },
     "metadata": {},
     "output_type": "display_data"
    },
    {
     "data": {
      "text/html": [
       "<pre>+-----------+--------------+-------------------+---------------------+-------------------+---------------------+</pre>"
      ],
      "text/plain": [
       "+-----------+--------------+-------------------+---------------------+-------------------+---------------------+"
      ]
     },
     "metadata": {},
     "output_type": "display_data"
    },
    {
     "data": {
      "text/html": [
       "<pre>Decision tree classifier:</pre>"
      ],
      "text/plain": [
       "Decision tree classifier:"
      ]
     },
     "metadata": {},
     "output_type": "display_data"
    },
    {
     "data": {
      "text/html": [
       "<pre>--------------------------------------------------------</pre>"
      ],
      "text/plain": [
       "--------------------------------------------------------"
      ]
     },
     "metadata": {},
     "output_type": "display_data"
    },
    {
     "data": {
      "text/html": [
       "<pre>Number of examples          : 657</pre>"
      ],
      "text/plain": [
       "Number of examples          : 657"
      ]
     },
     "metadata": {},
     "output_type": "display_data"
    },
    {
     "data": {
      "text/html": [
       "<pre>Number of classes           : 6</pre>"
      ],
      "text/plain": [
       "Number of classes           : 6"
      ]
     },
     "metadata": {},
     "output_type": "display_data"
    },
    {
     "data": {
      "text/html": [
       "<pre>Number of feature columns   : 9</pre>"
      ],
      "text/plain": [
       "Number of feature columns   : 9"
      ]
     },
     "metadata": {},
     "output_type": "display_data"
    },
    {
     "data": {
      "text/html": [
       "<pre>Number of unpacked features : 9</pre>"
      ],
      "text/plain": [
       "Number of unpacked features : 9"
      ]
     },
     "metadata": {},
     "output_type": "display_data"
    },
    {
     "data": {
      "text/html": [
       "<pre>+-----------+--------------+-------------------+---------------------+-------------------+---------------------+</pre>"
      ],
      "text/plain": [
       "+-----------+--------------+-------------------+---------------------+-------------------+---------------------+"
      ]
     },
     "metadata": {},
     "output_type": "display_data"
    },
    {
     "data": {
      "text/html": [
       "<pre>| Iteration | Elapsed Time | Training-accuracy | Validation-accuracy | Training-log_loss | Validation-log_loss |</pre>"
      ],
      "text/plain": [
       "| Iteration | Elapsed Time | Training-accuracy | Validation-accuracy | Training-log_loss | Validation-log_loss |"
      ]
     },
     "metadata": {},
     "output_type": "display_data"
    },
    {
     "data": {
      "text/html": [
       "<pre>+-----------+--------------+-------------------+---------------------+-------------------+---------------------+</pre>"
      ],
      "text/plain": [
       "+-----------+--------------+-------------------+---------------------+-------------------+---------------------+"
      ]
     },
     "metadata": {},
     "output_type": "display_data"
    },
    {
     "data": {
      "text/html": [
       "<pre>| 1         | 0.020087     | 0.824962          | 0.736842            | 0.680823          | 0.748151            |</pre>"
      ],
      "text/plain": [
       "| 1         | 0.020087     | 0.824962          | 0.736842            | 0.680823          | 0.748151            |"
      ]
     },
     "metadata": {},
     "output_type": "display_data"
    },
    {
     "data": {
      "text/html": [
       "<pre>+-----------+--------------+-------------------+---------------------+-------------------+---------------------+</pre>"
      ],
      "text/plain": [
       "+-----------+--------------+-------------------+---------------------+-------------------+---------------------+"
      ]
     },
     "metadata": {},
     "output_type": "display_data"
    },
    {
     "data": {
      "text/html": [
       "<pre>Logistic regression:</pre>"
      ],
      "text/plain": [
       "Logistic regression:"
      ]
     },
     "metadata": {},
     "output_type": "display_data"
    },
    {
     "data": {
      "text/html": [
       "<pre>--------------------------------------------------------</pre>"
      ],
      "text/plain": [
       "--------------------------------------------------------"
      ]
     },
     "metadata": {},
     "output_type": "display_data"
    },
    {
     "data": {
      "text/html": [
       "<pre>Number of examples          : 657</pre>"
      ],
      "text/plain": [
       "Number of examples          : 657"
      ]
     },
     "metadata": {},
     "output_type": "display_data"
    },
    {
     "data": {
      "text/html": [
       "<pre>Number of classes           : 6</pre>"
      ],
      "text/plain": [
       "Number of classes           : 6"
      ]
     },
     "metadata": {},
     "output_type": "display_data"
    },
    {
     "data": {
      "text/html": [
       "<pre>Number of feature columns   : 9</pre>"
      ],
      "text/plain": [
       "Number of feature columns   : 9"
      ]
     },
     "metadata": {},
     "output_type": "display_data"
    },
    {
     "data": {
      "text/html": [
       "<pre>Number of unpacked features : 9</pre>"
      ],
      "text/plain": [
       "Number of unpacked features : 9"
      ]
     },
     "metadata": {},
     "output_type": "display_data"
    },
    {
     "data": {
      "text/html": [
       "<pre>Number of coefficients      : 50</pre>"
      ],
      "text/plain": [
       "Number of coefficients      : 50"
      ]
     },
     "metadata": {},
     "output_type": "display_data"
    },
    {
     "data": {
      "text/html": [
       "<pre>Starting Newton Method</pre>"
      ],
      "text/plain": [
       "Starting Newton Method"
      ]
     },
     "metadata": {},
     "output_type": "display_data"
    },
    {
     "data": {
      "text/html": [
       "<pre>--------------------------------------------------------</pre>"
      ],
      "text/plain": [
       "--------------------------------------------------------"
      ]
     },
     "metadata": {},
     "output_type": "display_data"
    },
    {
     "data": {
      "text/html": [
       "<pre>+-----------+----------+--------------+-------------------+---------------------+</pre>"
      ],
      "text/plain": [
       "+-----------+----------+--------------+-------------------+---------------------+"
      ]
     },
     "metadata": {},
     "output_type": "display_data"
    },
    {
     "data": {
      "text/html": [
       "<pre>| Iteration | Passes   | Elapsed Time | Training-accuracy | Validation-accuracy |</pre>"
      ],
      "text/plain": [
       "| Iteration | Passes   | Elapsed Time | Training-accuracy | Validation-accuracy |"
      ]
     },
     "metadata": {},
     "output_type": "display_data"
    },
    {
     "data": {
      "text/html": [
       "<pre>+-----------+----------+--------------+-------------------+---------------------+</pre>"
      ],
      "text/plain": [
       "+-----------+----------+--------------+-------------------+---------------------+"
      ]
     },
     "metadata": {},
     "output_type": "display_data"
    },
    {
     "data": {
      "text/html": [
       "<pre>| 1         | 2        | 0.005701     | 0.496195          | 0.578947            |</pre>"
      ],
      "text/plain": [
       "| 1         | 2        | 0.005701     | 0.496195          | 0.578947            |"
      ]
     },
     "metadata": {},
     "output_type": "display_data"
    },
    {
     "data": {
      "text/html": [
       "<pre>| 2         | 3        | 0.011538     | 0.531202          | 0.684211            |</pre>"
      ],
      "text/plain": [
       "| 2         | 3        | 0.011538     | 0.531202          | 0.684211            |"
      ]
     },
     "metadata": {},
     "output_type": "display_data"
    },
    {
     "data": {
      "text/html": [
       "<pre>| 3         | 4        | 0.015876     | 0.560122          | 0.684211            |</pre>"
      ],
      "text/plain": [
       "| 3         | 4        | 0.015876     | 0.560122          | 0.684211            |"
      ]
     },
     "metadata": {},
     "output_type": "display_data"
    },
    {
     "data": {
      "text/html": [
       "<pre>| 4         | 5        | 0.019750     | 0.564688          | 0.684211            |</pre>"
      ],
      "text/plain": [
       "| 4         | 5        | 0.019750     | 0.564688          | 0.684211            |"
      ]
     },
     "metadata": {},
     "output_type": "display_data"
    },
    {
     "data": {
      "text/html": [
       "<pre>| 5         | 6        | 0.023951     | 0.563166          | 0.684211            |</pre>"
      ],
      "text/plain": [
       "| 5         | 6        | 0.023951     | 0.563166          | 0.684211            |"
      ]
     },
     "metadata": {},
     "output_type": "display_data"
    },
    {
     "data": {
      "text/html": [
       "<pre>| 6         | 7        | 0.027471     | 0.563166          | 0.684211            |</pre>"
      ],
      "text/plain": [
       "| 6         | 7        | 0.027471     | 0.563166          | 0.684211            |"
      ]
     },
     "metadata": {},
     "output_type": "display_data"
    },
    {
     "data": {
      "text/html": [
       "<pre>+-----------+----------+--------------+-------------------+---------------------+</pre>"
      ],
      "text/plain": [
       "+-----------+----------+--------------+-------------------+---------------------+"
      ]
     },
     "metadata": {},
     "output_type": "display_data"
    },
    {
     "data": {
      "text/html": [
       "<pre>SUCCESS: Optimal solution found.</pre>"
      ],
      "text/plain": [
       "SUCCESS: Optimal solution found."
      ]
     },
     "metadata": {},
     "output_type": "display_data"
    },
    {
     "data": {
      "text/html": [
       "<pre></pre>"
      ],
      "text/plain": []
     },
     "metadata": {},
     "output_type": "display_data"
    },
    {
     "name": "stdout",
     "output_type": "stream",
     "text": [
      "PROGRESS: Model selection based on validation accuracy:\n",
      "PROGRESS: ---------------------------------------------\n",
      "PROGRESS: BoostedTreesClassifier          : 0.7894736528396606\n",
      "PROGRESS: RandomForestClassifier          : 0.7368420958518982\n",
      "PROGRESS: DecisionTreeClassifier          : 0.7368420958518982\n",
      "PROGRESS: LogisticClassifier              : 0.684211\n",
      "PROGRESS: ---------------------------------------------\n",
      "PROGRESS: Selecting BoostedTreesClassifier based on validation set performance.\n"
     ]
    }
   ],
   "source": [
    "# We train a classifier\n",
    "train_data, test_data = sf_contact_not_null.random_split(0.85)\n",
    "\n",
    "clf1 = tc.classifier.create(train_data, target='Contacts', features = features)"
   ]
  },
  {
   "cell_type": "code",
   "execution_count": 30,
   "metadata": {},
   "outputs": [
    {
     "data": {
      "text/plain": [
       "Class                          : BoostedTreesClassifier\n",
       "\n",
       "Schema\n",
       "------\n",
       "Number of examples             : 657\n",
       "Number of feature columns      : 9\n",
       "Number of unpacked features    : 9\n",
       "Number of classes              : 6\n",
       "\n",
       "Settings\n",
       "--------\n",
       "Number of trees                : 60\n",
       "Max tree depth                 : 6\n",
       "Training time (sec)            : 0.1743\n",
       "Training accuracy              : 0.9589\n",
       "Validation accuracy            : 0.7895\n",
       "Training log_loss              : 0.3432\n",
       "Validation log_loss            : 0.663"
      ]
     },
     "execution_count": 30,
     "metadata": {},
     "output_type": "execute_result"
    }
   ],
   "source": [
    "clf1"
   ]
  },
  {
   "cell_type": "code",
   "execution_count": 31,
   "metadata": {},
   "outputs": [],
   "source": [
    "#clf1.evaluate(test_data)\n",
    "#clf1.evaluate(train_data)"
   ]
  },
  {
   "cell_type": "code",
   "execution_count": 32,
   "metadata": {},
   "outputs": [],
   "source": [
    "#now convert the rest of the data\n",
    "sf_contact_null = tc.SFrame(data=contact_null)"
   ]
  },
  {
   "cell_type": "code",
   "execution_count": 33,
   "metadata": {},
   "outputs": [],
   "source": [
    "new_contacts = clf1.predict(sf_contact_null[features])"
   ]
  },
  {
   "cell_type": "code",
   "execution_count": 34,
   "metadata": {},
   "outputs": [],
   "source": [
    "contact_null['Contacts'] = new_contacts"
   ]
  },
  {
   "cell_type": "markdown",
   "metadata": {},
   "source": [
    "New electrodes table with inputed values"
   ]
  },
  {
   "cell_type": "code",
   "execution_count": 35,
   "metadata": {},
   "outputs": [],
   "source": [
    "electrodes = contact_null.append(contact_not_null).sort_index()"
   ]
  },
  {
   "cell_type": "code",
   "execution_count": 36,
   "metadata": {},
   "outputs": [],
   "source": [
    "#missing_values_table(electrodes)"
   ]
  },
  {
   "cell_type": "markdown",
   "metadata": {},
   "source": [
    "How the categories look like on the two different groups?"
   ]
  },
  {
   "cell_type": "code",
   "execution_count": 37,
   "metadata": {},
   "outputs": [],
   "source": [
    "contacts_supine = df_supine.groupby('Contacts').count()['TPLE']\n",
    "contacts_prone = df_prone.groupby('Contacts').count()['TPLE']"
   ]
  },
  {
   "cell_type": "code",
   "execution_count": 38,
   "metadata": {},
   "outputs": [
    {
     "data": {
      "text/plain": [
       "<BarContainer object of 6 artists>"
      ]
     },
     "execution_count": 38,
     "metadata": {},
     "output_type": "execute_result"
    },
    {
     "data": {
      "image/png": "[encoded data removed]",
      "text/plain": [
       "<Figure size 1440x576 with 2 Axes>"
      ]
     },
     "metadata": {},
     "output_type": "display_data"
    }
   ],
   "source": [
    "plt.figure(figsize=[20, 8])\n",
    "plt.subplot(1,2,1); plt.xticks(contacts_supine.index)\n",
    "plt.bar(contacts_supine.index, contacts_supine)\n",
    "plt.subplot(1,2,2), plt.xticks(contacts_prone.index)\n",
    "plt.bar(contacts_prone.index, contacts_prone, color='y')"
   ]
  },
  {
   "cell_type": "markdown",
   "metadata": {},
   "source": [
    "### Target Variables"
   ]
  },
  {
   "cell_type": "markdown",
   "metadata": {},
   "source": [
    "Now we will remove large outliers (difference between planned and real coord) in the Z-axis as electrode insertion length (depth) is influenced also by other factors (calculations regarding depth which could lead to either too superficial or too deep, but also possible malfixation of the screw cap which may cause loosening of the electrode and hence a more superficial position.. it won't migrate into the depth spontaneously). These are very limited numbers and would too much influence further analysis."
   ]
  },
  {
   "cell_type": "code",
   "execution_count": 39,
   "metadata": {},
   "outputs": [
    {
     "data": {
      "image/png": "[encoded data removed]",
      "text/plain": [
       "<Figure size 1152x576 with 1 Axes>"
      ]
     },
     "metadata": {},
     "output_type": "display_data"
    }
   ],
   "source": [
    "plt.figure(figsize=[16, 8])\n",
    "coordinates = ['PlanningX','PlanningY','PlanningZ','TipX','TipY','TipZ']\n",
    "for c in coordinates:\n",
    "    sns.kdeplot(electrodes[str(c)], label=str(c))"
   ]
  },
  {
   "cell_type": "markdown",
   "metadata": {},
   "source": [
    "Every Axis follows a particular distribution, let's try a normal test"
   ]
  },
  {
   "cell_type": "code",
   "execution_count": 40,
   "metadata": {},
   "outputs": [
    {
     "name": "stdout",
     "output_type": "stream",
     "text": [
      "p = 6.9465819854989e-84 The null hypothesis can be rejected\n",
      "p = 1.882265752281482e-07 The null hypothesis can be rejected\n",
      "p = 0.0002928270371526327 The null hypothesis can be rejected\n",
      "p = 1.404931961375195e-62 The null hypothesis can be rejected\n",
      "p = 1.9081660369783106e-06 The null hypothesis can be rejected\n",
      "p = 0.00010052998936429912 The null hypothesis can be rejected\n"
     ]
    }
   ],
   "source": [
    "for c in coordinates:\n",
    "    normal_test(electrodes[str(c)])"
   ]
  },
  {
   "cell_type": "markdown",
   "metadata": {},
   "source": [
    "Not normal distribuited"
   ]
  },
  {
   "cell_type": "code",
   "execution_count": 41,
   "metadata": {},
   "outputs": [
    {
     "data": {
      "text/html": [
       "<div>\n",
       "<style scoped>\n",
       "    .dataframe tbody tr th:only-of-type {\n",
       "        vertical-align: middle;\n",
       "    }\n",
       "\n",
       "    .dataframe tbody tr th {\n",
       "        vertical-align: top;\n",
       "    }\n",
       "\n",
       "    .dataframe thead th {\n",
       "        text-align: right;\n",
       "    }\n",
       "</style>\n",
       "<table border=\"1\" class=\"dataframe\">\n",
       "  <thead>\n",
       "    <tr style=\"text-align: right;\">\n",
       "      <th></th>\n",
       "      <th>PatientPosition</th>\n",
       "      <th>Contacts</th>\n",
       "      <th>ElectrodeType</th>\n",
       "      <th>PlanningX</th>\n",
       "      <th>PlanningY</th>\n",
       "      <th>PlanningZ</th>\n",
       "      <th>DuraTipDistancePlanned</th>\n",
       "      <th>TipX</th>\n",
       "      <th>TipY</th>\n",
       "      <th>TipZ</th>\n",
       "      <th>SkinSkullDistance</th>\n",
       "      <th>SkullThickness</th>\n",
       "      <th>SkullAngle</th>\n",
       "      <th>TPLE</th>\n",
       "    </tr>\n",
       "  </thead>\n",
       "  <tbody>\n",
       "    <tr>\n",
       "      <th>0</th>\n",
       "      <td>Supine</td>\n",
       "      <td>18</td>\n",
       "      <td>Oblique</td>\n",
       "      <td>125.8</td>\n",
       "      <td>106.5</td>\n",
       "      <td>135.5</td>\n",
       "      <td>86.6</td>\n",
       "      <td>126.4</td>\n",
       "      <td>106.8</td>\n",
       "      <td>135.2</td>\n",
       "      <td>7.0</td>\n",
       "      <td>9.7</td>\n",
       "      <td>70.3</td>\n",
       "      <td>0.7</td>\n",
       "    </tr>\n",
       "    <tr>\n",
       "      <th>1</th>\n",
       "      <td>Supine</td>\n",
       "      <td>18</td>\n",
       "      <td>Oblique</td>\n",
       "      <td>130.6</td>\n",
       "      <td>131.0</td>\n",
       "      <td>136.4</td>\n",
       "      <td>105.9</td>\n",
       "      <td>134.7</td>\n",
       "      <td>132.9</td>\n",
       "      <td>136.0</td>\n",
       "      <td>9.4</td>\n",
       "      <td>7.4</td>\n",
       "      <td>63.8</td>\n",
       "      <td>4.5</td>\n",
       "    </tr>\n",
       "    <tr>\n",
       "      <th>2</th>\n",
       "      <td>Supine</td>\n",
       "      <td>10</td>\n",
       "      <td>Oblique</td>\n",
       "      <td>139.1</td>\n",
       "      <td>104.9</td>\n",
       "      <td>124.0</td>\n",
       "      <td>35.2</td>\n",
       "      <td>139.1</td>\n",
       "      <td>108.3</td>\n",
       "      <td>124.4</td>\n",
       "      <td>9.8</td>\n",
       "      <td>5.5</td>\n",
       "      <td>66.4</td>\n",
       "      <td>3.4</td>\n",
       "    </tr>\n",
       "    <tr>\n",
       "      <th>3</th>\n",
       "      <td>Supine</td>\n",
       "      <td>10</td>\n",
       "      <td>Oblique</td>\n",
       "      <td>137.7</td>\n",
       "      <td>112.2</td>\n",
       "      <td>115.0</td>\n",
       "      <td>35.9</td>\n",
       "      <td>136.4</td>\n",
       "      <td>115.2</td>\n",
       "      <td>115.0</td>\n",
       "      <td>8.4</td>\n",
       "      <td>6.5</td>\n",
       "      <td>66.3</td>\n",
       "      <td>3.3</td>\n",
       "    </tr>\n",
       "    <tr>\n",
       "      <th>4</th>\n",
       "      <td>Supine</td>\n",
       "      <td>12</td>\n",
       "      <td>Oblique</td>\n",
       "      <td>126.0</td>\n",
       "      <td>76.0</td>\n",
       "      <td>124.1</td>\n",
       "      <td>39.5</td>\n",
       "      <td>124.6</td>\n",
       "      <td>75.8</td>\n",
       "      <td>126.8</td>\n",
       "      <td>7.4</td>\n",
       "      <td>4.6</td>\n",
       "      <td>84.7</td>\n",
       "      <td>3.0</td>\n",
       "    </tr>\n",
       "  </tbody>\n",
       "</table>\n",
       "</div>"
      ],
      "text/plain": [
       "  PatientPosition  Contacts ElectrodeType  PlanningX  PlanningY  PlanningZ  \\\n",
       "0          Supine        18       Oblique      125.8      106.5      135.5   \n",
       "1          Supine        18       Oblique      130.6      131.0      136.4   \n",
       "2          Supine        10       Oblique      139.1      104.9      124.0   \n",
       "3          Supine        10       Oblique      137.7      112.2      115.0   \n",
       "4          Supine        12       Oblique      126.0       76.0      124.1   \n",
       "\n",
       "   DuraTipDistancePlanned   TipX   TipY   TipZ  SkinSkullDistance  \\\n",
       "0                    86.6  126.4  106.8  135.2                7.0   \n",
       "1                   105.9  134.7  132.9  136.0                9.4   \n",
       "2                    35.2  139.1  108.3  124.4                9.8   \n",
       "3                    35.9  136.4  115.2  115.0                8.4   \n",
       "4                    39.5  124.6   75.8  126.8                7.4   \n",
       "\n",
       "   SkullThickness  SkullAngle  TPLE  \n",
       "0             9.7        70.3   0.7  \n",
       "1             7.4        63.8   4.5  \n",
       "2             5.5        66.4   3.4  \n",
       "3             6.5        66.3   3.3  \n",
       "4             4.6        84.7   3.0  "
      ]
     },
     "execution_count": 41,
     "metadata": {},
     "output_type": "execute_result"
    }
   ],
   "source": [
    "electrodes.head()"
   ]
  },
  {
   "cell_type": "markdown",
   "metadata": {},
   "source": [
    "We need to structure our data properly for further analysis and convert the categorical variables (nominal, ordinal) to the `category` type."
   ]
  },
  {
   "cell_type": "code",
   "execution_count": 42,
   "metadata": {},
   "outputs": [],
   "source": [
    "# convert categorical columns to \"category\" dtype\n",
    "#catcols = ['PatientPosition', 'Contacts', 'ElectrodeType', 'ScrewLength']\n",
    "#for cat in catcols:\n",
    "#    electrodes[cat] = electrodes[cat].astype('category')\n",
    "\n",
    "# confirm correct types for all columns now\n",
    "#electrodes.dtypes"
   ]
  },
  {
   "cell_type": "markdown",
   "metadata": {},
   "source": [
    "### Regression Model"
   ]
  },
  {
   "cell_type": "code",
   "execution_count": 43,
   "metadata": {},
   "outputs": [],
   "source": [
    "electrodes.drop('TPLE', axis = 1, inplace = True)"
   ]
  },
  {
   "cell_type": "code",
   "execution_count": 44,
   "metadata": {},
   "outputs": [],
   "source": [
    "#electrodes.insert(0, 'Index', range(0, len(electrodes), 1))\n",
    "sf_electrodes = tc.SFrame(data=electrodes)"
   ]
  },
  {
   "cell_type": "code",
   "execution_count": 45,
   "metadata": {},
   "outputs": [
    {
     "data": {
      "text/html": [
       "<div style=\"max-height:1000px;max-width:1500px;overflow:auto;\"><table frame=\"box\" rules=\"cols\">\n",
       "    <tr>\n",
       "        <th style=\"padding-left: 1em; padding-right: 1em; text-align: center\">PatientPosition</th>\n",
       "        <th style=\"padding-left: 1em; padding-right: 1em; text-align: center\">Contacts</th>\n",
       "        <th style=\"padding-left: 1em; padding-right: 1em; text-align: center\">ElectrodeType</th>\n",
       "        <th style=\"padding-left: 1em; padding-right: 1em; text-align: center\">PlanningX</th>\n",
       "        <th style=\"padding-left: 1em; padding-right: 1em; text-align: center\">PlanningY</th>\n",
       "        <th style=\"padding-left: 1em; padding-right: 1em; text-align: center\">PlanningZ</th>\n",
       "        <th style=\"padding-left: 1em; padding-right: 1em; text-align: center\">DuraTipDistancePlanned</th>\n",
       "        <th style=\"padding-left: 1em; padding-right: 1em; text-align: center\">TipX</th>\n",
       "    </tr>\n",
       "    <tr>\n",
       "        <td style=\"padding-left: 1em; padding-right: 1em; text-align: center; vertical-align: top\">Supine</td>\n",
       "        <td style=\"padding-left: 1em; padding-right: 1em; text-align: center; vertical-align: top\">18</td>\n",
       "        <td style=\"padding-left: 1em; padding-right: 1em; text-align: center; vertical-align: top\">Oblique</td>\n",
       "        <td style=\"padding-left: 1em; padding-right: 1em; text-align: center; vertical-align: top\">125.8</td>\n",
       "        <td style=\"padding-left: 1em; padding-right: 1em; text-align: center; vertical-align: top\">106.5</td>\n",
       "        <td style=\"padding-left: 1em; padding-right: 1em; text-align: center; vertical-align: top\">135.5</td>\n",
       "        <td style=\"padding-left: 1em; padding-right: 1em; text-align: center; vertical-align: top\">86.6</td>\n",
       "        <td style=\"padding-left: 1em; padding-right: 1em; text-align: center; vertical-align: top\">126.4</td>\n",
       "    </tr>\n",
       "    <tr>\n",
       "        <td style=\"padding-left: 1em; padding-right: 1em; text-align: center; vertical-align: top\">Supine</td>\n",
       "        <td style=\"padding-left: 1em; padding-right: 1em; text-align: center; vertical-align: top\">18</td>\n",
       "        <td style=\"padding-left: 1em; padding-right: 1em; text-align: center; vertical-align: top\">Oblique</td>\n",
       "        <td style=\"padding-left: 1em; padding-right: 1em; text-align: center; vertical-align: top\">130.6</td>\n",
       "        <td style=\"padding-left: 1em; padding-right: 1em; text-align: center; vertical-align: top\">131.0</td>\n",
       "        <td style=\"padding-left: 1em; padding-right: 1em; text-align: center; vertical-align: top\">136.4</td>\n",
       "        <td style=\"padding-left: 1em; padding-right: 1em; text-align: center; vertical-align: top\">105.9</td>\n",
       "        <td style=\"padding-left: 1em; padding-right: 1em; text-align: center; vertical-align: top\">134.7</td>\n",
       "    </tr>\n",
       "    <tr>\n",
       "        <td style=\"padding-left: 1em; padding-right: 1em; text-align: center; vertical-align: top\">Supine</td>\n",
       "        <td style=\"padding-left: 1em; padding-right: 1em; text-align: center; vertical-align: top\">10</td>\n",
       "        <td style=\"padding-left: 1em; padding-right: 1em; text-align: center; vertical-align: top\">Oblique</td>\n",
       "        <td style=\"padding-left: 1em; padding-right: 1em; text-align: center; vertical-align: top\">139.1</td>\n",
       "        <td style=\"padding-left: 1em; padding-right: 1em; text-align: center; vertical-align: top\">104.9</td>\n",
       "        <td style=\"padding-left: 1em; padding-right: 1em; text-align: center; vertical-align: top\">124.0</td>\n",
       "        <td style=\"padding-left: 1em; padding-right: 1em; text-align: center; vertical-align: top\">35.2</td>\n",
       "        <td style=\"padding-left: 1em; padding-right: 1em; text-align: center; vertical-align: top\">139.1</td>\n",
       "    </tr>\n",
       "    <tr>\n",
       "        <td style=\"padding-left: 1em; padding-right: 1em; text-align: center; vertical-align: top\">Supine</td>\n",
       "        <td style=\"padding-left: 1em; padding-right: 1em; text-align: center; vertical-align: top\">10</td>\n",
       "        <td style=\"padding-left: 1em; padding-right: 1em; text-align: center; vertical-align: top\">Oblique</td>\n",
       "        <td style=\"padding-left: 1em; padding-right: 1em; text-align: center; vertical-align: top\">137.7</td>\n",
       "        <td style=\"padding-left: 1em; padding-right: 1em; text-align: center; vertical-align: top\">112.2</td>\n",
       "        <td style=\"padding-left: 1em; padding-right: 1em; text-align: center; vertical-align: top\">115.0</td>\n",
       "        <td style=\"padding-left: 1em; padding-right: 1em; text-align: center; vertical-align: top\">35.9</td>\n",
       "        <td style=\"padding-left: 1em; padding-right: 1em; text-align: center; vertical-align: top\">136.4</td>\n",
       "    </tr>\n",
       "    <tr>\n",
       "        <td style=\"padding-left: 1em; padding-right: 1em; text-align: center; vertical-align: top\">Supine</td>\n",
       "        <td style=\"padding-left: 1em; padding-right: 1em; text-align: center; vertical-align: top\">12</td>\n",
       "        <td style=\"padding-left: 1em; padding-right: 1em; text-align: center; vertical-align: top\">Oblique</td>\n",
       "        <td style=\"padding-left: 1em; padding-right: 1em; text-align: center; vertical-align: top\">126.0</td>\n",
       "        <td style=\"padding-left: 1em; padding-right: 1em; text-align: center; vertical-align: top\">76.0</td>\n",
       "        <td style=\"padding-left: 1em; padding-right: 1em; text-align: center; vertical-align: top\">124.1</td>\n",
       "        <td style=\"padding-left: 1em; padding-right: 1em; text-align: center; vertical-align: top\">39.5</td>\n",
       "        <td style=\"padding-left: 1em; padding-right: 1em; text-align: center; vertical-align: top\">124.6</td>\n",
       "    </tr>\n",
       "    <tr>\n",
       "        <td style=\"padding-left: 1em; padding-right: 1em; text-align: center; vertical-align: top\">Supine</td>\n",
       "        <td style=\"padding-left: 1em; padding-right: 1em; text-align: center; vertical-align: top\">15</td>\n",
       "        <td style=\"padding-left: 1em; padding-right: 1em; text-align: center; vertical-align: top\">Oblique</td>\n",
       "        <td style=\"padding-left: 1em; padding-right: 1em; text-align: center; vertical-align: top\">134.8</td>\n",
       "        <td style=\"padding-left: 1em; padding-right: 1em; text-align: center; vertical-align: top\">121.8</td>\n",
       "        <td style=\"padding-left: 1em; padding-right: 1em; text-align: center; vertical-align: top\">119.8</td>\n",
       "        <td style=\"padding-left: 1em; padding-right: 1em; text-align: center; vertical-align: top\">55.3</td>\n",
       "        <td style=\"padding-left: 1em; padding-right: 1em; text-align: center; vertical-align: top\">134.2</td>\n",
       "    </tr>\n",
       "    <tr>\n",
       "        <td style=\"padding-left: 1em; padding-right: 1em; text-align: center; vertical-align: top\">Supine</td>\n",
       "        <td style=\"padding-left: 1em; padding-right: 1em; text-align: center; vertical-align: top\">15</td>\n",
       "        <td style=\"padding-left: 1em; padding-right: 1em; text-align: center; vertical-align: top\">Oblique</td>\n",
       "        <td style=\"padding-left: 1em; padding-right: 1em; text-align: center; vertical-align: top\">131.8</td>\n",
       "        <td style=\"padding-left: 1em; padding-right: 1em; text-align: center; vertical-align: top\">117.3</td>\n",
       "        <td style=\"padding-left: 1em; padding-right: 1em; text-align: center; vertical-align: top\">118.4</td>\n",
       "        <td style=\"padding-left: 1em; padding-right: 1em; text-align: center; vertical-align: top\">87.9</td>\n",
       "        <td style=\"padding-left: 1em; padding-right: 1em; text-align: center; vertical-align: top\">133.5</td>\n",
       "    </tr>\n",
       "    <tr>\n",
       "        <td style=\"padding-left: 1em; padding-right: 1em; text-align: center; vertical-align: top\">Supine</td>\n",
       "        <td style=\"padding-left: 1em; padding-right: 1em; text-align: center; vertical-align: top\">18</td>\n",
       "        <td style=\"padding-left: 1em; padding-right: 1em; text-align: center; vertical-align: top\">Oblique</td>\n",
       "        <td style=\"padding-left: 1em; padding-right: 1em; text-align: center; vertical-align: top\">66.4</td>\n",
       "        <td style=\"padding-left: 1em; padding-right: 1em; text-align: center; vertical-align: top\">123.9</td>\n",
       "        <td style=\"padding-left: 1em; padding-right: 1em; text-align: center; vertical-align: top\">116.4</td>\n",
       "        <td style=\"padding-left: 1em; padding-right: 1em; text-align: center; vertical-align: top\">74.1</td>\n",
       "        <td style=\"padding-left: 1em; padding-right: 1em; text-align: center; vertical-align: top\">67.4</td>\n",
       "    </tr>\n",
       "    <tr>\n",
       "        <td style=\"padding-left: 1em; padding-right: 1em; text-align: center; vertical-align: top\">Supine</td>\n",
       "        <td style=\"padding-left: 1em; padding-right: 1em; text-align: center; vertical-align: top\">10</td>\n",
       "        <td style=\"padding-left: 1em; padding-right: 1em; text-align: center; vertical-align: top\">Oblique</td>\n",
       "        <td style=\"padding-left: 1em; padding-right: 1em; text-align: center; vertical-align: top\">146.0</td>\n",
       "        <td style=\"padding-left: 1em; padding-right: 1em; text-align: center; vertical-align: top\">58.0</td>\n",
       "        <td style=\"padding-left: 1em; padding-right: 1em; text-align: center; vertical-align: top\">109.9</td>\n",
       "        <td style=\"padding-left: 1em; padding-right: 1em; text-align: center; vertical-align: top\">32.6</td>\n",
       "        <td style=\"padding-left: 1em; padding-right: 1em; text-align: center; vertical-align: top\">150.1</td>\n",
       "    </tr>\n",
       "    <tr>\n",
       "        <td style=\"padding-left: 1em; padding-right: 1em; text-align: center; vertical-align: top\">Supine</td>\n",
       "        <td style=\"padding-left: 1em; padding-right: 1em; text-align: center; vertical-align: top\">10</td>\n",
       "        <td style=\"padding-left: 1em; padding-right: 1em; text-align: center; vertical-align: top\">Orthogonal</td>\n",
       "        <td style=\"padding-left: 1em; padding-right: 1em; text-align: center; vertical-align: top\">131.1</td>\n",
       "        <td style=\"padding-left: 1em; padding-right: 1em; text-align: center; vertical-align: top\">85.4</td>\n",
       "        <td style=\"padding-left: 1em; padding-right: 1em; text-align: center; vertical-align: top\">108.8</td>\n",
       "        <td style=\"padding-left: 1em; padding-right: 1em; text-align: center; vertical-align: top\">49.3</td>\n",
       "        <td style=\"padding-left: 1em; padding-right: 1em; text-align: center; vertical-align: top\">127.8</td>\n",
       "    </tr>\n",
       "</table>\n",
       "<table frame=\"box\" rules=\"cols\">\n",
       "    <tr>\n",
       "        <th style=\"padding-left: 1em; padding-right: 1em; text-align: center\">TipY</th>\n",
       "        <th style=\"padding-left: 1em; padding-right: 1em; text-align: center\">TipZ</th>\n",
       "        <th style=\"padding-left: 1em; padding-right: 1em; text-align: center\">SkinSkullDistance</th>\n",
       "        <th style=\"padding-left: 1em; padding-right: 1em; text-align: center\">SkullThickness</th>\n",
       "        <th style=\"padding-left: 1em; padding-right: 1em; text-align: center\">SkullAngle</th>\n",
       "    </tr>\n",
       "    <tr>\n",
       "        <td style=\"padding-left: 1em; padding-right: 1em; text-align: center; vertical-align: top\">106.8</td>\n",
       "        <td style=\"padding-left: 1em; padding-right: 1em; text-align: center; vertical-align: top\">135.2</td>\n",
       "        <td style=\"padding-left: 1em; padding-right: 1em; text-align: center; vertical-align: top\">7.0</td>\n",
       "        <td style=\"padding-left: 1em; padding-right: 1em; text-align: center; vertical-align: top\">9.7</td>\n",
       "        <td style=\"padding-left: 1em; padding-right: 1em; text-align: center; vertical-align: top\">70.3</td>\n",
       "    </tr>\n",
       "    <tr>\n",
       "        <td style=\"padding-left: 1em; padding-right: 1em; text-align: center; vertical-align: top\">132.9</td>\n",
       "        <td style=\"padding-left: 1em; padding-right: 1em; text-align: center; vertical-align: top\">136.0</td>\n",
       "        <td style=\"padding-left: 1em; padding-right: 1em; text-align: center; vertical-align: top\">9.4</td>\n",
       "        <td style=\"padding-left: 1em; padding-right: 1em; text-align: center; vertical-align: top\">7.4</td>\n",
       "        <td style=\"padding-left: 1em; padding-right: 1em; text-align: center; vertical-align: top\">63.8</td>\n",
       "    </tr>\n",
       "    <tr>\n",
       "        <td style=\"padding-left: 1em; padding-right: 1em; text-align: center; vertical-align: top\">108.3</td>\n",
       "        <td style=\"padding-left: 1em; padding-right: 1em; text-align: center; vertical-align: top\">124.4</td>\n",
       "        <td style=\"padding-left: 1em; padding-right: 1em; text-align: center; vertical-align: top\">9.8</td>\n",
       "        <td style=\"padding-left: 1em; padding-right: 1em; text-align: center; vertical-align: top\">5.5</td>\n",
       "        <td style=\"padding-left: 1em; padding-right: 1em; text-align: center; vertical-align: top\">66.4</td>\n",
       "    </tr>\n",
       "    <tr>\n",
       "        <td style=\"padding-left: 1em; padding-right: 1em; text-align: center; vertical-align: top\">115.2</td>\n",
       "        <td style=\"padding-left: 1em; padding-right: 1em; text-align: center; vertical-align: top\">115.0</td>\n",
       "        <td style=\"padding-left: 1em; padding-right: 1em; text-align: center; vertical-align: top\">8.4</td>\n",
       "        <td style=\"padding-left: 1em; padding-right: 1em; text-align: center; vertical-align: top\">6.5</td>\n",
       "        <td style=\"padding-left: 1em; padding-right: 1em; text-align: center; vertical-align: top\">66.3</td>\n",
       "    </tr>\n",
       "    <tr>\n",
       "        <td style=\"padding-left: 1em; padding-right: 1em; text-align: center; vertical-align: top\">75.8</td>\n",
       "        <td style=\"padding-left: 1em; padding-right: 1em; text-align: center; vertical-align: top\">126.8</td>\n",
       "        <td style=\"padding-left: 1em; padding-right: 1em; text-align: center; vertical-align: top\">7.4</td>\n",
       "        <td style=\"padding-left: 1em; padding-right: 1em; text-align: center; vertical-align: top\">4.6</td>\n",
       "        <td style=\"padding-left: 1em; padding-right: 1em; text-align: center; vertical-align: top\">84.7</td>\n",
       "    </tr>\n",
       "    <tr>\n",
       "        <td style=\"padding-left: 1em; padding-right: 1em; text-align: center; vertical-align: top\">122.6</td>\n",
       "        <td style=\"padding-left: 1em; padding-right: 1em; text-align: center; vertical-align: top\">121.3</td>\n",
       "        <td style=\"padding-left: 1em; padding-right: 1em; text-align: center; vertical-align: top\">6.9</td>\n",
       "        <td style=\"padding-left: 1em; padding-right: 1em; text-align: center; vertical-align: top\">11.1</td>\n",
       "        <td style=\"padding-left: 1em; padding-right: 1em; text-align: center; vertical-align: top\">67.0</td>\n",
       "    </tr>\n",
       "    <tr>\n",
       "        <td style=\"padding-left: 1em; padding-right: 1em; text-align: center; vertical-align: top\">117.9</td>\n",
       "        <td style=\"padding-left: 1em; padding-right: 1em; text-align: center; vertical-align: top\">116.9</td>\n",
       "        <td style=\"padding-left: 1em; padding-right: 1em; text-align: center; vertical-align: top\">8.0</td>\n",
       "        <td style=\"padding-left: 1em; padding-right: 1em; text-align: center; vertical-align: top\">9.9</td>\n",
       "        <td style=\"padding-left: 1em; padding-right: 1em; text-align: center; vertical-align: top\">72.8</td>\n",
       "    </tr>\n",
       "    <tr>\n",
       "        <td style=\"padding-left: 1em; padding-right: 1em; text-align: center; vertical-align: top\">127.5</td>\n",
       "        <td style=\"padding-left: 1em; padding-right: 1em; text-align: center; vertical-align: top\">114.4</td>\n",
       "        <td style=\"padding-left: 1em; padding-right: 1em; text-align: center; vertical-align: top\">8.9</td>\n",
       "        <td style=\"padding-left: 1em; padding-right: 1em; text-align: center; vertical-align: top\">11.5</td>\n",
       "        <td style=\"padding-left: 1em; padding-right: 1em; text-align: center; vertical-align: top\">61.2</td>\n",
       "    </tr>\n",
       "    <tr>\n",
       "        <td style=\"padding-left: 1em; padding-right: 1em; text-align: center; vertical-align: top\">59.9</td>\n",
       "        <td style=\"padding-left: 1em; padding-right: 1em; text-align: center; vertical-align: top\">111.4</td>\n",
       "        <td style=\"padding-left: 1em; padding-right: 1em; text-align: center; vertical-align: top\">13.0</td>\n",
       "        <td style=\"padding-left: 1em; padding-right: 1em; text-align: center; vertical-align: top\">9.6</td>\n",
       "        <td style=\"padding-left: 1em; padding-right: 1em; text-align: center; vertical-align: top\">50.1</td>\n",
       "    </tr>\n",
       "    <tr>\n",
       "        <td style=\"padding-left: 1em; padding-right: 1em; text-align: center; vertical-align: top\">84.6</td>\n",
       "        <td style=\"padding-left: 1em; padding-right: 1em; text-align: center; vertical-align: top\">108.8</td>\n",
       "        <td style=\"padding-left: 1em; padding-right: 1em; text-align: center; vertical-align: top\">8.5</td>\n",
       "        <td style=\"padding-left: 1em; padding-right: 1em; text-align: center; vertical-align: top\">6.5</td>\n",
       "        <td style=\"padding-left: 1em; padding-right: 1em; text-align: center; vertical-align: top\">82.6</td>\n",
       "    </tr>\n",
       "</table>\n",
       "[10 rows x 13 columns]<br/>\n",
       "</div>"
      ],
      "text/plain": [
       "Columns:\n",
       "\tPatientPosition\tstr\n",
       "\tContacts\tint\n",
       "\tElectrodeType\tstr\n",
       "\tPlanningX\tfloat\n",
       "\tPlanningY\tfloat\n",
       "\tPlanningZ\tfloat\n",
       "\tDuraTipDistancePlanned\tfloat\n",
       "\tTipX\tfloat\n",
       "\tTipY\tfloat\n",
       "\tTipZ\tfloat\n",
       "\tSkinSkullDistance\tfloat\n",
       "\tSkullThickness\tfloat\n",
       "\tSkullAngle\tfloat\n",
       "\n",
       "Rows: 10\n",
       "\n",
       "Data:\n",
       "+-----------------+----------+---------------+-----------+-----------+-----------+\n",
       "| PatientPosition | Contacts | ElectrodeType | PlanningX | PlanningY | PlanningZ |\n",
       "+-----------------+----------+---------------+-----------+-----------+-----------+\n",
       "|      Supine     |    18    |    Oblique    |   125.8   |   106.5   |   135.5   |\n",
       "|      Supine     |    18    |    Oblique    |   130.6   |   131.0   |   136.4   |\n",
       "|      Supine     |    10    |    Oblique    |   139.1   |   104.9   |   124.0   |\n",
       "|      Supine     |    10    |    Oblique    |   137.7   |   112.2   |   115.0   |\n",
       "|      Supine     |    12    |    Oblique    |   126.0   |    76.0   |   124.1   |\n",
       "|      Supine     |    15    |    Oblique    |   134.8   |   121.8   |   119.8   |\n",
       "|      Supine     |    15    |    Oblique    |   131.8   |   117.3   |   118.4   |\n",
       "|      Supine     |    18    |    Oblique    |    66.4   |   123.9   |   116.4   |\n",
       "|      Supine     |    10    |    Oblique    |   146.0   |    58.0   |   109.9   |\n",
       "|      Supine     |    10    |   Orthogonal  |   131.1   |    85.4   |   108.8   |\n",
       "+-----------------+----------+---------------+-----------+-----------+-----------+\n",
       "+------------------------+-------+-------+-------+-------------------+----------------+\n",
       "| DuraTipDistancePlanned |  TipX |  TipY |  TipZ | SkinSkullDistance | SkullThickness |\n",
       "+------------------------+-------+-------+-------+-------------------+----------------+\n",
       "|          86.6          | 126.4 | 106.8 | 135.2 |        7.0        |      9.7       |\n",
       "|         105.9          | 134.7 | 132.9 | 136.0 |        9.4        |      7.4       |\n",
       "|          35.2          | 139.1 | 108.3 | 124.4 |        9.8        |      5.5       |\n",
       "|          35.9          | 136.4 | 115.2 | 115.0 |        8.4        |      6.5       |\n",
       "|          39.5          | 124.6 |  75.8 | 126.8 |        7.4        |      4.6       |\n",
       "|          55.3          | 134.2 | 122.6 | 121.3 |        6.9        |      11.1      |\n",
       "|          87.9          | 133.5 | 117.9 | 116.9 |        8.0        |      9.9       |\n",
       "|          74.1          |  67.4 | 127.5 | 114.4 |        8.9        |      11.5      |\n",
       "|          32.6          | 150.1 |  59.9 | 111.4 |        13.0       |      9.6       |\n",
       "|          49.3          | 127.8 |  84.6 | 108.8 |        8.5        |      6.5       |\n",
       "+------------------------+-------+-------+-------+-------------------+----------------+\n",
       "+------------+\n",
       "| SkullAngle |\n",
       "+------------+\n",
       "|    70.3    |\n",
       "|    63.8    |\n",
       "|    66.4    |\n",
       "|    66.3    |\n",
       "|    84.7    |\n",
       "|    67.0    |\n",
       "|    72.8    |\n",
       "|    61.2    |\n",
       "|    50.1    |\n",
       "|    82.6    |\n",
       "+------------+\n",
       "[10 rows x 13 columns]"
      ]
     },
     "execution_count": 45,
     "metadata": {},
     "output_type": "execute_result"
    }
   ],
   "source": [
    "sf_electrodes.head()"
   ]
  },
  {
   "cell_type": "code",
   "execution_count": 46,
   "metadata": {},
   "outputs": [
    {
     "data": {
      "text/plain": [
       "866"
      ]
     },
     "execution_count": 46,
     "metadata": {},
     "output_type": "execute_result"
    }
   ],
   "source": [
    "sf_electrodes.num_rows()"
   ]
  },
  {
   "cell_type": "code",
   "execution_count": 47,
   "metadata": {},
   "outputs": [],
   "source": [
    "features_train = ['PatientPosition',\n",
    " 'Contacts',\n",
    " 'ElectrodeType',\n",
    " 'PlanningX',\n",
    " 'PlanningY',\n",
    " 'PlanningZ',\n",
    " 'DuraTipDistancePlanned','SkinSkullDistance',\n",
    " 'SkullThickness',\n",
    " 'SkullAngle']"
   ]
  },
  {
   "cell_type": "code",
   "execution_count": 48,
   "metadata": {},
   "outputs": [],
   "source": [
    "targets_train = ['TipX', 'TipY', 'TipZ']"
   ]
  },
  {
   "cell_type": "code",
   "execution_count": 49,
   "metadata": {},
   "outputs": [],
   "source": [
    "train_data, test_data = sf_electrodes.random_split(0.8)"
   ]
  },
  {
   "cell_type": "code",
   "execution_count": 50,
   "metadata": {},
   "outputs": [],
   "source": [
    "def multi_boosted_tree(dataset, features, targets):\n",
    "    models = []\n",
    "    for target in targets:\n",
    "        reg = tc.boosted_trees_regression.create(dataset, target=target, features = features, verbose=False)\n",
    "        models.append(reg)\n",
    "    return models"
   ]
  },
  {
   "cell_type": "code",
   "execution_count": 51,
   "metadata": {},
   "outputs": [],
   "source": [
    "MBT = multi_boosted_tree(train_data, features_train, targets_train)"
   ]
  },
  {
   "cell_type": "code",
   "execution_count": 52,
   "metadata": {},
   "outputs": [
    {
     "data": {
      "text/plain": [
       "[Class                          : BoostedTreesRegression\n",
       " \n",
       " Schema\n",
       " ------\n",
       " Number of examples             : 672\n",
       " Number of feature columns      : 10\n",
       " Number of unpacked features    : 10\n",
       " \n",
       " Settings\n",
       " --------\n",
       " Number of trees                : 10\n",
       " Max tree depth                 : 6\n",
       " Training time (sec)            : 0.0338\n",
       " Training rmse                  : 3.5824\n",
       " Validation rmse                : 5.6374\n",
       " Training max_error             : 14.876\n",
       " Validation max_error           : 19.057,\n",
       " Class                          : BoostedTreesRegression\n",
       " \n",
       " Schema\n",
       " ------\n",
       " Number of examples             : 672\n",
       " Number of feature columns      : 10\n",
       " Number of unpacked features    : 10\n",
       " \n",
       " Settings\n",
       " --------\n",
       " Number of trees                : 10\n",
       " Max tree depth                 : 6\n",
       " Training time (sec)            : 0.0283\n",
       " Training rmse                  : 3.6181\n",
       " Validation rmse                : 4.3032\n",
       " Training max_error             : 16.9957\n",
       " Validation max_error           : 8.7136,\n",
       " Class                          : BoostedTreesRegression\n",
       " \n",
       " Schema\n",
       " ------\n",
       " Number of examples             : 673\n",
       " Number of feature columns      : 10\n",
       " Number of unpacked features    : 10\n",
       " \n",
       " Settings\n",
       " --------\n",
       " Number of trees                : 10\n",
       " Max tree depth                 : 6\n",
       " Training time (sec)            : 0.0245\n",
       " Training rmse                  : 3.6176\n",
       " Validation rmse                : 3.4488\n",
       " Training max_error             : 16.6124\n",
       " Validation max_error           : 7.0274]"
      ]
     },
     "execution_count": 52,
     "metadata": {},
     "output_type": "execute_result"
    }
   ],
   "source": [
    "MBT"
   ]
  },
  {
   "cell_type": "code",
   "execution_count": 53,
   "metadata": {},
   "outputs": [
    {
     "data": {
      "text/html": [
       "<div style=\"max-height:1000px;max-width:1500px;overflow:auto;\"><table frame=\"box\" rules=\"cols\">\n",
       "    <tr>\n",
       "        <th style=\"padding-left: 1em; padding-right: 1em; text-align: center\">name</th>\n",
       "        <th style=\"padding-left: 1em; padding-right: 1em; text-align: center\">index</th>\n",
       "        <th style=\"padding-left: 1em; padding-right: 1em; text-align: center\">count</th>\n",
       "    </tr>\n",
       "    <tr>\n",
       "        <td style=\"padding-left: 1em; padding-right: 1em; text-align: center; vertical-align: top\">PlanningX</td>\n",
       "        <td style=\"padding-left: 1em; padding-right: 1em; text-align: center; vertical-align: top\">None</td>\n",
       "        <td style=\"padding-left: 1em; padding-right: 1em; text-align: center; vertical-align: top\">62</td>\n",
       "    </tr>\n",
       "    <tr>\n",
       "        <td style=\"padding-left: 1em; padding-right: 1em; text-align: center; vertical-align: top\">PlanningY</td>\n",
       "        <td style=\"padding-left: 1em; padding-right: 1em; text-align: center; vertical-align: top\">None</td>\n",
       "        <td style=\"padding-left: 1em; padding-right: 1em; text-align: center; vertical-align: top\">18</td>\n",
       "    </tr>\n",
       "    <tr>\n",
       "        <td style=\"padding-left: 1em; padding-right: 1em; text-align: center; vertical-align: top\">SkullThickness</td>\n",
       "        <td style=\"padding-left: 1em; padding-right: 1em; text-align: center; vertical-align: top\">None</td>\n",
       "        <td style=\"padding-left: 1em; padding-right: 1em; text-align: center; vertical-align: top\">15</td>\n",
       "    </tr>\n",
       "    <tr>\n",
       "        <td style=\"padding-left: 1em; padding-right: 1em; text-align: center; vertical-align: top\">DuraTipDistancePlanned</td>\n",
       "        <td style=\"padding-left: 1em; padding-right: 1em; text-align: center; vertical-align: top\">None</td>\n",
       "        <td style=\"padding-left: 1em; padding-right: 1em; text-align: center; vertical-align: top\">11</td>\n",
       "    </tr>\n",
       "    <tr>\n",
       "        <td style=\"padding-left: 1em; padding-right: 1em; text-align: center; vertical-align: top\">PlanningZ</td>\n",
       "        <td style=\"padding-left: 1em; padding-right: 1em; text-align: center; vertical-align: top\">None</td>\n",
       "        <td style=\"padding-left: 1em; padding-right: 1em; text-align: center; vertical-align: top\">9</td>\n",
       "    </tr>\n",
       "    <tr>\n",
       "        <td style=\"padding-left: 1em; padding-right: 1em; text-align: center; vertical-align: top\">SkullAngle</td>\n",
       "        <td style=\"padding-left: 1em; padding-right: 1em; text-align: center; vertical-align: top\">None</td>\n",
       "        <td style=\"padding-left: 1em; padding-right: 1em; text-align: center; vertical-align: top\">7</td>\n",
       "    </tr>\n",
       "    <tr>\n",
       "        <td style=\"padding-left: 1em; padding-right: 1em; text-align: center; vertical-align: top\">Contacts</td>\n",
       "        <td style=\"padding-left: 1em; padding-right: 1em; text-align: center; vertical-align: top\">None</td>\n",
       "        <td style=\"padding-left: 1em; padding-right: 1em; text-align: center; vertical-align: top\">5</td>\n",
       "    </tr>\n",
       "    <tr>\n",
       "        <td style=\"padding-left: 1em; padding-right: 1em; text-align: center; vertical-align: top\">SkinSkullDistance</td>\n",
       "        <td style=\"padding-left: 1em; padding-right: 1em; text-align: center; vertical-align: top\">None</td>\n",
       "        <td style=\"padding-left: 1em; padding-right: 1em; text-align: center; vertical-align: top\">4</td>\n",
       "    </tr>\n",
       "    <tr>\n",
       "        <td style=\"padding-left: 1em; padding-right: 1em; text-align: center; vertical-align: top\">ElectrodeType</td>\n",
       "        <td style=\"padding-left: 1em; padding-right: 1em; text-align: center; vertical-align: top\">Oblique</td>\n",
       "        <td style=\"padding-left: 1em; padding-right: 1em; text-align: center; vertical-align: top\">2</td>\n",
       "    </tr>\n",
       "    <tr>\n",
       "        <td style=\"padding-left: 1em; padding-right: 1em; text-align: center; vertical-align: top\">PatientPosition</td>\n",
       "        <td style=\"padding-left: 1em; padding-right: 1em; text-align: center; vertical-align: top\">Supine</td>\n",
       "        <td style=\"padding-left: 1em; padding-right: 1em; text-align: center; vertical-align: top\">2</td>\n",
       "    </tr>\n",
       "</table>\n",
       "[12 rows x 3 columns]<br/>Note: Only the head of the SFrame is printed.<br/>You can use print_rows(num_rows=m, num_columns=n) to print more rows and columns.\n",
       "</div>"
      ],
      "text/plain": [
       "Columns:\n",
       "\tname\tstr\n",
       "\tindex\tstr\n",
       "\tcount\tint\n",
       "\n",
       "Rows: 12\n",
       "\n",
       "Data:\n",
       "+------------------------+---------+-------+\n",
       "|          name          |  index  | count |\n",
       "+------------------------+---------+-------+\n",
       "|       PlanningX        |   None  |   62  |\n",
       "|       PlanningY        |   None  |   18  |\n",
       "|     SkullThickness     |   None  |   15  |\n",
       "| DuraTipDistancePlanned |   None  |   11  |\n",
       "|       PlanningZ        |   None  |   9   |\n",
       "|       SkullAngle       |   None  |   7   |\n",
       "|        Contacts        |   None  |   5   |\n",
       "|   SkinSkullDistance    |   None  |   4   |\n",
       "|     ElectrodeType      | Oblique |   2   |\n",
       "|    PatientPosition     |  Supine |   2   |\n",
       "+------------------------+---------+-------+\n",
       "[12 rows x 3 columns]\n",
       "Note: Only the head of the SFrame is printed.\n",
       "You can use print_rows(num_rows=m, num_columns=n) to print more rows and columns."
      ]
     },
     "execution_count": 53,
     "metadata": {},
     "output_type": "execute_result"
    }
   ],
   "source": [
    "MBT[0].get_feature_importance()"
   ]
  },
  {
   "cell_type": "code",
   "execution_count": 54,
   "metadata": {},
   "outputs": [
    {
     "name": "stdout",
     "output_type": "stream",
     "text": [
      "{'max_error': 7.83831787109375, 'rmse': 3.4636285131727518}\n",
      "{'max_error': 17.87725830078125, 'rmse': 4.141916356029134}\n",
      "{'max_error': 14.180694580078125, 'rmse': 4.060758941797363}\n",
      "{'max_error': 7.83831787109375, 'rmse': 3.4636285131727518}\n"
     ]
    }
   ],
   "source": [
    "# Evaluate the model and save the results into a dictionary\n",
    "#results = \n",
    "for i in range(4):\n",
    "    print(MBT[i-1].evaluate(test_data))"
   ]
  },
  {
   "cell_type": "markdown",
   "metadata": {},
   "source": [
    "### Deep learning\n",
    "\n",
    "As a quick glance to deep learning we will apply a Multilayer Perceptron (MLP) for multi-class softmax classification using stochastic gradient descent as an optimizer. The code is borrowed from the official keras [Sequential model guide](https://keras.io/getting-started/sequential-model-guide/) and adapted where needed. "
   ]
  },
  {
   "cell_type": "code",
   "execution_count": 55,
   "metadata": {},
   "outputs": [],
   "source": [
    "from sklearn.preprocessing import LabelEncoder\n",
    "from sklearn.model_selection import train_test_split\n",
    "from sklearn.preprocessing import StandardScaler"
   ]
  },
  {
   "cell_type": "code",
   "execution_count": 56,
   "metadata": {},
   "outputs": [],
   "source": [
    "X = electrodes[features_train].values\n",
    "#column 0 and 2 are categorical\n",
    "y = electrodes[targets_train].values"
   ]
  },
  {
   "cell_type": "code",
   "execution_count": 57,
   "metadata": {},
   "outputs": [],
   "source": [
    "labelencoder_X_1 = LabelEncoder()\n",
    "X[:, 0] = labelencoder_X_1.fit_transform(X[:, 0])\n",
    "labelencoder_X_2 = LabelEncoder()\n",
    "X[:, 2] = labelencoder_X_2.fit_transform(X[:, 2])"
   ]
  },
  {
   "cell_type": "code",
   "execution_count": 58,
   "metadata": {},
   "outputs": [],
   "source": [
    "X_train, X_test, y_train, y_test = train_test_split(X, y, test_size = 0.2)"
   ]
  },
  {
   "cell_type": "code",
   "execution_count": 59,
   "metadata": {},
   "outputs": [
    {
     "name": "stdout",
     "output_type": "stream",
     "text": [
      "(692, 10)\n",
      "(692, 3)\n",
      "(174, 10)\n",
      "(174, 3)\n"
     ]
    }
   ],
   "source": [
    "# Print shapes again \n",
    "print(X_train.shape)\n",
    "print(y_train.shape)\n",
    "print(X_test.shape)\n",
    "print(y_test.shape)"
   ]
  },
  {
   "cell_type": "code",
   "execution_count": 60,
   "metadata": {},
   "outputs": [],
   "source": [
    "sc = StandardScaler()\n",
    "X_train = sc.fit_transform(X_train)\n",
    "X_test = sc.transform(X_test)"
   ]
  },
  {
   "cell_type": "code",
   "execution_count": 61,
   "metadata": {},
   "outputs": [
    {
     "name": "stderr",
     "output_type": "stream",
     "text": [
      "Using TensorFlow backend.\n"
     ]
    }
   ],
   "source": [
    "from keras.models import Sequential\n",
    "from keras.layers import Dense, Activation, Dropout\n",
    "from keras.optimizers import SGD\n",
    "from keras.utils.np_utils import to_categorical"
   ]
  },
  {
   "cell_type": "code",
   "execution_count": 62,
   "metadata": {},
   "outputs": [],
   "source": [
    "model = Sequential()\n",
    "model.add(Dense(output_dim = 25, activation = 'relu', input_dim = X_train.shape[1])) #(10,)\n",
    "model.add(Dense(output_dim = 25, activation = 'relu'))\n",
    "model.add(Dropout(0.5))\n",
    "model.add(Dense(output_dim = 3, activation = 'linear')) # dim output (3, ) last layer should have linear activations like no activators"
   ]
  },
  {
   "cell_type": "code",
   "execution_count": 63,
   "metadata": {},
   "outputs": [
    {
     "name": "stdout",
     "output_type": "stream",
     "text": [
      "_________________________________________________________________\n",
      "Layer (type)                 Output Shape              Param #   \n",
      "=================================================================\n",
      "dense_1 (Dense)              (None, 25)                275       \n",
      "_________________________________________________________________\n",
      "dense_2 (Dense)              (None, 25)                650       \n",
      "_________________________________________________________________\n",
      "dropout_1 (Dropout)          (None, 25)                0         \n",
      "_________________________________________________________________\n",
      "dense_3 (Dense)              (None, 3)                 78        \n",
      "=================================================================\n",
      "Total params: 1,003\n",
      "Trainable params: 1,003\n",
      "Non-trainable params: 0\n",
      "_________________________________________________________________\n"
     ]
    }
   ],
   "source": [
    "model.summary()"
   ]
  },
  {
   "cell_type": "code",
   "execution_count": 64,
   "metadata": {},
   "outputs": [],
   "source": [
    "#sgd = SGD(lr=0.01, decay=1e-6, momentum=0.9, nesterov=True)\n",
    "model.compile(optimizer = 'adam', loss = 'mean_squared_error', metrics = ['accuracy']) #mse"
   ]
  },
  {
   "cell_type": "code",
   "execution_count": 65,
   "metadata": {},
   "outputs": [
    {
     "data": {
      "text/plain": [
       "<keras.callbacks.History at 0x1a3706a828>"
      ]
     },
     "execution_count": 65,
     "metadata": {},
     "output_type": "execute_result"
    }
   ],
   "source": [
    "model.fit(X_train, y_train, epochs=100, batch_size=2, verbose=0)"
   ]
  },
  {
   "cell_type": "code",
   "execution_count": 66,
   "metadata": {},
   "outputs": [],
   "source": [
    "y_pred = model.predict(X_test)"
   ]
  },
  {
   "cell_type": "code",
   "execution_count": 67,
   "metadata": {},
   "outputs": [
    {
     "name": "stdout",
     "output_type": "stream",
     "text": [
      "174/174 [==============================] - 0s 539us/step\n",
      "\n",
      "\n",
      "rmse: 10.43\n",
      "\n",
      "acc: 0.91\n"
     ]
    }
   ],
   "source": [
    "scores = model.evaluate(X_test, y_test, batch_size=2)\n",
    "print('\\n\\nrmse: {:.2f}\\n\\n{}: {:.2f}'.format(np.sqrt(scores[0]) ,\n",
    "                                            model.metrics_names[1], scores[1],))"
   ]
  },
  {
   "cell_type": "code",
   "execution_count": null,
   "metadata": {},
   "outputs": [],
   "source": []
  }
 ],
 "metadata": {
  "kernelspec": {
   "display_name": "Python 3",
   "language": "python",
   "name": "python3"
  },
  "language_info": {
   "codemirror_mode": {
    "name": "ipython",
    "version": 3
   },
   "file_extension": ".py",
   "mimetype": "text/x-python",
   "name": "python",
   "nbconvert_exporter": "python",
   "pygments_lexer": "ipython3",
   "version": "3.6.5"
  }
 },
 "nbformat": 4,
 "nbformat_minor": 2
}
