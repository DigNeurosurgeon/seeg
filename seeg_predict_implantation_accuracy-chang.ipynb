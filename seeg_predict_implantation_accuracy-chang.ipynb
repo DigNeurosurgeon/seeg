{
 "cells": [
  {
   "cell_type": "markdown",
   "metadata": {},
   "source": [
    "# Comparing machine learning approaches to predict SEEG accuracy\n",
    "\n",
    "[![DOI](https://zenodo.org/badge/99125443.svg)](https://zenodo.org/badge/latestdoi/99125443)\n",
    "\n",
    "Stereoencephalography (SEEG) is a technique used in drug-resistant epilepsy patients that may be a candidate for surgical resection of the epileptogenic zone. Multiple electrodes are placed using a so-called \"frame based\" stereotactic approach, in our case using the [Leksell frame](https://www.elekta.com/neurosurgery/leksell-stereotactic-system/). In our previous paper \"[Methodology, outcome, safety and in vivo accuracy in traditional frame-based stereoelectroencephalography](https://www.ncbi.nlm.nih.gov/pubmed/28676892)\" by Van der Loo et al (2017) we reported on SEEG electrode implantation accuracy in a cohort of 71 patients who were operated between September 2008 and April 2016, in whom a total of 902 electrodes were implanted. Data for in vivo application accuracy analysis were available for 866 electrodes.\n",
    "\n",
    "The goal of the current project is to use a public version of this dataset (without any personal identifiers) to predict electrode implantation accuracy by using and comparing different machine learning approaches. \n",
    "\n",
    "[Pieter Kubben](http://dign.eu), MD, PhD<br/>\n",
    "neurosurgeon @ [Maastricht University Medical Center](https://www.mumc.nl/en), The Netherlands\n",
    "\n",
    "For any questions you can reach me by [email](mailto:p.kubben@mumc.nl) or on [Twitter](http://twitter.com/DigNeurosurgeon)."
   ]
  },
  {
   "cell_type": "markdown",
   "metadata": {},
   "source": [
    "## Data description\n",
    "\n",
    "The public dataset contains these variables:\n",
    "\n",
    "- *PatientPosition*: patient position during surgery (nominal: supine, prone)\n",
    "- *Contacts*: nr of contacts of electrode implanted (ordinal: 5, 8, 10, 12, 15, 18)\n",
    "- *ElectrodeType*: describes trajectory type (nominal: oblique, orthogonal). Oblique refers to implantation using the Leksell arc, and orthogonal using a dedicated L-piece mounted on the frame (mostly implants in temporal lobe) when arc angles become too high (approx > 155&deg;) or too low (approx < 25&deg;)\n",
    "- *PlanningX*: planned Cartesian X coord of target (numeric, in mm)\n",
    "- *PlanningY*: planned Cartesian Y coord of target (numeric, in mm)\n",
    "- *PlanningZ*: planned Cartesian Z coord of target (numeric, in mm)\n",
    "- *PlanningRing*: planned ring coord, the trajectory direction in sagittal plane (numeric, in degrees); defines entry\n",
    "- *PlanningArc*: planned arc coord (trajectory direction in coronal plane (numeric, in degrees); defines entry\n",
    "- *DuraTipDistancePlanned*: distance from dura mater (outer sheet covering the brain surface) to target (numeric, in mm)\n",
    "- *EntryX*: real Cartesian X coord of entry point (numeric, in mm)\n",
    "- *EntryY*: real Cartesian Y coord of entry point (numeric, in mm)\n",
    "- *EntryZ*: real Cartesian Z coord of entry point (numeric, in mm)\n",
    "- *TipX*: real Cartesian X coord of target point (numeric, in mm)\n",
    "- *TipY*: real Cartesian Y coord of target point (numeric, in mm)\n",
    "- *TipZ*: real Cartesian Z coord of target point (numeric, in mm)\n",
    "- *SkinSkullDistance*: distance between skin surfacce and skull surface (numeric, in mm)\n",
    "- *SkullThickness*: skull thickness (numeric, in mm)\n",
    "- *SkullAngle*: insertion angle of electrode relative to skull (numeric, in degrees)\n",
    "- *ScrewLength*: length of bone screw used to guide and fixate electrode (ordinal: 20, 25, 30, 35 mm)\n",
    "\n",
    "The electrodes are the [Microdeep depth electrodes](http://www.diximedical.com/en/microdeep-depth-electrode) by DIXI Medical.\n",
    "\n",
    "To the limited extent possible in this case I tried to make these [FAIR data](https://www.nature.com/articles/sdata201618) and adhere to [FAIR guiding principles](https://www.nature.com/articles/sdata201618#bx2). In practice this meant I introduced the topic, described my data and created a [DOI](https://zenodo.org/badge/latestdoi/99125443).\n",
    "\n",
    "Now let's get started."
   ]
  },
  {
   "cell_type": "code",
   "execution_count": 169,
   "metadata": {},
   "outputs": [],
   "source": [
    "# import libraries\n",
    "import numpy as np\n",
    "import pandas as pd\n",
    "import matplotlib.pyplot as plt\n",
    "import seaborn as sns; sns.set()\n",
    "%matplotlib inline\n",
    "import warnings; warnings.simplefilter('ignore')\n",
    "%xmode plain; # shorter error messages\n",
    "\n",
    "# global setting whether to save figures or not\n",
    "# will save as 300 dpi PNG - all filenames start with \"fig_\"\n",
    "save_figures = False"
   ]
  },
  {
   "cell_type": "code",
   "execution_count": 170,
   "metadata": {},
   "outputs": [
    {
     "name": "stdout",
     "output_type": "stream",
     "text": [
      "Nr of rows with missing values: 823\n"
     ]
    }
   ],
   "source": [
    "# load data\n",
    "electrodes = pd.read_csv('electrodes_public.csv')\n",
    "\n",
    "# find missing values\n",
    "nan_rows = sum([True for idx,row in electrodes.iterrows() if any(row.isnull())])\n",
    "print('Nr of rows with missing values:', nan_rows)"
   ]
  },
  {
   "cell_type": "markdown",
   "metadata": {},
   "source": [
    "We will calculate target point localization error (TPLE) using the [Euclidean distance](https://en.wikipedia.org/wiki/Euclidean_distance) and remove the entry data as we won't be using them (still wanted to share them in dataset though)."
   ]
  },
  {
   "cell_type": "code",
   "execution_count": 171,
   "metadata": {},
   "outputs": [
    {
     "data": {
      "text/html": [
       "<div>\n",
       "<style>\n",
       "    .dataframe thead tr:only-child th {\n",
       "        text-align: right;\n",
       "    }\n",
       "\n",
       "    .dataframe thead th {\n",
       "        text-align: left;\n",
       "    }\n",
       "\n",
       "    .dataframe tbody tr th {\n",
       "        vertical-align: top;\n",
       "    }\n",
       "</style>\n",
       "<table border=\"1\" class=\"dataframe\">\n",
       "  <thead>\n",
       "    <tr style=\"text-align: right;\">\n",
       "      <th></th>\n",
       "      <th>PatientPosition</th>\n",
       "      <th>Contacts</th>\n",
       "      <th>ElectrodeType</th>\n",
       "      <th>PlanningX</th>\n",
       "      <th>PlanningY</th>\n",
       "      <th>PlanningZ</th>\n",
       "      <th>PlanningRing</th>\n",
       "      <th>PlanningArc</th>\n",
       "      <th>DuraTipDistancePlanned</th>\n",
       "      <th>TipX</th>\n",
       "      <th>TipY</th>\n",
       "      <th>TipZ</th>\n",
       "      <th>SkinSkullDistance</th>\n",
       "      <th>SkullThickness</th>\n",
       "      <th>SkullAngle</th>\n",
       "      <th>ScrewLength</th>\n",
       "      <th>TPLE</th>\n",
       "    </tr>\n",
       "  </thead>\n",
       "  <tbody>\n",
       "    <tr>\n",
       "      <th>0</th>\n",
       "      <td>Supine</td>\n",
       "      <td>18.0</td>\n",
       "      <td>Oblique</td>\n",
       "      <td>125.8</td>\n",
       "      <td>106.5</td>\n",
       "      <td>135.5</td>\n",
       "      <td>154.6</td>\n",
       "      <td>90.2</td>\n",
       "      <td>86.6</td>\n",
       "      <td>126.4</td>\n",
       "      <td>106.8</td>\n",
       "      <td>135.2</td>\n",
       "      <td>7.0</td>\n",
       "      <td>9.7</td>\n",
       "      <td>70.3</td>\n",
       "      <td>25.0</td>\n",
       "      <td>0.7</td>\n",
       "    </tr>\n",
       "    <tr>\n",
       "      <th>1</th>\n",
       "      <td>Supine</td>\n",
       "      <td>18.0</td>\n",
       "      <td>Oblique</td>\n",
       "      <td>130.6</td>\n",
       "      <td>131.0</td>\n",
       "      <td>136.4</td>\n",
       "      <td>155.4</td>\n",
       "      <td>96.6</td>\n",
       "      <td>105.9</td>\n",
       "      <td>134.7</td>\n",
       "      <td>132.9</td>\n",
       "      <td>136.0</td>\n",
       "      <td>9.4</td>\n",
       "      <td>7.4</td>\n",
       "      <td>63.8</td>\n",
       "      <td>30.0</td>\n",
       "      <td>4.5</td>\n",
       "    </tr>\n",
       "    <tr>\n",
       "      <th>2</th>\n",
       "      <td>Supine</td>\n",
       "      <td>10.0</td>\n",
       "      <td>Oblique</td>\n",
       "      <td>139.1</td>\n",
       "      <td>104.9</td>\n",
       "      <td>124.0</td>\n",
       "      <td>131.1</td>\n",
       "      <td>146.0</td>\n",
       "      <td>35.2</td>\n",
       "      <td>139.1</td>\n",
       "      <td>108.3</td>\n",
       "      <td>124.4</td>\n",
       "      <td>9.8</td>\n",
       "      <td>5.5</td>\n",
       "      <td>66.4</td>\n",
       "      <td>30.0</td>\n",
       "      <td>3.4</td>\n",
       "    </tr>\n",
       "    <tr>\n",
       "      <th>3</th>\n",
       "      <td>Supine</td>\n",
       "      <td>10.0</td>\n",
       "      <td>Oblique</td>\n",
       "      <td>137.7</td>\n",
       "      <td>112.2</td>\n",
       "      <td>115.0</td>\n",
       "      <td>96.2</td>\n",
       "      <td>137.1</td>\n",
       "      <td>35.9</td>\n",
       "      <td>136.4</td>\n",
       "      <td>115.2</td>\n",
       "      <td>115.0</td>\n",
       "      <td>8.4</td>\n",
       "      <td>6.5</td>\n",
       "      <td>66.3</td>\n",
       "      <td>25.0</td>\n",
       "      <td>3.3</td>\n",
       "    </tr>\n",
       "    <tr>\n",
       "      <th>4</th>\n",
       "      <td>Supine</td>\n",
       "      <td>12.0</td>\n",
       "      <td>Oblique</td>\n",
       "      <td>126.0</td>\n",
       "      <td>76.0</td>\n",
       "      <td>124.1</td>\n",
       "      <td>159.1</td>\n",
       "      <td>156.3</td>\n",
       "      <td>39.5</td>\n",
       "      <td>124.6</td>\n",
       "      <td>75.8</td>\n",
       "      <td>126.8</td>\n",
       "      <td>7.4</td>\n",
       "      <td>4.6</td>\n",
       "      <td>84.7</td>\n",
       "      <td>25.0</td>\n",
       "      <td>3.0</td>\n",
       "    </tr>\n",
       "  </tbody>\n",
       "</table>\n",
       "</div>"
      ],
      "text/plain": [
       "  PatientPosition  Contacts ElectrodeType  PlanningX  PlanningY  PlanningZ  \\\n",
       "0          Supine      18.0       Oblique      125.8      106.5      135.5   \n",
       "1          Supine      18.0       Oblique      130.6      131.0      136.4   \n",
       "2          Supine      10.0       Oblique      139.1      104.9      124.0   \n",
       "3          Supine      10.0       Oblique      137.7      112.2      115.0   \n",
       "4          Supine      12.0       Oblique      126.0       76.0      124.1   \n",
       "\n",
       "   PlanningRing  PlanningArc  DuraTipDistancePlanned   TipX   TipY   TipZ  \\\n",
       "0         154.6         90.2                    86.6  126.4  106.8  135.2   \n",
       "1         155.4         96.6                   105.9  134.7  132.9  136.0   \n",
       "2         131.1        146.0                    35.2  139.1  108.3  124.4   \n",
       "3          96.2        137.1                    35.9  136.4  115.2  115.0   \n",
       "4         159.1        156.3                    39.5  124.6   75.8  126.8   \n",
       "\n",
       "   SkinSkullDistance  SkullThickness  SkullAngle  ScrewLength  TPLE  \n",
       "0                7.0             9.7        70.3         25.0   0.7  \n",
       "1                9.4             7.4        63.8         30.0   4.5  \n",
       "2                9.8             5.5        66.4         30.0   3.4  \n",
       "3                8.4             6.5        66.3         25.0   3.3  \n",
       "4                7.4             4.6        84.7         25.0   3.0  "
      ]
     },
     "execution_count": 171,
     "metadata": {},
     "output_type": "execute_result"
    }
   ],
   "source": [
    "# calculate TPLE and remove entry data from dataframe\n",
    "electrodes['TPLE'] = np.sqrt(np.square(electrodes['TipX'] - electrodes['PlanningX']) + \n",
    "                              np.square(electrodes['TipY'] - electrodes['PlanningY']) + \n",
    "                              np.square(electrodes['TipZ'] - electrodes['PlanningZ'])\n",
    "                             ).round(1)\n",
    "electrodes.drop(['EntryX', 'EntryY', 'EntryZ'], axis = 1, inplace = True)\n",
    "electrodes.head()"
   ]
  },
  {
   "cell_type": "code",
   "execution_count": 172,
   "metadata": {},
   "outputs": [],
   "source": [
    "#electrodes"
   ]
  },
  {
   "cell_type": "markdown",
   "metadata": {},
   "source": [
    "Now we will remove large outliers (difference between planned and real coord) in the Z-axis as electrode insertion length (depth) is influenced also by other factors (calculations regarding depth which could lead to either too superficial or too deep, but also possible malfixation of the screw cap which may cause loosening of the electrode and hence a more superficial position.. it won't migrate into the depth spontaneously). These are very limited numbers and would too much influence further analysis."
   ]
  },
  {
   "cell_type": "code",
   "execution_count": 173,
   "metadata": {},
   "outputs": [
    {
     "name": "stdout",
     "output_type": "stream",
     "text": [
      "Outliers in Z axis (> 10mm):\n",
      "\n",
      " 446    14.8\n",
      "462    14.5\n",
      "463    11.2\n",
      "508    45.8\n",
      "612    14.2\n",
      "632    20.0\n",
      "Name: TPLE, dtype: float64\n",
      "\n",
      "New dataframe shape: (860, 17)\n"
     ]
    }
   ],
   "source": [
    "# check for outliers in Z axis\n",
    "large_depth_error = electrodes[np.abs(electrodes['PlanningZ'] - electrodes['TipZ']) > 10]\n",
    "print('Outliers in Z axis (> 10mm):\\n\\n', large_depth_error['TPLE'])\n",
    "\n",
    "# remove outliers\n",
    "electrodes.drop(large_depth_error.index, inplace = True)\n",
    "print('\\nNew dataframe shape:', electrodes.shape) # removed 6 rows"
   ]
  },
  {
   "cell_type": "markdown",
   "metadata": {},
   "source": [
    "We need to structure our data properly for further analysis and convert the categorical variables (nominal, ordinal) to the `category` type."
   ]
  },
  {
   "cell_type": "code",
   "execution_count": 174,
   "metadata": {},
   "outputs": [
    {
     "data": {
      "text/plain": [
       "PatientPosition           category\n",
       "Contacts                  category\n",
       "ElectrodeType             category\n",
       "PlanningX                  float64\n",
       "PlanningY                  float64\n",
       "PlanningZ                  float64\n",
       "PlanningRing               float64\n",
       "PlanningArc                float64\n",
       "DuraTipDistancePlanned     float64\n",
       "TipX                       float64\n",
       "TipY                       float64\n",
       "TipZ                       float64\n",
       "SkinSkullDistance          float64\n",
       "SkullThickness             float64\n",
       "SkullAngle                 float64\n",
       "ScrewLength               category\n",
       "TPLE                       float64\n",
       "dtype: object"
      ]
     },
     "execution_count": 174,
     "metadata": {},
     "output_type": "execute_result"
    }
   ],
   "source": [
    "# convert categorical columns to \"category\" dtype\n",
    "catcols = ['PatientPosition', 'Contacts', 'ElectrodeType', 'ScrewLength']\n",
    "for cat in catcols:\n",
    "    electrodes[cat] = electrodes[cat].astype('category')\n",
    "\n",
    "# confirm correct types for all columns now\n",
    "electrodes.dtypes"
   ]
  },
  {
   "cell_type": "markdown",
   "metadata": {},
   "source": [
    "Let's get a short description of our TPLE data."
   ]
  },
  {
   "cell_type": "code",
   "execution_count": 175,
   "metadata": {},
   "outputs": [
    {
     "data": {
      "text/plain": [
       "count    860.0\n",
       "mean       3.4\n",
       "std        2.3\n",
       "min        0.2\n",
       "25%        2.0\n",
       "50%        2.9\n",
       "75%        4.1\n",
       "max       19.8\n",
       "Name: TPLE, dtype: float64"
      ]
     },
     "execution_count": 175,
     "metadata": {},
     "output_type": "execute_result"
    }
   ],
   "source": [
    "# get summary data on TPLE\n",
    "tple = electrodes['TPLE']\n",
    "tple.describe().round(1)"
   ]
  },
  {
   "cell_type": "markdown",
   "metadata": {},
   "source": [
    "We now have data in the right format, but for classification we need to bin the *continuous* outcome variables EPLE and TPLE into categories. Alternatively we could approach this as a regression problem, but given the relative limited amount of data classification should lead to a better prediction model that is still relevant for potential clinical use.\n",
    "\n",
    "Let's create a new variable `TPLE category` for this purpose."
   ]
  },
  {
   "cell_type": "markdown",
   "metadata": {},
   "source": [
    "# Chang: \n",
    "I added some code here to do regression by using basic neural network from Scikit Learing package. >\n",
    "I am not sure if I get your point about the purpose of this prediction. Pedro and I discussed in this week, \n",
    "we listed 3 possible purpoes of this prediction:\n",
    "      1. Predict real Cartesian X, Y, Z coord of target point: for optimizing planning coord (Doctor can change \n",
    "      their plan before the surgery)\n",
    "      2. Predict TPLE (the error between planning and real target point): for predicting human error (Doctor will \n",
    "      not change their plan, but they can decide if they operate the surgery according to the predicted error)\n",
    "      3. Find the charactistics of the surgery: for figuring out which feature causes errors.\n",
    "\n",
    "However, TipX, TipY, TipX cannot be regarded as training features in any case. They should be target (predictable) \n",
    "features. So, no matter which classification or regression we are going to do, TipX, TipY, and TipZ need to be \n",
    "removed from training matrix.\n",
    "\n",
    "I tried one basic neural network from Scikit learn to predict TipX, TipY, TipZ. This model is assumed to be used \n",
    "before the surgery. Doctors input their planning coord, patient postion, electron type and other features, then \n",
    "they get the predicted coord of target point from model. "
   ]
  },
  {
   "cell_type": "code",
   "execution_count": 176,
   "metadata": {},
   "outputs": [],
   "source": [
    "from collections import Counter\n",
    "from sklearn import neighbors\n",
    "from sklearn.neural_network import MLPRegressor\n",
    "from sklearn.model_selection import cross_val_score \n",
    "from sklearn.metrics import r2_score, mean_squared_error, mean_absolute_error"
   ]
  },
  {
   "cell_type": "code",
   "execution_count": 177,
   "metadata": {},
   "outputs": [
    {
     "name": "stdout",
     "output_type": "stream",
     "text": [
      "Number of missing value in PlanningRing: 269\n",
      "Number of missing value in PlanningArc: 269\n",
      "Number of missing value in DuraTipDistancePlanned: 54\n",
      "Number of missing value in ScrewLength: 534\n",
      "Number of missing value in Contacts: 56\n"
     ]
    }
   ],
   "source": [
    "print(\"Number of missing value in PlanningRing:\", Counter(electrodes[ 'PlanningRing'].isnull())[True])\n",
    "print(\"Number of missing value in PlanningArc:\", Counter(electrodes[ 'PlanningArc'].isnull())[True])\n",
    "print(\"Number of missing value in DuraTipDistancePlanned:\", Counter(electrodes[ 'DuraTipDistancePlanned'].isnull())[True])\n",
    "print(\"Number of missing value in ScrewLength:\", Counter(electrodes[ 'ScrewLength'].isnull())[True])\n",
    "print(\"Number of missing value in Contacts:\", Counter(electrodes['Contacts'].isnull())[True])"
   ]
  },
  {
   "cell_type": "markdown",
   "metadata": {},
   "source": [
    "For making it simple, I am going to use complete real data sets instead of filling the missing values. For features, \"ScrewLength\" have a lot of missing values, so I am not going to use it in my model. \"ScrewLength\" will influence the quality of regression model. I will remove the users with missing values in \"DuraTipDistancePlanned\" and \"Contacts\". Then I will show both results of with and without \"PlanningRing\" and \"PlanningArc\"."
   ]
  },
  {
   "cell_type": "code",
   "execution_count": 178,
   "metadata": {},
   "outputs": [
    {
     "name": "stdout",
     "output_type": "stream",
     "text": [
      "Number of instances: 767\n"
     ]
    }
   ],
   "source": [
    "PlanningRing = electrodes['PlanningRing']\n",
    "PlanningArc = electrodes['PlanningArc']\n",
    "electrodes=electrodes.drop(['PlanningRing', 'PlanningArc', 'ScrewLength'], axis=1)\n",
    "new_electrodes=electrodes[np.invert(pd.isnull(electrodes).any(axis=1))]\n",
    "PlanningRing=PlanningRing[np.invert(pd.isnull(electrodes).any(axis=1))]\n",
    "PlanningArc=PlanningArc[np.invert(pd.isnull(electrodes).any(axis=1))]\n",
    "new_electrodes = new_electrodes.assign(PlanningRing=pd.Series(PlanningRing).values)\n",
    "new_electrodes = new_electrodes.assign(PlanningArc=pd.Series(PlanningArc).values)\n",
    "print('Number of instances:', len(new_electrodes))"
   ]
  },
  {
   "cell_type": "code",
   "execution_count": 179,
   "metadata": {},
   "outputs": [],
   "source": [
    "# I transformed the string in PatientPosition and ElectrodeType into numbers\n",
    "# to make it easy to predict.\n",
    "rep_pat=[]\n",
    "rep_ele=[]\n",
    "for i in range(0, len(new_electrodes['PatientPosition'])):\n",
    "    try :\n",
    "        if new_electrodes['PatientPosition'][i] == 'Prone': \n",
    "            rep_pat.append(1)\n",
    "        elif new_electrodes['PatientPosition'][i] == 'Supine':\n",
    "            rep_pat.append(2)\n",
    "    except:\n",
    "        rep_pat.append(0)\n",
    "    \n",
    "for i in range(0, len(new_electrodes['ElectrodeType'])):\n",
    "    try:\n",
    "        if new_electrodes['ElectrodeType'][i] == 'Oblique': \n",
    "            rep_ele.append(1)\n",
    "        elif new_electrodes['ElectrodeType'][i] == 'Orthogonal':\n",
    "            rep_ele.append(2)\n",
    "    except:\n",
    "        rep_ele.append(0)\n",
    "        \n",
    "new_electrodes = new_electrodes.drop(['PatientPosition', 'ElectrodeType'], axis=1)\n",
    "new_electrodes = new_electrodes.assign(PatientPosition=pd.Series(rep_pat).values)\n",
    "new_electrodes = new_electrodes.assign(ElectrodeType=pd.Series(rep_ele).values)"
   ]
  },
  {
   "cell_type": "markdown",
   "metadata": {},
   "source": [
    "# Plot 4 cases:\n",
    "1. Prone postion + Oblique electron type\n",
    "2. Prone postion + Orthogonal electron type\n",
    "3. Subine postion + Oblique electron type\n",
    "4. Subine postion + Orthogonal electron type\n",
    "\n",
    "You can see from the following figure, \"4. Subine postion + Orthogonal electron type\" has the best performance in these surgeries because of its lowest TPLE.  \"3. Subine postion + Oblique electron type\" has very focus TPLE value which means in this case doctors always get this difference between their planning and real points. Additionally, \"2. Prone postion + Orthogonal electron type\" is not stable. Dockers are easy to get big TPLE (>5)."
   ]
  },
  {
   "cell_type": "code",
   "execution_count": 180,
   "metadata": {},
   "outputs": [
    {
     "data": {
      "text/plain": [
       "<matplotlib.axes._subplots.AxesSubplot at 0x1a23b83390>"
      ]
     },
     "execution_count": 180,
     "metadata": {},
     "output_type": "execute_result"
    },
    {
     "data": {
      "image/png": "[encoded data removed]",
      "text/plain": [
       "<matplotlib.figure.Figure at 0x1a172140f0>"
      ]
     },
     "metadata": {},
     "output_type": "display_data"
    }
   ],
   "source": [
    "ObliqueType = new_electrodes[new_electrodes.ElectrodeType == 1] \n",
    "OrthogonalType = new_electrodes[new_electrodes.ElectrodeType == 2] \n",
    "PronePosition = new_electrodes[new_electrodes.PatientPosition == 1] \n",
    "SupinePosition = new_electrodes[new_electrodes.PatientPosition == 2] \n",
    "\n",
    "plt.figure(figsize=[16, 8])\n",
    "# sns.kdeplot(drop_target['TPLE'], label='all')\n",
    "sns.kdeplot(PronePosition[PronePosition['ElectrodeType']==1]['TPLE'], label='Prone--Oblique')\n",
    "sns.kdeplot(PronePosition[PronePosition['ElectrodeType']==2]['TPLE'], label='Prone--Orthogonal')\n",
    "sns.kdeplot(SupinePosition[SupinePosition['ElectrodeType']==1]['TPLE'], label='Subine--Oblique')\n",
    "sns.kdeplot(SupinePosition[SupinePosition['ElectrodeType']==2]['TPLE'], label='Subine--Orthogonal')"
   ]
  },
  {
   "cell_type": "markdown",
   "metadata": {},
   "source": [
    "Here, I did two experiments based on two conditions -- one: I removed PlanningRing and PlanningArc features because they include too many missing value, but keep all instances (patients)"
   ]
  },
  {
   "cell_type": "code",
   "execution_count": 181,
   "metadata": {},
   "outputs": [],
   "source": [
    "mis_target = new_electrodes['TPLE']\n",
    "mis_target_X=new_electrodes['TipX']\n",
    "mis_target_Y=new_electrodes['TipY']\n",
    "mis_target_Z=new_electrodes['TipZ']\n",
    "mis_electrodes = new_electrodes.drop(['PlanningRing', 'PlanningArc', 'TipX', 'TipY', 'TipZ', 'TPLE'], axis=1) "
   ]
  },
  {
   "cell_type": "markdown",
   "metadata": {},
   "source": [
    "Two: I removed all instances (patients) which has missing values but keep PlanningRing and PlanningArc features. "
   ]
  },
  {
   "cell_type": "code",
   "execution_count": 182,
   "metadata": {},
   "outputs": [],
   "source": [
    "cpt_electrodes=new_electrodes[np.invert(pd.isnull(new_electrodes).any(axis=1))]\n",
    "cpt_target = cpt_electrodes['TPLE']\n",
    "cpt_target_X=cpt_electrodes['TipX']\n",
    "cpt_target_Y=cpt_electrodes['TipY']\n",
    "cpt_target_Z=cpt_electrodes['TipZ']\n",
    "cpt_electrodes = cpt_electrodes.drop(['TipX', 'TipY', 'TipZ', 'TPLE'], axis=1) "
   ]
  },
  {
   "cell_type": "markdown",
   "metadata": {},
   "source": [
    "I predicted TipX TipY TipZ and used r2 and explained variance as evaluation scores. Best possible is 1.0 Here is the link you can find what is r2 and explained variance \n",
    "\n",
    "R2: https://en.wikipedia.org/wiki/Coefficient_of_determination\n",
    "Explained Variance: https://en.wikipedia.org/wiki/Explained_variation"
   ]
  },
  {
   "cell_type": "code",
   "execution_count": 183,
   "metadata": {},
   "outputs": [
    {
     "name": "stdout",
     "output_type": "stream",
     "text": [
      "Ave:  0.992300973799\n"
     ]
    }
   ],
   "source": [
    "train = cpt_electrodes # mis_electrodes\n",
    "target = np.transpose([cpt_target_X,cpt_target_Y,cpt_target_Z]) \n",
    "nn = MLPRegressor(activation='identity', solver='lbfgs', max_iter=1000, \\\n",
    "                  random_state=6, hidden_layer_sizes=20)\n",
    "cvscore = cross_val_score(nn, train, target, scoring = 'r2', cv = 10) #explained_variance #neg_mean_squared_error\n",
    "# print('10-fold cross-validation score:', cvscore) \n",
    "print('Ave: ', np.mean(cvscore))"
   ]
  },
  {
   "cell_type": "markdown",
   "metadata": {},
   "source": [
    "# Conclusion:\n",
    "You can see from the results, regression is totally doable. Currently, the regression model is very basic which can be improved in the future if needed. If you want to go further in regression part, we can discuss more details. Thanks!"
   ]
  },
  {
   "cell_type": "code",
   "execution_count": null,
   "metadata": {
    "scrolled": true
   },
   "outputs": [],
   "source": [
    "# # Fit regression model\n",
    "# n_neighbors = 12\n",
    "# err = []\n",
    "# for i, weights in enumerate(['distance']): #'uniform',\n",
    "#     knn = neighbors.KNeighborsRegressor(n_neighbors, weights=weights)\n",
    "#     y_pred = knn.fit(X_train, y_train).predict(X_test)\n",
    "    \n",
    "#     for i in range(0, len(y_test)):\n",
    "#         print(list(y_test)[i], list(y_pred)[i], list(y_test)[i]-list(y_pred)[i])\n",
    "#         err.append(list(y_test)[i]-list(y_pred)[i])\n",
    "#     #print('MAE', r2_score(y_test, y_pred)) #mean_absolute_error\n",
    "#     print('RSS', mean_squared_error(y_test, y_pred)) #mean_absolute_error mean_squared_error\n",
    "# np.sqrt(mean_squared_error(y_test, y_pred))"
   ]
  },
  {
   "cell_type": "code",
   "execution_count": 133,
   "metadata": {},
   "outputs": [],
   "source": [
    "# temp=np.transpose([list(X_test['PlanningX']),list(X_test['PlanningY']),list(X_test['PlanningZ'])])\n",
    "# com = pd.DataFrame.from_records(temp)\n",
    "# com.columns = ['planX', 'planY', 'planZ']\n",
    "# com = com.assign(TipX=pd.Series(y_test[:, 0]).values)\n",
    "# com = com.assign(TipY=pd.Series(y_test[:, 1]).values)\n",
    "# com = com.assign(TipZ=pd.Series(y_test[:, 2]).values)\n",
    "# com = com.assign(predX=pd.Series(y_pred[:, 0]).values)\n",
    "# com = com.assign(predY=pd.Series(y_pred[:, 1]).values)\n",
    "# com = com.assign(predZ=pd.Series(y_pred[:, 2]).values)\n",
    "# pred_point = np.sqrt(np.square(com['predX'] - com['planX']) + \n",
    "#                               np.square(com['predY'] - com['planY']) + \n",
    "#                               np.square(com['predZ'] - com['planZ'])\n",
    "#                              ).round(1)\n",
    "# tip_point = np.sqrt(np.square(com['TipX'] - com['planX']) + \n",
    "#                               np.square(com['TipY'] - com['planY']) + \n",
    "#                               np.square(com['TipZ'] - com['planZ'])\n",
    "#                              ).round(1)\n",
    "# com = com.assign(pred_point=pd.Series(pred_point).values)\n",
    "# com = com.assign(tip_point=pd.Series(tip_point).values)\n",
    "# print('RSS', mean_squared_error(tip_point, pred_point))\n",
    "# com"
   ]
  },
  {
   "cell_type": "code",
   "execution_count": 134,
   "metadata": {},
   "outputs": [],
   "source": [
    "# from sklearn.tree import ExtraTreeRegressor\n",
    "# from collections import Counter\n",
    "# # Build a forest and compute the feature importances\n",
    "# forest = ExtraTreeRegressor()\n",
    "\n",
    "# forest.fit(train, target)\n",
    "# importances = forest.feature_importances_\n",
    "# # std = np.std([tree.feature_importances_ for tree in forest.estimators_], axis=0)\n",
    "# indices = np.argsort(importances)[::-1]\n",
    "\n",
    "# # Print the feature ranking\n",
    "# print(\"Feature ranking:\")\n",
    "\n",
    "# for f in range(train.shape[1]):\n",
    "#     print(\"%d. feature %d %s (%f)\" % (f + 1, indices[f], train.columns[indices[f]], importances[indices[f]]))\n",
    "\n",
    "# # Plot the feature importances of the forest\n",
    "# plt.figure()\n",
    "# plt.title(\"Feature importances\")\n",
    "# plt.bar(range(train.shape[1]), importances[indices],\n",
    "#        color=\"r\", align=\"center\")\n",
    "# plt.xticks(range(train.shape[1]), indices)\n",
    "# plt.xlim([-1, train.shape[1]])\n",
    "# plt.show()"
   ]
  },
  {
   "cell_type": "code",
   "execution_count": null,
   "metadata": {},
   "outputs": [],
   "source": []
  }
 ],
 "metadata": {
  "kernelspec": {
   "display_name": "Python 3",
   "language": "python",
   "name": "python3"
  },
  "language_info": {
   "codemirror_mode": {
    "name": "ipython",
    "version": 3
   },
   "file_extension": ".py",
   "mimetype": "text/x-python",
   "name": "python",
   "nbconvert_exporter": "python",
   "pygments_lexer": "ipython3",
   "version": "3.6.2"
  }
 },
 "nbformat": 4,
 "nbformat_minor": 2
}
